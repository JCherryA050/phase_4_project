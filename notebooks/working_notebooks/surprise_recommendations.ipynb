{
  "nbformat": 4,
  "nbformat_minor": 0,
  "metadata": {
    "kernelspec": {
      "display_name": "Python (learn-env)",
      "language": "python",
      "name": "learn-env"
    },
    "language_info": {
      "codemirror_mode": {
        "name": "ipython",
        "version": 3
      },
      "file_extension": ".py",
      "mimetype": "text/x-python",
      "name": "python",
      "nbconvert_exporter": "python",
      "pygments_lexer": "ipython3",
      "version": "3.8.5"
    },
    "colab": {
      "name": "Copy of Untitled.ipynb",
      "provenance": []
    }
  },
  "cells": [
    {
      "cell_type": "markdown",
      "metadata": {
        "id": "B9ikdraBcqEN"
      },
      "source": [
        "# Adnime Recommendations with Surprise"
      ]
    },
    {
      "cell_type": "markdown",
      "metadata": {
        "id": "8wrgJcxabdXT"
      },
      "source": [
        "## Load in the necessary packages and get a quick look at the data"
      ]
    },
    {
      "cell_type": "code",
      "metadata": {
        "id": "JOdrXvkDnRHC",
        "colab": {
          "base_uri": "https://localhost:8080/"
        },
        "outputId": "abadb3bc-3e62-498c-94d5-6e9f21cae7cb"
      },
      "source": [
        "# Surprise is not downloaded in Google Colab instance so we have to download the packages first\n",
        "!pip install surprise"
      ],
      "execution_count": 1,
      "outputs": [
        {
          "output_type": "stream",
          "text": [
            "Requirement already satisfied: surprise in /usr/local/lib/python3.7/dist-packages (0.1)\n",
            "Requirement already satisfied: scikit-surprise in /usr/local/lib/python3.7/dist-packages (from surprise) (1.1.1)\n",
            "Requirement already satisfied: six>=1.10.0 in /usr/local/lib/python3.7/dist-packages (from scikit-surprise->surprise) (1.15.0)\n",
            "Requirement already satisfied: numpy>=1.11.2 in /usr/local/lib/python3.7/dist-packages (from scikit-surprise->surprise) (1.19.5)\n",
            "Requirement already satisfied: joblib>=0.11 in /usr/local/lib/python3.7/dist-packages (from scikit-surprise->surprise) (1.0.1)\n",
            "Requirement already satisfied: scipy>=1.0.0 in /usr/local/lib/python3.7/dist-packages (from scikit-surprise->surprise) (1.4.1)\n"
          ],
          "name": "stdout"
        }
      ]
    },
    {
      "cell_type": "code",
      "metadata": {
        "id": "inJ2oGigZ4qM"
      },
      "source": [
        "# importing all of the relevant packages for the project\n",
        "# Standard Packages\n",
        "import pandas as pd\n",
        "import numpy as np\n",
        "\n",
        "# Surprise Packages\n",
        "from surprise import Reader, Dataset\n",
        "from surprise.model_selection import cross_validate\n",
        "from surprise.prediction_algorithms import KNNWithMeans, KNNBasic, KNNBaseline, SVD\n",
        "from surprise.model_selection import GridSearchCV\n",
        "from surprise.model_selection import train_test_split\n"
      ],
      "execution_count": 2,
      "outputs": []
    },
    {
      "cell_type": "code",
      "metadata": {
        "id": "TYbqBdZcaHQW"
      },
      "source": [
        "# Load in the data as Pandas DataFrame\n",
        "anime_df = pd.read_csv('anime.csv')\n",
        "anime_list_df = pd.read_csv('animelist.csv')"
      ],
      "execution_count": 3,
      "outputs": []
    },
    {
      "cell_type": "code",
      "metadata": {
        "colab": {
          "base_uri": "https://localhost:8080/",
          "height": 204
        },
        "id": "W2UANfXXaZnj",
        "outputId": "bac90287-0ede-4d90-d744-850f56ed467b"
      },
      "source": [
        "# Looking at the different features in the dataset, the set will fit into a \n",
        "# surprise model well as it has the relavent columns\n",
        "anime_list_df.head()"
      ],
      "execution_count": 4,
      "outputs": [
        {
          "output_type": "execute_result",
          "data": {
            "text/html": [
              "<div>\n",
              "<style scoped>\n",
              "    .dataframe tbody tr th:only-of-type {\n",
              "        vertical-align: middle;\n",
              "    }\n",
              "\n",
              "    .dataframe tbody tr th {\n",
              "        vertical-align: top;\n",
              "    }\n",
              "\n",
              "    .dataframe thead th {\n",
              "        text-align: right;\n",
              "    }\n",
              "</style>\n",
              "<table border=\"1\" class=\"dataframe\">\n",
              "  <thead>\n",
              "    <tr style=\"text-align: right;\">\n",
              "      <th></th>\n",
              "      <th>user_id</th>\n",
              "      <th>anime_id</th>\n",
              "      <th>rating</th>\n",
              "      <th>watching_status</th>\n",
              "      <th>watched_episodes</th>\n",
              "    </tr>\n",
              "  </thead>\n",
              "  <tbody>\n",
              "    <tr>\n",
              "      <th>0</th>\n",
              "      <td>0</td>\n",
              "      <td>67</td>\n",
              "      <td>9</td>\n",
              "      <td>1</td>\n",
              "      <td>1</td>\n",
              "    </tr>\n",
              "    <tr>\n",
              "      <th>1</th>\n",
              "      <td>0</td>\n",
              "      <td>6702</td>\n",
              "      <td>7</td>\n",
              "      <td>1</td>\n",
              "      <td>4</td>\n",
              "    </tr>\n",
              "    <tr>\n",
              "      <th>2</th>\n",
              "      <td>0</td>\n",
              "      <td>242</td>\n",
              "      <td>10</td>\n",
              "      <td>1</td>\n",
              "      <td>4</td>\n",
              "    </tr>\n",
              "    <tr>\n",
              "      <th>3</th>\n",
              "      <td>0</td>\n",
              "      <td>4898</td>\n",
              "      <td>0</td>\n",
              "      <td>1</td>\n",
              "      <td>1</td>\n",
              "    </tr>\n",
              "    <tr>\n",
              "      <th>4</th>\n",
              "      <td>0</td>\n",
              "      <td>21</td>\n",
              "      <td>10</td>\n",
              "      <td>1</td>\n",
              "      <td>0</td>\n",
              "    </tr>\n",
              "  </tbody>\n",
              "</table>\n",
              "</div>"
            ],
            "text/plain": [
              "   user_id  anime_id  rating  watching_status  watched_episodes\n",
              "0        0        67       9                1                 1\n",
              "1        0      6702       7                1                 4\n",
              "2        0       242      10                1                 4\n",
              "3        0      4898       0                1                 1\n",
              "4        0        21      10                1                 0"
            ]
          },
          "metadata": {
            "tags": []
          },
          "execution_count": 4
        }
      ]
    },
    {
      "cell_type": "code",
      "metadata": {
        "colab": {
          "base_uri": "https://localhost:8080/",
          "height": 666
        },
        "id": "MrCedSwSvkNG",
        "outputId": "56a7ff31-bde1-49b5-9e67-3fefaaf629e3"
      },
      "source": [
        "# Looking at the different features of the anime, there seems to be some anime \n",
        "# with episode less than a minute and also anime of ill repute that we will\n",
        "# not include in the scope of the project.\n",
        "anime_df.head()"
      ],
      "execution_count": 5,
      "outputs": [
        {
          "output_type": "execute_result",
          "data": {
            "text/html": [
              "<div>\n",
              "<style scoped>\n",
              "    .dataframe tbody tr th:only-of-type {\n",
              "        vertical-align: middle;\n",
              "    }\n",
              "\n",
              "    .dataframe tbody tr th {\n",
              "        vertical-align: top;\n",
              "    }\n",
              "\n",
              "    .dataframe thead th {\n",
              "        text-align: right;\n",
              "    }\n",
              "</style>\n",
              "<table border=\"1\" class=\"dataframe\">\n",
              "  <thead>\n",
              "    <tr style=\"text-align: right;\">\n",
              "      <th></th>\n",
              "      <th>MAL_ID</th>\n",
              "      <th>Name</th>\n",
              "      <th>Score</th>\n",
              "      <th>Genders</th>\n",
              "      <th>English name</th>\n",
              "      <th>Japanese name</th>\n",
              "      <th>Type</th>\n",
              "      <th>Episodes</th>\n",
              "      <th>Aired</th>\n",
              "      <th>Premiered</th>\n",
              "      <th>Producers</th>\n",
              "      <th>Licensors</th>\n",
              "      <th>Studios</th>\n",
              "      <th>Source</th>\n",
              "      <th>Duration</th>\n",
              "      <th>Rating</th>\n",
              "      <th>Ranked</th>\n",
              "      <th>Popularity</th>\n",
              "      <th>Members</th>\n",
              "      <th>Favorites</th>\n",
              "      <th>Watching</th>\n",
              "      <th>Completed</th>\n",
              "      <th>On-Hold</th>\n",
              "      <th>Dropped</th>\n",
              "      <th>Plan to Watch</th>\n",
              "      <th>Score-10</th>\n",
              "      <th>Score-9</th>\n",
              "      <th>Score-8</th>\n",
              "      <th>Score-7</th>\n",
              "      <th>Score-6</th>\n",
              "      <th>Score-5</th>\n",
              "      <th>Score-4</th>\n",
              "      <th>Score-3</th>\n",
              "      <th>Score-2</th>\n",
              "      <th>Score-1</th>\n",
              "    </tr>\n",
              "  </thead>\n",
              "  <tbody>\n",
              "    <tr>\n",
              "      <th>0</th>\n",
              "      <td>1</td>\n",
              "      <td>Cowboy Bebop</td>\n",
              "      <td>8.78</td>\n",
              "      <td>Action, Adventure, Comedy, Drama, Sci-Fi, Space</td>\n",
              "      <td>Cowboy Bebop</td>\n",
              "      <td>カウボーイビバップ</td>\n",
              "      <td>TV</td>\n",
              "      <td>26</td>\n",
              "      <td>Apr 3, 1998 to Apr 24, 1999</td>\n",
              "      <td>Spring 1998</td>\n",
              "      <td>Bandai Visual</td>\n",
              "      <td>Funimation, Bandai Entertainment</td>\n",
              "      <td>Sunrise</td>\n",
              "      <td>Original</td>\n",
              "      <td>24 min. per ep.</td>\n",
              "      <td>R - 17+ (violence &amp; profanity)</td>\n",
              "      <td>28.0</td>\n",
              "      <td>39</td>\n",
              "      <td>1251960</td>\n",
              "      <td>61971</td>\n",
              "      <td>105808</td>\n",
              "      <td>718161</td>\n",
              "      <td>71513</td>\n",
              "      <td>26678</td>\n",
              "      <td>329800</td>\n",
              "      <td>229170.0</td>\n",
              "      <td>182126.0</td>\n",
              "      <td>131625.0</td>\n",
              "      <td>62330.0</td>\n",
              "      <td>20688.0</td>\n",
              "      <td>8904.0</td>\n",
              "      <td>3184.0</td>\n",
              "      <td>1357.0</td>\n",
              "      <td>741.0</td>\n",
              "      <td>1580.0</td>\n",
              "    </tr>\n",
              "    <tr>\n",
              "      <th>1</th>\n",
              "      <td>5</td>\n",
              "      <td>Cowboy Bebop: Tengoku no Tobira</td>\n",
              "      <td>8.39</td>\n",
              "      <td>Action, Drama, Mystery, Sci-Fi, Space</td>\n",
              "      <td>Cowboy Bebop:The Movie</td>\n",
              "      <td>カウボーイビバップ 天国の扉</td>\n",
              "      <td>Movie</td>\n",
              "      <td>1</td>\n",
              "      <td>Sep 1, 2001</td>\n",
              "      <td>Unknown</td>\n",
              "      <td>Sunrise, Bandai Visual</td>\n",
              "      <td>Sony Pictures Entertainment</td>\n",
              "      <td>Bones</td>\n",
              "      <td>Original</td>\n",
              "      <td>1 hr. 55 min.</td>\n",
              "      <td>R - 17+ (violence &amp; profanity)</td>\n",
              "      <td>159.0</td>\n",
              "      <td>518</td>\n",
              "      <td>273145</td>\n",
              "      <td>1174</td>\n",
              "      <td>4143</td>\n",
              "      <td>208333</td>\n",
              "      <td>1935</td>\n",
              "      <td>770</td>\n",
              "      <td>57964</td>\n",
              "      <td>30043.0</td>\n",
              "      <td>49201.0</td>\n",
              "      <td>49505.0</td>\n",
              "      <td>22632.0</td>\n",
              "      <td>5805.0</td>\n",
              "      <td>1877.0</td>\n",
              "      <td>577.0</td>\n",
              "      <td>221.0</td>\n",
              "      <td>109.0</td>\n",
              "      <td>379.0</td>\n",
              "    </tr>\n",
              "    <tr>\n",
              "      <th>2</th>\n",
              "      <td>6</td>\n",
              "      <td>Trigun</td>\n",
              "      <td>8.24</td>\n",
              "      <td>Action, Sci-Fi, Adventure, Comedy, Drama, Shounen</td>\n",
              "      <td>Trigun</td>\n",
              "      <td>トライガン</td>\n",
              "      <td>TV</td>\n",
              "      <td>26</td>\n",
              "      <td>Apr 1, 1998 to Sep 30, 1998</td>\n",
              "      <td>Spring 1998</td>\n",
              "      <td>Victor Entertainment</td>\n",
              "      <td>Funimation, Geneon Entertainment USA</td>\n",
              "      <td>Madhouse</td>\n",
              "      <td>Manga</td>\n",
              "      <td>24 min. per ep.</td>\n",
              "      <td>PG-13 - Teens 13 or older</td>\n",
              "      <td>266.0</td>\n",
              "      <td>201</td>\n",
              "      <td>558913</td>\n",
              "      <td>12944</td>\n",
              "      <td>29113</td>\n",
              "      <td>343492</td>\n",
              "      <td>25465</td>\n",
              "      <td>13925</td>\n",
              "      <td>146918</td>\n",
              "      <td>50229.0</td>\n",
              "      <td>75651.0</td>\n",
              "      <td>86142.0</td>\n",
              "      <td>49432.0</td>\n",
              "      <td>15376.0</td>\n",
              "      <td>5838.0</td>\n",
              "      <td>1965.0</td>\n",
              "      <td>664.0</td>\n",
              "      <td>316.0</td>\n",
              "      <td>533.0</td>\n",
              "    </tr>\n",
              "    <tr>\n",
              "      <th>3</th>\n",
              "      <td>7</td>\n",
              "      <td>Witch Hunter Robin</td>\n",
              "      <td>7.27</td>\n",
              "      <td>Action, Mystery, Police, Supernatural, Drama, ...</td>\n",
              "      <td>Witch Hunter Robin</td>\n",
              "      <td>Witch Hunter ROBIN (ウイッチハンターロビン)</td>\n",
              "      <td>TV</td>\n",
              "      <td>26</td>\n",
              "      <td>Jul 2, 2002 to Dec 24, 2002</td>\n",
              "      <td>Summer 2002</td>\n",
              "      <td>TV Tokyo, Bandai Visual, Dentsu, Victor Entert...</td>\n",
              "      <td>Funimation, Bandai Entertainment</td>\n",
              "      <td>Sunrise</td>\n",
              "      <td>Original</td>\n",
              "      <td>25 min. per ep.</td>\n",
              "      <td>PG-13 - Teens 13 or older</td>\n",
              "      <td>2481.0</td>\n",
              "      <td>1467</td>\n",
              "      <td>94683</td>\n",
              "      <td>587</td>\n",
              "      <td>4300</td>\n",
              "      <td>46165</td>\n",
              "      <td>5121</td>\n",
              "      <td>5378</td>\n",
              "      <td>33719</td>\n",
              "      <td>2182.0</td>\n",
              "      <td>4806.0</td>\n",
              "      <td>10128.0</td>\n",
              "      <td>11618.0</td>\n",
              "      <td>5709.0</td>\n",
              "      <td>2920.0</td>\n",
              "      <td>1083.0</td>\n",
              "      <td>353.0</td>\n",
              "      <td>164.0</td>\n",
              "      <td>131.0</td>\n",
              "    </tr>\n",
              "    <tr>\n",
              "      <th>4</th>\n",
              "      <td>8</td>\n",
              "      <td>Bouken Ou Beet</td>\n",
              "      <td>6.98</td>\n",
              "      <td>Adventure, Fantasy, Shounen, Supernatural</td>\n",
              "      <td>Beet the Vandel Buster</td>\n",
              "      <td>冒険王ビィト</td>\n",
              "      <td>TV</td>\n",
              "      <td>52</td>\n",
              "      <td>Sep 30, 2004 to Sep 29, 2005</td>\n",
              "      <td>Fall 2004</td>\n",
              "      <td>TV Tokyo, Dentsu</td>\n",
              "      <td>Unknown</td>\n",
              "      <td>Toei Animation</td>\n",
              "      <td>Manga</td>\n",
              "      <td>23 min. per ep.</td>\n",
              "      <td>PG - Children</td>\n",
              "      <td>3710.0</td>\n",
              "      <td>4369</td>\n",
              "      <td>13224</td>\n",
              "      <td>18</td>\n",
              "      <td>642</td>\n",
              "      <td>7314</td>\n",
              "      <td>766</td>\n",
              "      <td>1108</td>\n",
              "      <td>3394</td>\n",
              "      <td>312.0</td>\n",
              "      <td>529.0</td>\n",
              "      <td>1242.0</td>\n",
              "      <td>1713.0</td>\n",
              "      <td>1068.0</td>\n",
              "      <td>634.0</td>\n",
              "      <td>265.0</td>\n",
              "      <td>83.0</td>\n",
              "      <td>50.0</td>\n",
              "      <td>27.0</td>\n",
              "    </tr>\n",
              "  </tbody>\n",
              "</table>\n",
              "</div>"
            ],
            "text/plain": [
              "   MAL_ID                             Name Score  ... Score-3 Score-2 Score-1\n",
              "0       1                     Cowboy Bebop  8.78  ...  1357.0   741.0  1580.0\n",
              "1       5  Cowboy Bebop: Tengoku no Tobira  8.39  ...   221.0   109.0   379.0\n",
              "2       6                           Trigun  8.24  ...   664.0   316.0   533.0\n",
              "3       7               Witch Hunter Robin  7.27  ...   353.0   164.0   131.0\n",
              "4       8                   Bouken Ou Beet  6.98  ...    83.0    50.0    27.0\n",
              "\n",
              "[5 rows x 35 columns]"
            ]
          },
          "metadata": {
            "tags": []
          },
          "execution_count": 5
        }
      ]
    },
    {
      "cell_type": "markdown",
      "metadata": {
        "id": "kLxvShx7vTwj"
      },
      "source": [
        "## Cleaning the Data and reformatting"
      ]
    },
    {
      "cell_type": "code",
      "metadata": {
        "id": "KzmAB0JXadgr"
      },
      "source": [
        "# Need to drop all of the unnecessary columns from the DataFrame\n",
        "anime_list_df.drop(['watching_status','watched_episodes'],axis=1,inplace=True)"
      ],
      "execution_count": 6,
      "outputs": []
    },
    {
      "cell_type": "code",
      "metadata": {
        "id": "V0XhwM8MwK-a"
      },
      "source": [
        "# dropping all of the anime of ill repute\n",
        "anime_df = anime_df[~anime_df['Genders'].str.contains(\"Hentai\")]\n",
        "\n",
        "# dropping all of the anime with air rimes less than 1 sec.\n",
        "anime_df = anime_df[~anime_df['Duration'].str.contains(\"sec\")]\n",
        "\n",
        "# using the ID of the cleaned anime list to clean the list of ratings as well\n",
        "anime_list_df = anime_list_df[anime_list_df['anime_id'].isin(list(anime_df['MAL_ID'].tolist()))]"
      ],
      "execution_count": 7,
      "outputs": []
    },
    {
      "cell_type": "code",
      "metadata": {
        "colab": {
          "base_uri": "https://localhost:8080/"
        },
        "id": "8iKBepxpy8xW",
        "outputId": "4163dde1-7da6-4dc5-d8d5-92738cf172f5"
      },
      "source": [
        "anime_df.shape"
      ],
      "execution_count": 8,
      "outputs": [
        {
          "output_type": "execute_result",
          "data": {
            "text/plain": [
              "(15780, 35)"
            ]
          },
          "metadata": {
            "tags": []
          },
          "execution_count": 8
        }
      ]
    },
    {
      "cell_type": "code",
      "metadata": {
        "id": "zvi2qaW2kWDT"
      },
      "source": [
        "# There is way too much data in this set so we will be resampling the data to \n",
        "# make a smaller data set.\n",
        "# anime_list_df = anime_list_df.sample(5000)"
      ],
      "execution_count": 16,
      "outputs": []
    },
    {
      "cell_type": "code",
      "metadata": {
        "id": "Ds9RMrhxZ-0S"
      },
      "source": [
        "# Loading in the DataFrame as a surprise objet\n",
        "reader = Reader()\n",
        "data = Dataset.load_from_df(anime_list_df,reader)"
      ],
      "execution_count": null,
      "outputs": []
    },
    {
      "cell_type": "code",
      "metadata": {
        "id": "eM9wjQRdaQ0J"
      },
      "source": [
        "# Looking at how many users and items are in the data to determine whether we \n",
        "# use a user-user or item-item similarity method\n",
        "dataset = data.build_full_trainset()\n",
        "print('Number of users: ', dataset.n_users, '\\n')\n",
        "print('Number of items: ', dataset.n_items)"
      ],
      "execution_count": null,
      "outputs": []
    },
    {
      "cell_type": "code",
      "metadata": {
        "id": "0N74vzeNa7Mc"
      },
      "source": [
        "# Looks like there are vastly more items than there are users here so if we are \n",
        "# using a neighborhood-based model we will evaluate with a item-item approach"
      ],
      "execution_count": null,
      "outputs": []
    },
    {
      "cell_type": "code",
      "metadata": {
        "id": "EqC-LgV9xlSB"
      },
      "source": [
        "# loaidng a spark object with the cleaned data for use in pyspark models\n",
        "# rec_data = spark.createDataFrame(cleaned_df)"
      ],
      "execution_count": null,
      "outputs": []
    },
    {
      "cell_type": "markdown",
      "metadata": {
        "id": "euOk0xxBvGcA"
      },
      "source": [
        ""
      ]
    },
    {
      "cell_type": "markdown",
      "metadata": {
        "id": "i7kmDcs1bWH0"
      },
      "source": [
        "## First simple models with SVD, KNNBasic, and KNNBaseline\n"
      ]
    },
    {
      "cell_type": "code",
      "metadata": {
        "id": "6JczTpjNbLgL"
      },
      "source": [
        "# Splitting the data into train/test sets we will be using 80% of the data to\n",
        "# train the model and 20% for validating the model.\n",
        "trainset,testset = train_test_split(data,test_size=0.2)"
      ],
      "execution_count": 38,
      "outputs": []
    },
    {
      "cell_type": "code",
      "metadata": {
        "id": "oQSlYcTpdPBn"
      },
      "source": [
        "# Instantiating the models\n",
        "\n",
        "#SVD\n",
        "svd = SVD(n_factors=50,reg_all=0.05)\n",
        "\n",
        "# KNNBasic\n",
        "knn_basic = KNNBasic(sim_options = {'name':'pearson', 'user_based':False})\n",
        "\n",
        "# KNNBaseline\n",
        "knn_baseline = KNNBaseline(sim_options = {'name':'pearson', 'user_based':False})"
      ],
      "execution_count": 46,
      "outputs": []
    },
    {
      "cell_type": "code",
      "metadata": {
        "id": "jCF3t5lxfR_y"
      },
      "source": [
        ""
      ],
      "execution_count": 46,
      "outputs": []
    },
    {
      "cell_type": "markdown",
      "metadata": {
        "id": "q3dpV9b5fT4M"
      },
      "source": [
        "###SVD\n"
      ]
    },
    {
      "cell_type": "code",
      "metadata": {
        "id": "reZOQCT6fWCN"
      },
      "source": [
        "# Run cross validation on the data  \n",
        "cv_svd = cross_validate(svd,data,n_jobs=-1)"
      ],
      "execution_count": 47,
      "outputs": []
    },
    {
      "cell_type": "code",
      "metadata": {
        "colab": {
          "base_uri": "https://localhost:8080/"
        },
        "id": "as6X6s3RfucO",
        "outputId": "455e4c63-5aa7-4a10-9110-b590bc8789b4"
      },
      "source": [
        "# Printing out the test metrics of the cross validation for comparison\n",
        "for i in cv_svd.items():\n",
        "    print(i)\n",
        "print('-----------------------')\n",
        "print(np.mean(cv_svd['test_rmse']))"
      ],
      "execution_count": 48,
      "outputs": [
        {
          "output_type": "stream",
          "text": [
            "('test_rmse', array([3.84965735, 3.90452592, 3.91789306, 3.91218521, 3.84606599]))\n",
            "('test_mae', array([3.61257461, 3.70539795, 3.70322773, 3.71069874, 3.63161982]))\n",
            "('fit_time', (0.2707395553588867, 0.27812790870666504, 0.28876328468322754, 0.3061184883117676, 0.15135931968688965))\n",
            "('test_time', (0.016380786895751953, 0.011266231536865234, 0.02576446533203125, 0.01018381118774414, 0.006639242172241211))\n",
            "-----------------------\n",
            "3.886065508780715\n"
          ],
          "name": "stdout"
        }
      ]
    },
    {
      "cell_type": "markdown",
      "metadata": {
        "id": "jYHSO3UXgNCp"
      },
      "source": [
        "### KNNBasic"
      ]
    },
    {
      "cell_type": "code",
      "metadata": {
        "id": "8a9iYrBygPNq"
      },
      "source": [
        "# Run cross validation on the data \n",
        "cv_knn_basic = cross_validate(knn_basic, data, n_jobs=-1)"
      ],
      "execution_count": 49,
      "outputs": []
    },
    {
      "cell_type": "code",
      "metadata": {
        "id": "a4RGX4WsgYej",
        "colab": {
          "base_uri": "https://localhost:8080/"
        },
        "outputId": "52105fd4-3db4-46c9-bed5-c35e71b41947"
      },
      "source": [
        "# Printing out the test metrics of the cross validation for comparison\n",
        "for i in cv_knn_basic.items():\n",
        "    print(i)\n",
        "print('-----------------------')\n",
        "print(np.mean(cv_knn_basic['test_rmse']))"
      ],
      "execution_count": 50,
      "outputs": [
        {
          "output_type": "stream",
          "text": [
            "('test_rmse', array([3.92929937, 3.83927337, 3.94022312, 3.91110419, 3.90637281]))\n",
            "('test_mae', array([3.736465, 3.626864, 3.756245, 3.720824, 3.691199]))\n",
            "('fit_time', (0.27439308166503906, 0.26259660720825195, 0.2595834732055664, 0.2257688045501709, 0.1587071418762207))\n",
            "('test_time', (0.028040170669555664, 0.01390218734741211, 0.013776063919067383, 0.013631343841552734, 0.010076522827148438))\n",
            "-----------------------\n",
            "3.90525457391362\n"
          ],
          "name": "stdout"
        }
      ]
    },
    {
      "cell_type": "markdown",
      "metadata": {
        "id": "GIpB4NJxgcfs"
      },
      "source": [
        "### KNNBaseline"
      ]
    },
    {
      "cell_type": "code",
      "metadata": {
        "id": "tuE7M0QTgfTx"
      },
      "source": [
        "# Run cross validation on the data  \n",
        "cv_knn_baseline = cross_validate(knn_baseline, data, n_jobs=-1)"
      ],
      "execution_count": 51,
      "outputs": []
    },
    {
      "cell_type": "code",
      "metadata": {
        "id": "nwiBAfHag12A",
        "colab": {
          "base_uri": "https://localhost:8080/"
        },
        "outputId": "0a616009-5e51-4baf-dc6c-766e75f7cfba"
      },
      "source": [
        "# Printing out the test metrics of the cross validation for comparison\n",
        "for i in cv_knn_baseline.items():\n",
        "    print(i)\n",
        "print('-----------------------')\n",
        "print(np.mean(cv_knn_baseline['test_rmse']))"
      ],
      "execution_count": 52,
      "outputs": [
        {
          "output_type": "stream",
          "text": [
            "('test_rmse', array([3.94815372, 3.86469255, 3.84472542, 3.87792879, 3.90078508]))\n",
            "('test_mae', array([3.74431268, 3.64038851, 3.60901149, 3.67560409, 3.70454819]))\n",
            "('fit_time', (0.2838473320007324, 0.27666640281677246, 0.2607753276824951, 0.2805914878845215, 0.2003927230834961))\n",
            "('test_time', (0.014613151550292969, 0.012702465057373047, 0.012905597686767578, 0.012049198150634766, 0.006788015365600586))\n",
            "-----------------------\n",
            "3.887257112156283\n"
          ],
          "name": "stdout"
        }
      ]
    },
    {
      "cell_type": "markdown",
      "metadata": {
        "id": "laT1QvZ6lbP7"
      },
      "source": [
        "### Optimizing the best FSM (SVD)"
      ]
    },
    {
      "cell_type": "code",
      "metadata": {
        "id": "md3yHdYWlhWK"
      },
      "source": [
        "# Setting up and running the Grid Search to find the best hyperparams for the \n",
        "# svd\n",
        "params = {'n_factors': [20, 50, 100,500],\n",
        "         'reg_all': [0.02, 0.05, 0.1,0.5]}\n",
        "g_s_svd = GridSearchCV(SVD,param_grid=params,n_jobs=-1)\n",
        "g_s_svd.fit(data)"
      ],
      "execution_count": 56,
      "outputs": []
    },
    {
      "cell_type": "code",
      "metadata": {
        "colab": {
          "base_uri": "https://localhost:8080/"
        },
        "id": "25QbQb46mTad",
        "outputId": "85bc3134-bf14-440c-dda5-b9e9cd62063a"
      },
      "source": [
        "# Printing out the best parameters based on the Grid Search\n",
        "print(g_s_svd.best_score)\n",
        "print(g_s_svd.best_params)"
      ],
      "execution_count": 58,
      "outputs": [
        {
          "output_type": "stream",
          "text": [
            "{'rmse': 3.884515313788918, 'mae': 3.6709193978445294}\n",
            "{'rmse': {'n_factors': 100, 'reg_all': 0.1}, 'mae': {'n_factors': 50, 'reg_all': 0.1}}\n"
          ],
          "name": "stdout"
        }
      ]
    },
    {
      "cell_type": "markdown",
      "metadata": {
        "id": "VLRa7mFchLnP"
      },
      "source": [
        "## Make Recommendations\n",
        "\n",
        "We are using the anime.csv data set to select the anime names for our recommendations."
      ]
    },
    {
      "cell_type": "code",
      "metadata": {
        "id": "MBfvnsOqhKIJ",
        "colab": {
          "base_uri": "https://localhost:8080/",
          "height": 666
        },
        "outputId": "934db0a0-643b-4705-ede5-3bacf82ea252"
      },
      "source": [
        "anime_df.head()"
      ],
      "execution_count": 66,
      "outputs": [
        {
          "output_type": "execute_result",
          "data": {
            "text/html": [
              "<div>\n",
              "<style scoped>\n",
              "    .dataframe tbody tr th:only-of-type {\n",
              "        vertical-align: middle;\n",
              "    }\n",
              "\n",
              "    .dataframe tbody tr th {\n",
              "        vertical-align: top;\n",
              "    }\n",
              "\n",
              "    .dataframe thead th {\n",
              "        text-align: right;\n",
              "    }\n",
              "</style>\n",
              "<table border=\"1\" class=\"dataframe\">\n",
              "  <thead>\n",
              "    <tr style=\"text-align: right;\">\n",
              "      <th></th>\n",
              "      <th>MAL_ID</th>\n",
              "      <th>Name</th>\n",
              "      <th>Score</th>\n",
              "      <th>Genders</th>\n",
              "      <th>English name</th>\n",
              "      <th>Japanese name</th>\n",
              "      <th>Type</th>\n",
              "      <th>Episodes</th>\n",
              "      <th>Aired</th>\n",
              "      <th>Premiered</th>\n",
              "      <th>Producers</th>\n",
              "      <th>Licensors</th>\n",
              "      <th>Studios</th>\n",
              "      <th>Source</th>\n",
              "      <th>Duration</th>\n",
              "      <th>Rating</th>\n",
              "      <th>Ranked</th>\n",
              "      <th>Popularity</th>\n",
              "      <th>Members</th>\n",
              "      <th>Favorites</th>\n",
              "      <th>Watching</th>\n",
              "      <th>Completed</th>\n",
              "      <th>On-Hold</th>\n",
              "      <th>Dropped</th>\n",
              "      <th>Plan to Watch</th>\n",
              "      <th>Score-10</th>\n",
              "      <th>Score-9</th>\n",
              "      <th>Score-8</th>\n",
              "      <th>Score-7</th>\n",
              "      <th>Score-6</th>\n",
              "      <th>Score-5</th>\n",
              "      <th>Score-4</th>\n",
              "      <th>Score-3</th>\n",
              "      <th>Score-2</th>\n",
              "      <th>Score-1</th>\n",
              "    </tr>\n",
              "  </thead>\n",
              "  <tbody>\n",
              "    <tr>\n",
              "      <th>0</th>\n",
              "      <td>1</td>\n",
              "      <td>Cowboy Bebop</td>\n",
              "      <td>8.78</td>\n",
              "      <td>Action, Adventure, Comedy, Drama, Sci-Fi, Space</td>\n",
              "      <td>Cowboy Bebop</td>\n",
              "      <td>カウボーイビバップ</td>\n",
              "      <td>TV</td>\n",
              "      <td>26</td>\n",
              "      <td>Apr 3, 1998 to Apr 24, 1999</td>\n",
              "      <td>Spring 1998</td>\n",
              "      <td>Bandai Visual</td>\n",
              "      <td>Funimation, Bandai Entertainment</td>\n",
              "      <td>Sunrise</td>\n",
              "      <td>Original</td>\n",
              "      <td>24 min. per ep.</td>\n",
              "      <td>R - 17+ (violence &amp; profanity)</td>\n",
              "      <td>28.0</td>\n",
              "      <td>39</td>\n",
              "      <td>1251960</td>\n",
              "      <td>61971</td>\n",
              "      <td>105808</td>\n",
              "      <td>718161</td>\n",
              "      <td>71513</td>\n",
              "      <td>26678</td>\n",
              "      <td>329800</td>\n",
              "      <td>229170.0</td>\n",
              "      <td>182126.0</td>\n",
              "      <td>131625.0</td>\n",
              "      <td>62330.0</td>\n",
              "      <td>20688.0</td>\n",
              "      <td>8904.0</td>\n",
              "      <td>3184.0</td>\n",
              "      <td>1357.0</td>\n",
              "      <td>741.0</td>\n",
              "      <td>1580.0</td>\n",
              "    </tr>\n",
              "    <tr>\n",
              "      <th>1</th>\n",
              "      <td>5</td>\n",
              "      <td>Cowboy Bebop: Tengoku no Tobira</td>\n",
              "      <td>8.39</td>\n",
              "      <td>Action, Drama, Mystery, Sci-Fi, Space</td>\n",
              "      <td>Cowboy Bebop:The Movie</td>\n",
              "      <td>カウボーイビバップ 天国の扉</td>\n",
              "      <td>Movie</td>\n",
              "      <td>1</td>\n",
              "      <td>Sep 1, 2001</td>\n",
              "      <td>Unknown</td>\n",
              "      <td>Sunrise, Bandai Visual</td>\n",
              "      <td>Sony Pictures Entertainment</td>\n",
              "      <td>Bones</td>\n",
              "      <td>Original</td>\n",
              "      <td>1 hr. 55 min.</td>\n",
              "      <td>R - 17+ (violence &amp; profanity)</td>\n",
              "      <td>159.0</td>\n",
              "      <td>518</td>\n",
              "      <td>273145</td>\n",
              "      <td>1174</td>\n",
              "      <td>4143</td>\n",
              "      <td>208333</td>\n",
              "      <td>1935</td>\n",
              "      <td>770</td>\n",
              "      <td>57964</td>\n",
              "      <td>30043.0</td>\n",
              "      <td>49201.0</td>\n",
              "      <td>49505.0</td>\n",
              "      <td>22632.0</td>\n",
              "      <td>5805.0</td>\n",
              "      <td>1877.0</td>\n",
              "      <td>577.0</td>\n",
              "      <td>221.0</td>\n",
              "      <td>109.0</td>\n",
              "      <td>379.0</td>\n",
              "    </tr>\n",
              "    <tr>\n",
              "      <th>2</th>\n",
              "      <td>6</td>\n",
              "      <td>Trigun</td>\n",
              "      <td>8.24</td>\n",
              "      <td>Action, Sci-Fi, Adventure, Comedy, Drama, Shounen</td>\n",
              "      <td>Trigun</td>\n",
              "      <td>トライガン</td>\n",
              "      <td>TV</td>\n",
              "      <td>26</td>\n",
              "      <td>Apr 1, 1998 to Sep 30, 1998</td>\n",
              "      <td>Spring 1998</td>\n",
              "      <td>Victor Entertainment</td>\n",
              "      <td>Funimation, Geneon Entertainment USA</td>\n",
              "      <td>Madhouse</td>\n",
              "      <td>Manga</td>\n",
              "      <td>24 min. per ep.</td>\n",
              "      <td>PG-13 - Teens 13 or older</td>\n",
              "      <td>266.0</td>\n",
              "      <td>201</td>\n",
              "      <td>558913</td>\n",
              "      <td>12944</td>\n",
              "      <td>29113</td>\n",
              "      <td>343492</td>\n",
              "      <td>25465</td>\n",
              "      <td>13925</td>\n",
              "      <td>146918</td>\n",
              "      <td>50229.0</td>\n",
              "      <td>75651.0</td>\n",
              "      <td>86142.0</td>\n",
              "      <td>49432.0</td>\n",
              "      <td>15376.0</td>\n",
              "      <td>5838.0</td>\n",
              "      <td>1965.0</td>\n",
              "      <td>664.0</td>\n",
              "      <td>316.0</td>\n",
              "      <td>533.0</td>\n",
              "    </tr>\n",
              "    <tr>\n",
              "      <th>3</th>\n",
              "      <td>7</td>\n",
              "      <td>Witch Hunter Robin</td>\n",
              "      <td>7.27</td>\n",
              "      <td>Action, Mystery, Police, Supernatural, Drama, ...</td>\n",
              "      <td>Witch Hunter Robin</td>\n",
              "      <td>Witch Hunter ROBIN (ウイッチハンターロビン)</td>\n",
              "      <td>TV</td>\n",
              "      <td>26</td>\n",
              "      <td>Jul 2, 2002 to Dec 24, 2002</td>\n",
              "      <td>Summer 2002</td>\n",
              "      <td>TV Tokyo, Bandai Visual, Dentsu, Victor Entert...</td>\n",
              "      <td>Funimation, Bandai Entertainment</td>\n",
              "      <td>Sunrise</td>\n",
              "      <td>Original</td>\n",
              "      <td>25 min. per ep.</td>\n",
              "      <td>PG-13 - Teens 13 or older</td>\n",
              "      <td>2481.0</td>\n",
              "      <td>1467</td>\n",
              "      <td>94683</td>\n",
              "      <td>587</td>\n",
              "      <td>4300</td>\n",
              "      <td>46165</td>\n",
              "      <td>5121</td>\n",
              "      <td>5378</td>\n",
              "      <td>33719</td>\n",
              "      <td>2182.0</td>\n",
              "      <td>4806.0</td>\n",
              "      <td>10128.0</td>\n",
              "      <td>11618.0</td>\n",
              "      <td>5709.0</td>\n",
              "      <td>2920.0</td>\n",
              "      <td>1083.0</td>\n",
              "      <td>353.0</td>\n",
              "      <td>164.0</td>\n",
              "      <td>131.0</td>\n",
              "    </tr>\n",
              "    <tr>\n",
              "      <th>4</th>\n",
              "      <td>8</td>\n",
              "      <td>Bouken Ou Beet</td>\n",
              "      <td>6.98</td>\n",
              "      <td>Adventure, Fantasy, Shounen, Supernatural</td>\n",
              "      <td>Beet the Vandel Buster</td>\n",
              "      <td>冒険王ビィト</td>\n",
              "      <td>TV</td>\n",
              "      <td>52</td>\n",
              "      <td>Sep 30, 2004 to Sep 29, 2005</td>\n",
              "      <td>Fall 2004</td>\n",
              "      <td>TV Tokyo, Dentsu</td>\n",
              "      <td>Unknown</td>\n",
              "      <td>Toei Animation</td>\n",
              "      <td>Manga</td>\n",
              "      <td>23 min. per ep.</td>\n",
              "      <td>PG - Children</td>\n",
              "      <td>3710.0</td>\n",
              "      <td>4369</td>\n",
              "      <td>13224</td>\n",
              "      <td>18</td>\n",
              "      <td>642</td>\n",
              "      <td>7314</td>\n",
              "      <td>766</td>\n",
              "      <td>1108</td>\n",
              "      <td>3394</td>\n",
              "      <td>312.0</td>\n",
              "      <td>529.0</td>\n",
              "      <td>1242.0</td>\n",
              "      <td>1713.0</td>\n",
              "      <td>1068.0</td>\n",
              "      <td>634.0</td>\n",
              "      <td>265.0</td>\n",
              "      <td>83.0</td>\n",
              "      <td>50.0</td>\n",
              "      <td>27.0</td>\n",
              "    </tr>\n",
              "  </tbody>\n",
              "</table>\n",
              "</div>"
            ],
            "text/plain": [
              "   MAL_ID                             Name Score  ... Score-3 Score-2 Score-1\n",
              "0       1                     Cowboy Bebop  8.78  ...  1357.0   741.0  1580.0\n",
              "1       5  Cowboy Bebop: Tengoku no Tobira  8.39  ...   221.0   109.0   379.0\n",
              "2       6                           Trigun  8.24  ...   664.0   316.0   533.0\n",
              "3       7               Witch Hunter Robin  7.27  ...   353.0   164.0   131.0\n",
              "4       8                   Bouken Ou Beet  6.98  ...    83.0    50.0    27.0\n",
              "\n",
              "[5 rows x 35 columns]"
            ]
          },
          "metadata": {
            "tags": []
          },
          "execution_count": 66
        }
      ]
    },
    {
      "cell_type": "code",
      "metadata": {
        "id": "TWfK7bfxhsop",
        "colab": {
          "base_uri": "https://localhost:8080/"
        },
        "outputId": "433903af-dcf8-4bc9-d666-232deff75ba6"
      },
      "source": [
        "# Instantiating the best model for predictions\n",
        "best_model = SVD(n_factors = 100, reg_all = 0.1)\n",
        "best_model.fit(dataset)"
      ],
      "execution_count": 59,
      "outputs": [
        {
          "output_type": "execute_result",
          "data": {
            "text/plain": [
              "<surprise.prediction_algorithms.matrix_factorization.SVD at 0x7f6ab9b06650>"
            ]
          },
          "metadata": {
            "tags": []
          },
          "execution_count": 59
        }
      ]
    },
    {
      "cell_type": "code",
      "metadata": {
        "id": "e-FiYybpi5Mi",
        "colab": {
          "base_uri": "https://localhost:8080/"
        },
        "outputId": "8804e8f8-86b1-4bb8-ae3a-9c323f5dd72f"
      },
      "source": [
        "#Quick Prediction to see if the model is working\n",
        "best_model.predict(2, 4)"
      ],
      "execution_count": 61,
      "outputs": [
        {
          "output_type": "execute_result",
          "data": {
            "text/plain": [
              "Prediction(uid=2, iid=4, r_ui=None, est=4.2352, details={'was_impossible': False})"
            ]
          },
          "metadata": {
            "tags": []
          },
          "execution_count": 61
        }
      ]
    },
    {
      "cell_type": "markdown",
      "metadata": {
        "id": "2aMxFX1knwQl"
      },
      "source": [
        "## Obtain the User Ratings"
      ]
    },
    {
      "cell_type": "code",
      "metadata": {
        "id": "Wt7tTyp3niit"
      },
      "source": [
        "# Function rating the movies based on the best model\n",
        "\n",
        "def movie_rater(movie_df,num, genre=None):\n",
        "    userID = 1000\n",
        "    rating_list = []\n",
        "    while num > 0:\n",
        "        if genre:\n",
        "            movie = movie_df[movie_df['Genders'].str.contains(genre)].sample(1)\n",
        "        else:\n",
        "            movie = movie_df.sample(1)\n",
        "        print(movie)\n",
        "        rating = input('How do you rate this movie on a scale of 1-5, press n if you have not seen :\\n')\n",
        "        if rating == 'n':\n",
        "            continue\n",
        "        else:\n",
        "            rating_one_movie = {'user_id':userID,'anime_id':movie['MAL_ID'].values[0],'rating':rating}\n",
        "            rating_list.append(rating_one_movie) \n",
        "            num -= 1\n",
        "    return rating_list      "
      ],
      "execution_count": 67,
      "outputs": []
    },
    {
      "cell_type": "code",
      "metadata": {
        "colab": {
          "base_uri": "https://localhost:8080/"
        },
        "id": "WlVegf8mn9NJ",
        "outputId": "e6f351d2-f70a-4793-da93-215dc193ded3"
      },
      "source": [
        "user_rating = movie_rater(anime_df,4,'Action')"
      ],
      "execution_count": 72,
      "outputs": [
        {
          "output_type": "stream",
          "text": [
            "       MAL_ID  ... Score-1\n",
            "14174   37303  ...    14.0\n",
            "\n",
            "[1 rows x 35 columns]\n",
            "How do you rate this movie on a scale of 1-5, press n if you have not seen :\n",
            "n\n",
            "       MAL_ID  ... Score-1\n",
            "17348   44078  ...     2.0\n",
            "\n",
            "[1 rows x 35 columns]\n",
            "How do you rate this movie on a scale of 1-5, press n if you have not seen :\n",
            "2\n",
            "      MAL_ID         Name Score  ... Score-3 Score-2 Score-1\n",
            "1084    1189  Eden's Bowy  6.52  ...    46.0    23.0    28.0\n",
            "\n",
            "[1 rows x 35 columns]\n",
            "How do you rate this movie on a scale of 1-5, press n if you have not seen :\n",
            "3\n",
            "       MAL_ID         Name    Score  ...  Score-3  Score-2  Score-1\n",
            "15622   39473  Möbius Dust  Unknown  ...  Unknown  Unknown  Unknown\n",
            "\n",
            "[1 rows x 35 columns]\n",
            "How do you rate this movie on a scale of 1-5, press n if you have not seen :\n",
            "5\n",
            "      MAL_ID               Name Score  ... Score-3 Score-2 Score-1\n",
            "8585   22043  Fairy Tail (2014)  7.73  ...  5595.0  3198.0  2912.0\n",
            "\n",
            "[1 rows x 35 columns]\n",
            "How do you rate this movie on a scale of 1-5, press n if you have not seen :\n",
            "5\n"
          ],
          "name": "stdout"
        }
      ]
    },
    {
      "cell_type": "code",
      "metadata": {
        "colab": {
          "base_uri": "https://localhost:8080/"
        },
        "id": "btJ2SacupJYB",
        "outputId": "b4b4a58d-60a9-44b9-8960-8825dc2f04f5"
      },
      "source": [
        "user_rating\n"
      ],
      "execution_count": 73,
      "outputs": [
        {
          "output_type": "execute_result",
          "data": {
            "text/plain": [
              "[{'anime_id': 44078, 'rating': '2', 'user_id': 1000},\n",
              " {'anime_id': 1189, 'rating': '3', 'user_id': 1000},\n",
              " {'anime_id': 39473, 'rating': '5', 'user_id': 1000},\n",
              " {'anime_id': 22043, 'rating': '5', 'user_id': 1000}]"
            ]
          },
          "metadata": {
            "tags": []
          },
          "execution_count": 73
        }
      ]
    },
    {
      "cell_type": "code",
      "metadata": {
        "id": "SwQn03iKqFCr"
      },
      "source": [
        "## add the new ratings to the original ratings DataFrame\n",
        "new_ratings_df = anime_list_df.append(user_rating,ignore_index=True)\n",
        "new_data = Dataset.load_from_df(new_ratings_df,reader)"
      ],
      "execution_count": 81,
      "outputs": []
    },
    {
      "cell_type": "code",
      "metadata": {
        "id": "-N6x5rEtqOLl"
      },
      "source": [
        "# make predictions for the user\n",
        "# you'll probably want to create a list of tuples in the format (movie_id, predicted_score)\n",
        "list_of_anime = []\n",
        "for m_id in anime_list_df['anime_id'].unique():\n",
        "    list_of_anime.append( (m_id,best_model.predict(1000,m_id)[3]))"
      ],
      "execution_count": 82,
      "outputs": []
    },
    {
      "cell_type": "code",
      "metadata": {
        "id": "cAsvJpZaqTaJ"
      },
      "source": [
        "# order the predictions from highest to lowest rated\n",
        "ranked_anime = sorted(list_of_anime, key=lambda x:x[1], reverse=True)"
      ],
      "execution_count": 83,
      "outputs": []
    },
    {
      "cell_type": "code",
      "metadata": {
        "colab": {
          "base_uri": "https://localhost:8080/"
        },
        "id": "odhnEnq8qUF9",
        "outputId": "a928d74e-dc7b-4893-a1d3-48fecb64bc2d"
      },
      "source": [
        "# return the top n recommendations using the \n",
        "def recommended_movies(user_ratings,anime_title_df,n):\n",
        "        for idx, rec in enumerate(user_ratings):\n",
        "            title = anime_title_df.loc[anime_title_df['MAL_ID'] == int(rec[0])]['Name']\n",
        "            print('Recommendation # ', idx+1, ': ', title, '\\n')\n",
        "            n-= 1\n",
        "            if n == 0:\n",
        "                break\n",
        "\n",
        "recommended_movies(ranked_anime,anime_df,5)"
      ],
      "execution_count": 88,
      "outputs": [
        {
          "output_type": "stream",
          "text": [
            "Recommendation #  1 :  221    Great Teacher Onizuka\n",
            "Name: Name, dtype: object \n",
            "\n",
            "Recommendation #  2 :  9921    Charlotte\n",
            "Name: Name, dtype: object \n",
            "\n",
            "Recommendation #  3 :  1103    NHK ni Youkoso!\n",
            "Name: Name, dtype: object \n",
            "\n",
            "Recommendation #  4 :  9183    High School DxD BorN\n",
            "Name: Name, dtype: object \n",
            "\n",
            "Recommendation #  5 :  1393    Death Note\n",
            "Name: Name, dtype: object \n",
            "\n"
          ],
          "name": "stdout"
        }
      ]
    },
    {
      "cell_type": "code",
      "metadata": {
        "id": "Tbvj7yzJqXTz"
      },
      "source": [
        ""
      ],
      "execution_count": null,
      "outputs": []
    },
    {
      "cell_type": "code",
      "metadata": {
        "id": "rvu9ogJvvZu1"
      },
      "source": [
        ""
      ],
      "execution_count": null,
      "outputs": []
    }
  ]
}