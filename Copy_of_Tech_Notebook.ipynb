{
  "nbformat": 4,
  "nbformat_minor": 0,
  "metadata": {
    "colab": {
      "name": "Copy of Tech_Notebook.ipynb",
      "provenance": [],
      "collapsed_sections": [],
      "machine_shape": "hm",
      "include_colab_link": true
    },
    "kernelspec": {
      "display_name": "Python (learn-env)",
      "language": "python",
      "name": "learn-env"
    },
    "language_info": {
      "codemirror_mode": {
        "name": "ipython",
        "version": 3
      },
      "file_extension": ".py",
      "mimetype": "text/x-python",
      "name": "python",
      "nbconvert_exporter": "python",
      "pygments_lexer": "ipython3",
      "version": "3.8.5"
    }
  },
  "cells": [
    {
      "cell_type": "markdown",
      "metadata": {
        "id": "view-in-github",
        "colab_type": "text"
      },
      "source": [
        "<a href=\"https://colab.research.google.com/github/JCherryA050/phase_4_project/blob/main/Copy_of_Tech_Notebook.ipynb\" target=\"_parent\"><img src=\"https://colab.research.google.com/assets/colab-badge.svg\" alt=\"Open In Colab\"/></a>"
      ]
    },
    {
      "cell_type": "markdown",
      "metadata": {
        "id": "p4sBIT_cagja"
      },
      "source": [
        "# My Anime List Recommendation System With ALS"
      ]
    },
    {
      "cell_type": "markdown",
      "metadata": {
        "id": "jkEmFXznaqfT"
      },
      "source": [
        "## Business Problem\n",
        "\n",
        "My Anime List is a website where users can track and rate the anime and manga that they consume. Using this information, My Anime List has a global ranking of anime/manga, has a recommendation system based on users preferences, and directs users to where they can watch or read a given anime/manga.\n",
        "\n",
        "We have been tasked with taking user data specifically dealing with anime to find out if we can create a more effective recommendation system using Alternating Least Squares (ALS)"
      ]
    },
    {
      "cell_type": "markdown",
      "metadata": {
        "id": "Aq7fMS7-a3T6"
      },
      "source": [
        "## Setting Up Environment and Data\n",
        "\n",
        "Because ALS relies on a sparse matrix of data (even when cleaning the data to reduce the size), we will be taking advantage Google's cloud service Colab, which will allow us to process an extremely large dataset. Google Colab will also allow us to utilize PySpark, a tool for ALS models.\n",
        "\n",
        "To start, we will run the following to set up our Google Colab environment."
      ]
    },
    {
      "cell_type": "code",
      "metadata": {
        "colab": {
          "base_uri": "https://localhost:8080/"
        },
        "id": "DnXxPBsVsqS4",
        "outputId": "e8c0296b-2b29-40a8-e60c-09b02bdf7a42"
      },
      "source": [
        "# Run for Google Colab environment\n",
        "!pip install pyspark\n",
        "!apt install openjdk-8-jdk-headless -qq\n",
        "!pip install mlflow"
      ],
      "execution_count": 1,
      "outputs": [
        {
          "output_type": "stream",
          "text": [
            "Requirement already satisfied: pyspark in /usr/local/lib/python3.7/dist-packages (3.1.2)\n",
            "Requirement already satisfied: py4j==0.10.9 in /usr/local/lib/python3.7/dist-packages (from pyspark) (0.10.9)\n",
            "openjdk-8-jdk-headless is already the newest version (8u292-b10-0ubuntu1~18.04).\n",
            "0 upgraded, 0 newly installed, 0 to remove and 39 not upgraded.\n",
            "Requirement already satisfied: mlflow in /usr/local/lib/python3.7/dist-packages (1.19.0)\n",
            "Requirement already satisfied: docker>=4.0.0 in /usr/local/lib/python3.7/dist-packages (from mlflow) (5.0.0)\n",
            "Requirement already satisfied: gitpython>=2.1.0 in /usr/local/lib/python3.7/dist-packages (from mlflow) (3.1.18)\n",
            "Requirement already satisfied: protobuf>=3.7.0 in /usr/local/lib/python3.7/dist-packages (from mlflow) (3.17.3)\n",
            "Requirement already satisfied: Flask in /usr/local/lib/python3.7/dist-packages (from mlflow) (1.1.4)\n",
            "Requirement already satisfied: sqlparse>=0.3.1 in /usr/local/lib/python3.7/dist-packages (from mlflow) (0.4.1)\n",
            "Requirement already satisfied: querystring-parser in /usr/local/lib/python3.7/dist-packages (from mlflow) (1.2.4)\n",
            "Requirement already satisfied: packaging in /usr/local/lib/python3.7/dist-packages (from mlflow) (20.9)\n",
            "Requirement already satisfied: requests>=2.17.3 in /usr/local/lib/python3.7/dist-packages (from mlflow) (2.23.0)\n",
            "Requirement already satisfied: entrypoints in /usr/local/lib/python3.7/dist-packages (from mlflow) (0.3)\n",
            "Requirement already satisfied: click>=7.0 in /usr/local/lib/python3.7/dist-packages (from mlflow) (7.1.2)\n",
            "Requirement already satisfied: numpy in /usr/local/lib/python3.7/dist-packages (from mlflow) (1.19.5)\n",
            "Requirement already satisfied: prometheus-flask-exporter in /usr/local/lib/python3.7/dist-packages (from mlflow) (0.18.2)\n",
            "Requirement already satisfied: sqlalchemy in /usr/local/lib/python3.7/dist-packages (from mlflow) (1.4.20)\n",
            "Requirement already satisfied: gunicorn; platform_system != \"Windows\" in /usr/local/lib/python3.7/dist-packages (from mlflow) (20.1.0)\n",
            "Requirement already satisfied: pyyaml>=5.1 in /usr/local/lib/python3.7/dist-packages (from mlflow) (5.4.1)\n",
            "Requirement already satisfied: pytz in /usr/local/lib/python3.7/dist-packages (from mlflow) (2018.9)\n",
            "Requirement already satisfied: databricks-cli>=0.8.7 in /usr/local/lib/python3.7/dist-packages (from mlflow) (0.14.3)\n",
            "Requirement already satisfied: cloudpickle in /usr/local/lib/python3.7/dist-packages (from mlflow) (1.3.0)\n",
            "Requirement already satisfied: alembic<=1.4.1 in /usr/local/lib/python3.7/dist-packages (from mlflow) (1.4.1)\n",
            "Requirement already satisfied: pandas in /usr/local/lib/python3.7/dist-packages (from mlflow) (1.1.5)\n",
            "Requirement already satisfied: websocket-client>=0.32.0 in /usr/local/lib/python3.7/dist-packages (from docker>=4.0.0->mlflow) (1.1.0)\n",
            "Requirement already satisfied: typing-extensions>=3.7.4.0; python_version < \"3.8\" in /usr/local/lib/python3.7/dist-packages (from gitpython>=2.1.0->mlflow) (3.7.4.3)\n",
            "Requirement already satisfied: gitdb<5,>=4.0.1 in /usr/local/lib/python3.7/dist-packages (from gitpython>=2.1.0->mlflow) (4.0.7)\n",
            "Requirement already satisfied: six>=1.9 in /usr/local/lib/python3.7/dist-packages (from protobuf>=3.7.0->mlflow) (1.15.0)\n",
            "Requirement already satisfied: Jinja2<3.0,>=2.10.1 in /usr/local/lib/python3.7/dist-packages (from Flask->mlflow) (2.11.3)\n",
            "Requirement already satisfied: Werkzeug<2.0,>=0.15 in /usr/local/lib/python3.7/dist-packages (from Flask->mlflow) (1.0.1)\n",
            "Requirement already satisfied: itsdangerous<2.0,>=0.24 in /usr/local/lib/python3.7/dist-packages (from Flask->mlflow) (1.1.0)\n",
            "Requirement already satisfied: pyparsing>=2.0.2 in /usr/local/lib/python3.7/dist-packages (from packaging->mlflow) (2.4.7)\n",
            "Requirement already satisfied: idna<3,>=2.5 in /usr/local/lib/python3.7/dist-packages (from requests>=2.17.3->mlflow) (2.10)\n",
            "Requirement already satisfied: chardet<4,>=3.0.2 in /usr/local/lib/python3.7/dist-packages (from requests>=2.17.3->mlflow) (3.0.4)\n",
            "Requirement already satisfied: certifi>=2017.4.17 in /usr/local/lib/python3.7/dist-packages (from requests>=2.17.3->mlflow) (2021.5.30)\n",
            "Requirement already satisfied: urllib3!=1.25.0,!=1.25.1,<1.26,>=1.21.1 in /usr/local/lib/python3.7/dist-packages (from requests>=2.17.3->mlflow) (1.24.3)\n",
            "Requirement already satisfied: prometheus-client in /usr/local/lib/python3.7/dist-packages (from prometheus-flask-exporter->mlflow) (0.11.0)\n",
            "Requirement already satisfied: importlib-metadata; python_version < \"3.8\" in /usr/local/lib/python3.7/dist-packages (from sqlalchemy->mlflow) (4.6.0)\n",
            "Requirement already satisfied: greenlet!=0.4.17; python_version >= \"3\" in /usr/local/lib/python3.7/dist-packages (from sqlalchemy->mlflow) (1.1.0)\n",
            "Requirement already satisfied: setuptools>=3.0 in /usr/local/lib/python3.7/dist-packages (from gunicorn; platform_system != \"Windows\"->mlflow) (57.0.0)\n",
            "Requirement already satisfied: tabulate>=0.7.7 in /usr/local/lib/python3.7/dist-packages (from databricks-cli>=0.8.7->mlflow) (0.8.9)\n",
            "Requirement already satisfied: python-editor>=0.3 in /usr/local/lib/python3.7/dist-packages (from alembic<=1.4.1->mlflow) (1.0.4)\n",
            "Requirement already satisfied: python-dateutil in /usr/local/lib/python3.7/dist-packages (from alembic<=1.4.1->mlflow) (2.8.1)\n",
            "Requirement already satisfied: Mako in /usr/local/lib/python3.7/dist-packages (from alembic<=1.4.1->mlflow) (1.1.4)\n",
            "Requirement already satisfied: smmap<5,>=3.0.1 in /usr/local/lib/python3.7/dist-packages (from gitdb<5,>=4.0.1->gitpython>=2.1.0->mlflow) (4.0.0)\n",
            "Requirement already satisfied: MarkupSafe>=0.23 in /usr/local/lib/python3.7/dist-packages (from Jinja2<3.0,>=2.10.1->Flask->mlflow) (2.0.1)\n",
            "Requirement already satisfied: zipp>=0.5 in /usr/local/lib/python3.7/dist-packages (from importlib-metadata; python_version < \"3.8\"->sqlalchemy->mlflow) (3.4.1)\n"
          ],
          "name": "stdout"
        }
      ]
    },
    {
      "cell_type": "markdown",
      "metadata": {
        "id": "juv8-OyqbEM8"
      },
      "source": [
        "Now that we have installed everything we will remove some data from our data. We are going to avoid Hentai recommendations from now, and want to ensure that we use full length shows or movies, so if an anime duration is in seconds we will remove it.\n",
        "\n",
        " Following that, we will import the following libraries for PySpark, and set up a spark session."
      ]
    },
    {
      "cell_type": "code",
      "metadata": {
        "id": "J8CMJxg1sqS2"
      },
      "source": [
        "import pandas as pd\n",
        "\n",
        "anime_df = pd.read_csv('anime.csv')\n",
        "anime_list_df = pd.read_csv('animelist.csv')\n",
        "anime_df = anime_df[~anime_df['Genders'].str.contains(\"Hentai\")]\n",
        "anime_df = anime_df[~anime_df['Duration'].str.contains(\"sec\")]\n",
        "anime_df = anime_df[~anime_df['Type'].str.contains('|'.join(['Movie','Music' , 'OVA', 'Special', 'ONA', 'Unknown']))]\n",
        "# anime_df = anime_df[anime_df['Popularity'] < 14000]\n",
        "# anime_df = anime_df[anime_df['Premeired'] >= 1980]\n",
        "cleaned_df = anime_list_df[anime_list_df['anime_id'].isin(list(anime_df['MAL_ID'].tolist()))]\n",
        "\n",
        "# There is way too much data in this set so we will be resampling the data to \n",
        "# make a smaller data set.\n",
        "cleaned_df = cleaned_df.sample(5000000, random_state=1)"
      ],
      "execution_count": 2,
      "outputs": []
    },
    {
      "cell_type": "code",
      "metadata": {
        "colab": {
          "base_uri": "https://localhost:8080/",
          "height": 419
        },
        "id": "4CN6kFrfxGOs",
        "outputId": "641109c2-910e-4a10-b750-c2c69c645ac4"
      },
      "source": [
        "cleaned_df"
      ],
      "execution_count": 3,
      "outputs": [
        {
          "output_type": "execute_result",
          "data": {
            "text/html": [
              "<div>\n",
              "<style scoped>\n",
              "    .dataframe tbody tr th:only-of-type {\n",
              "        vertical-align: middle;\n",
              "    }\n",
              "\n",
              "    .dataframe tbody tr th {\n",
              "        vertical-align: top;\n",
              "    }\n",
              "\n",
              "    .dataframe thead th {\n",
              "        text-align: right;\n",
              "    }\n",
              "</style>\n",
              "<table border=\"1\" class=\"dataframe\">\n",
              "  <thead>\n",
              "    <tr style=\"text-align: right;\">\n",
              "      <th></th>\n",
              "      <th>user_id</th>\n",
              "      <th>anime_id</th>\n",
              "      <th>rating</th>\n",
              "      <th>watching_status</th>\n",
              "      <th>watched_episodes</th>\n",
              "    </tr>\n",
              "  </thead>\n",
              "  <tbody>\n",
              "    <tr>\n",
              "      <th>92987086</th>\n",
              "      <td>300385</td>\n",
              "      <td>36949</td>\n",
              "      <td>5</td>\n",
              "      <td>2</td>\n",
              "      <td>12</td>\n",
              "    </tr>\n",
              "    <tr>\n",
              "      <th>98321496</th>\n",
              "      <td>317645</td>\n",
              "      <td>10447</td>\n",
              "      <td>0</td>\n",
              "      <td>1</td>\n",
              "      <td>0</td>\n",
              "    </tr>\n",
              "    <tr>\n",
              "      <th>12895905</th>\n",
              "      <td>41942</td>\n",
              "      <td>33475</td>\n",
              "      <td>0</td>\n",
              "      <td>6</td>\n",
              "      <td>0</td>\n",
              "    </tr>\n",
              "    <tr>\n",
              "      <th>31188545</th>\n",
              "      <td>101089</td>\n",
              "      <td>235</td>\n",
              "      <td>0</td>\n",
              "      <td>3</td>\n",
              "      <td>400</td>\n",
              "    </tr>\n",
              "    <tr>\n",
              "      <th>14474966</th>\n",
              "      <td>47015</td>\n",
              "      <td>11887</td>\n",
              "      <td>9</td>\n",
              "      <td>2</td>\n",
              "      <td>13</td>\n",
              "    </tr>\n",
              "    <tr>\n",
              "      <th>...</th>\n",
              "      <td>...</td>\n",
              "      <td>...</td>\n",
              "      <td>...</td>\n",
              "      <td>...</td>\n",
              "      <td>...</td>\n",
              "    </tr>\n",
              "    <tr>\n",
              "      <th>6724690</th>\n",
              "      <td>22026</td>\n",
              "      <td>7791</td>\n",
              "      <td>7</td>\n",
              "      <td>2</td>\n",
              "      <td>26</td>\n",
              "    </tr>\n",
              "    <tr>\n",
              "      <th>23052922</th>\n",
              "      <td>74586</td>\n",
              "      <td>36563</td>\n",
              "      <td>8</td>\n",
              "      <td>2</td>\n",
              "      <td>13</td>\n",
              "    </tr>\n",
              "    <tr>\n",
              "      <th>65350483</th>\n",
              "      <td>211503</td>\n",
              "      <td>20899</td>\n",
              "      <td>10</td>\n",
              "      <td>2</td>\n",
              "      <td>24</td>\n",
              "    </tr>\n",
              "    <tr>\n",
              "      <th>8701273</th>\n",
              "      <td>28432</td>\n",
              "      <td>11615</td>\n",
              "      <td>6</td>\n",
              "      <td>2</td>\n",
              "      <td>13</td>\n",
              "    </tr>\n",
              "    <tr>\n",
              "      <th>78237111</th>\n",
              "      <td>253245</td>\n",
              "      <td>41521</td>\n",
              "      <td>0</td>\n",
              "      <td>1</td>\n",
              "      <td>0</td>\n",
              "    </tr>\n",
              "  </tbody>\n",
              "</table>\n",
              "<p>5000000 rows × 5 columns</p>\n",
              "</div>"
            ],
            "text/plain": [
              "          user_id  anime_id  rating  watching_status  watched_episodes\n",
              "92987086   300385     36949       5                2                12\n",
              "98321496   317645     10447       0                1                 0\n",
              "12895905    41942     33475       0                6                 0\n",
              "31188545   101089       235       0                3               400\n",
              "14474966    47015     11887       9                2                13\n",
              "...           ...       ...     ...              ...               ...\n",
              "6724690     22026      7791       7                2                26\n",
              "23052922    74586     36563       8                2                13\n",
              "65350483   211503     20899      10                2                24\n",
              "8701273     28432     11615       6                2                13\n",
              "78237111   253245     41521       0                1                 0\n",
              "\n",
              "[5000000 rows x 5 columns]"
            ]
          },
          "metadata": {
            "tags": []
          },
          "execution_count": 3
        }
      ]
    },
    {
      "cell_type": "code",
      "metadata": {
        "id": "Cs3k8BdsstrD"
      },
      "source": [
        "import pyspark\n",
        "from pyspark.ml.regression import RandomForestRegressor\n",
        "from pyspark.ml import feature\n",
        "from pyspark.ml.feature import StringIndexer, VectorAssembler, OneHotEncoder\n",
        "from pyspark.ml.tuning import ParamGridBuilder, TrainValidationSplit, CrossValidator\n",
        "from pyspark.ml.evaluation import RegressionEvaluator\n",
        "from pyspark.ml import Pipeline\n",
        "from pyspark.sql import SparkSession\n",
        "# import org.apache.spark.sql.functions.col\n",
        "# import org.apache.spark.sql.types.IntegerType\n",
        "# import pyspark.sql.functions.col\n",
        "from pyspark.sql.types import IntegerType"
      ],
      "execution_count": 4,
      "outputs": []
    },
    {
      "cell_type": "code",
      "metadata": {
        "id": "-q-0oziytrod"
      },
      "source": [
        "spark = SparkSession\\\n",
        "        .builder\\\n",
        "        .appName('anime_rec').config('spark.driver.host', 'localhost')\\\n",
        "        .getOrCreate()"
      ],
      "execution_count": 5,
      "outputs": []
    },
    {
      "cell_type": "markdown",
      "metadata": {
        "id": "sRtji7wGbsbZ"
      },
      "source": [
        "Next, we are going to create a spark dataframe for our user recommendation data. We only want ratings, user id, and anime id. Because the dataset is already pretty large, we want to drop anything we can, so we can get rid of watched_status and watched_episodes. Additonally, we need to make sure all of our remaining values are integers.\n",
        "\n",
        "Note: If you are also using Google Colab, you will need to make sure to upload any CSVs in the colab instance."
      ]
    },
    {
      "cell_type": "code",
      "metadata": {
        "id": "WN6p3aIWtCOs"
      },
      "source": [
        "rec_data = spark.createDataFrame(cleaned_df)"
      ],
      "execution_count": 6,
      "outputs": []
    },
    {
      "cell_type": "code",
      "metadata": {
        "id": "6M2a5rActmWK"
      },
      "source": [
        "\n",
        "rec_data = rec_data.withColumn('rating', rec_data['rating'].cast(IntegerType()))\n",
        "rec_data = rec_data.withColumn('user_id', rec_data['user_id'].cast(IntegerType()))\n",
        "rec_data = rec_data.withColumn('anime_id', rec_data['anime_id'].cast(IntegerType()))"
      ],
      "execution_count": 7,
      "outputs": []
    },
    {
      "cell_type": "code",
      "metadata": {
        "colab": {
          "base_uri": "https://localhost:8080/"
        },
        "id": "rstj-AYJt_h3",
        "outputId": "3a67b3b0-756e-49d6-c75f-efb8f3888bdf"
      },
      "source": [
        "rec_data.dtypes"
      ],
      "execution_count": 8,
      "outputs": [
        {
          "output_type": "execute_result",
          "data": {
            "text/plain": [
              "[('user_id', 'int'),\n",
              " ('anime_id', 'int'),\n",
              " ('rating', 'int'),\n",
              " ('watching_status', 'bigint'),\n",
              " ('watched_episodes', 'bigint')]"
            ]
          },
          "metadata": {
            "tags": []
          },
          "execution_count": 8
        }
      ]
    },
    {
      "cell_type": "code",
      "metadata": {
        "id": "mWi-85ODw8Va"
      },
      "source": [
        "rec_data = rec_data.drop('watching_status')\n",
        "rec_data = rec_data.drop('watched_episodes')"
      ],
      "execution_count": 9,
      "outputs": []
    },
    {
      "cell_type": "code",
      "metadata": {
        "colab": {
          "base_uri": "https://localhost:8080/"
        },
        "id": "tA6olC_TxEhG",
        "outputId": "12e90303-f262-449b-ac6e-6d2ca231a9ce"
      },
      "source": [
        "rec_data"
      ],
      "execution_count": 10,
      "outputs": [
        {
          "output_type": "execute_result",
          "data": {
            "text/plain": [
              "DataFrame[user_id: int, anime_id: int, rating: int]"
            ]
          },
          "metadata": {
            "tags": []
          },
          "execution_count": 10
        }
      ]
    },
    {
      "cell_type": "markdown",
      "metadata": {
        "id": "ar87U29YbwMw"
      },
      "source": [
        "## Building Our Model\n",
        "\n",
        "Now that everything is set up, we can do a train test split and build a model. Our first model will make some guesses for our parameters, and from there we can try tweaking things a bit."
      ]
    },
    {
      "cell_type": "code",
      "metadata": {
        "id": "Y2fEfTHyxMuo"
      },
      "source": [
        "from pyspark.ml.evaluation import RegressionEvaluator\n",
        "\n",
        "from pyspark.ml.recommendation import ALS\n",
        "\n",
        "(training, test) = rec_data.randomSplit([0.8, 0.2], seed=1)\n",
        "\n",
        "als = ALS(userCol='user_id', itemCol='anime_id', ratingCol='rating', coldStartStrategy ='drop', nonnegative= True, implicitPrefs=True)\n"
      ],
      "execution_count": 11,
      "outputs": []
    },
    {
      "cell_type": "code",
      "metadata": {
        "id": "ts3MoklAxpO6"
      },
      "source": [
        "params = ParamGridBuilder()\\\n",
        "  .addGrid(als.regParam, [0.1, 0.2])\\\n",
        "  .addGrid(als.maxIter, [20])\\\n",
        "  .addGrid(als.rank, [15]).build() # Ran earlier and found 10 to be best\n",
        "\n",
        "evaluator = RegressionEvaluator(metricName='rmse', labelCol='rating', predictionCol='prediction')\n",
        "\n",
        "tvs = TrainValidationSplit(estimator=als,\n",
        "                    estimatorParamMaps=params,\n",
        "                    evaluator=evaluator)"
      ],
      "execution_count": 12,
      "outputs": []
    },
    {
      "cell_type": "code",
      "metadata": {
        "id": "utOSC4xuZHS2"
      },
      "source": [
        "model = tvs.fit(training)\n",
        "\n",
        "best_model = model.bestModel"
      ],
      "execution_count": 13,
      "outputs": []
    },
    {
      "cell_type": "code",
      "metadata": {
        "id": "7sBXkCXUkOr9",
        "colab": {
          "base_uri": "https://localhost:8080/"
        },
        "outputId": "6ea9d8c4-21c9-4f2f-c15a-6264cdfb7c29"
      },
      "source": [
        "# We see the best model has a rank of 10, so we will use that in our future models with this dataset\n",
        "predictions = model.transform(test)\n",
        "rmse = evaluator.evaluate(predictions)\n",
        "\n",
        "print('RMSE = ' + str(rmse))\n",
        "print('---Best Model---')\n",
        "print(' Rank:', best_model.rank) \n",
        "print(' MaxIter:', best_model._java_obj.parent().getMaxIter())\n",
        "print(' RegParam:', best_model._java_obj.parent().getRegParam())"
      ],
      "execution_count": 14,
      "outputs": [
        {
          "output_type": "stream",
          "text": [
            "RMSE = 5.731110336044163\n",
            "---Best Model---\n",
            " Rank: 15\n",
            " MaxIter: 20\n",
            " RegParam: 0.2\n"
          ],
          "name": "stdout"
        }
      ]
    },
    {
      "cell_type": "markdown",
      "metadata": {
        "id": "wsAvayJqcBaO"
      },
      "source": [
        "## Matching IDs to Names\n",
        "\n",
        "Now that we have a model with more dependable scores, we need to be a bit user friendly. It is not very helpful to recommend anime_id 1 to a user, rather than Cowboy Bepop!\n",
        "\n",
        "We are going to pull in our data set with anime information and write a function to get the title."
      ]
    },
    {
      "cell_type": "code",
      "metadata": {
        "id": "F5xAjDm-KxaO",
        "colab": {
          "base_uri": "https://localhost:8080/"
        },
        "outputId": "84742553-b730-4b19-86d0-c193b63be4fc"
      },
      "source": [
        "anime_titles = spark.read.csv('anime.csv', header=True)\n",
        "anime_titles.head(5)"
      ],
      "execution_count": 15,
      "outputs": [
        {
          "output_type": "execute_result",
          "data": {
            "text/plain": [
              "[Row(MAL_ID='1', Name='Cowboy Bebop', Score='8.78', Genders='Action, Adventure, Comedy, Drama, Sci-Fi, Space', English name='Cowboy Bebop', Japanese name='カウボーイビバップ', Type='TV', Episodes='26', Aired='Apr 3, 1998 to Apr 24, 1999', Premiered='Spring 1998', Producers='Bandai Visual', Licensors='Funimation, Bandai Entertainment', Studios='Sunrise', Source='Original', Duration='24 min. per ep.', Rating='R - 17+ (violence & profanity)', Ranked='28.0', Popularity='39', Members='1251960', Favorites='61971', Watching='105808', Completed='718161', On-Hold='71513', Dropped='26678', Plan to Watch='329800', Score-10='229170.0', Score-9='182126.0', Score-8='131625.0', Score-7='62330.0', Score-6='20688.0', Score-5='8904.0', Score-4='3184.0', Score-3='1357.0', Score-2='741.0', Score-1='1580.0'),\n",
              " Row(MAL_ID='5', Name='Cowboy Bebop: Tengoku no Tobira', Score='8.39', Genders='Action, Drama, Mystery, Sci-Fi, Space', English name='Cowboy Bebop:The Movie', Japanese name='カウボーイビバップ 天国の扉', Type='Movie', Episodes='1', Aired='Sep 1, 2001', Premiered='Unknown', Producers='Sunrise, Bandai Visual', Licensors='Sony Pictures Entertainment', Studios='Bones', Source='Original', Duration='1 hr. 55 min.', Rating='R - 17+ (violence & profanity)', Ranked='159.0', Popularity='518', Members='273145', Favorites='1174', Watching='4143', Completed='208333', On-Hold='1935', Dropped='770', Plan to Watch='57964', Score-10='30043.0', Score-9='49201.0', Score-8='49505.0', Score-7='22632.0', Score-6='5805.0', Score-5='1877.0', Score-4='577.0', Score-3='221.0', Score-2='109.0', Score-1='379.0'),\n",
              " Row(MAL_ID='6', Name='Trigun', Score='8.24', Genders='Action, Sci-Fi, Adventure, Comedy, Drama, Shounen', English name='Trigun', Japanese name='トライガン', Type='TV', Episodes='26', Aired='Apr 1, 1998 to Sep 30, 1998', Premiered='Spring 1998', Producers='Victor Entertainment', Licensors='Funimation, Geneon Entertainment USA', Studios='Madhouse', Source='Manga', Duration='24 min. per ep.', Rating='PG-13 - Teens 13 or older', Ranked='266.0', Popularity='201', Members='558913', Favorites='12944', Watching='29113', Completed='343492', On-Hold='25465', Dropped='13925', Plan to Watch='146918', Score-10='50229.0', Score-9='75651.0', Score-8='86142.0', Score-7='49432.0', Score-6='15376.0', Score-5='5838.0', Score-4='1965.0', Score-3='664.0', Score-2='316.0', Score-1='533.0'),\n",
              " Row(MAL_ID='7', Name='Witch Hunter Robin', Score='7.27', Genders='Action, Mystery, Police, Supernatural, Drama, Magic', English name='Witch Hunter Robin', Japanese name='Witch Hunter ROBIN (ウイッチハンターロビン)', Type='TV', Episodes='26', Aired='Jul 2, 2002 to Dec 24, 2002', Premiered='Summer 2002', Producers='TV Tokyo, Bandai Visual, Dentsu, Victor Entertainment', Licensors='Funimation, Bandai Entertainment', Studios='Sunrise', Source='Original', Duration='25 min. per ep.', Rating='PG-13 - Teens 13 or older', Ranked='2481.0', Popularity='1467', Members='94683', Favorites='587', Watching='4300', Completed='46165', On-Hold='5121', Dropped='5378', Plan to Watch='33719', Score-10='2182.0', Score-9='4806.0', Score-8='10128.0', Score-7='11618.0', Score-6='5709.0', Score-5='2920.0', Score-4='1083.0', Score-3='353.0', Score-2='164.0', Score-1='131.0'),\n",
              " Row(MAL_ID='8', Name='Bouken Ou Beet', Score='6.98', Genders='Adventure, Fantasy, Shounen, Supernatural', English name='Beet the Vandel Buster', Japanese name='冒険王ビィト', Type='TV', Episodes='52', Aired='Sep 30, 2004 to Sep 29, 2005', Premiered='Fall 2004', Producers='TV Tokyo, Dentsu', Licensors='Unknown', Studios='Toei Animation', Source='Manga', Duration='23 min. per ep.', Rating='PG - Children', Ranked='3710.0', Popularity='4369', Members='13224', Favorites='18', Watching='642', Completed='7314', On-Hold='766', Dropped='1108', Plan to Watch='3394', Score-10='312.0', Score-9='529.0', Score-8='1242.0', Score-7='1713.0', Score-6='1068.0', Score-5='634.0', Score-4='265.0', Score-3='83.0', Score-2='50.0', Score-1='27.0')]"
            ]
          },
          "metadata": {
            "tags": []
          },
          "execution_count": 15
        }
      ]
    },
    {
      "cell_type": "code",
      "metadata": {
        "id": "nZGzLULlfzyf"
      },
      "source": [
        "def name_retriever(anime_id, dataframe=anime_titles):\n",
        "    name = anime_titles.where(anime_titles.MAL_ID == anime_id).take(1)[0]['English name']\n",
        "    # If there is no English name available\n",
        "    if name == 'Unknown':\n",
        "      name = anime_titles.where(anime_titles.MAL_ID == anime_id).take(1)[0]['Name']\n",
        "    return name"
      ],
      "execution_count": 16,
      "outputs": []
    },
    {
      "cell_type": "code",
      "metadata": {
        "id": "UYYubwQOhoRT",
        "colab": {
          "base_uri": "https://localhost:8080/"
        },
        "outputId": "d9e4483d-ca98-4bab-a232-15704f99147d"
      },
      "source": [
        "print(name_retriever(1, anime_titles))"
      ],
      "execution_count": 17,
      "outputs": [
        {
          "output_type": "stream",
          "text": [
            "Cowboy Bebop\n"
          ],
          "name": "stdout"
        }
      ]
    },
    {
      "cell_type": "markdown",
      "metadata": {
        "id": "C-znlJDAcIFp"
      },
      "source": [
        "## Getting Recommendations\n",
        "\n",
        "We are going to go ahead and pull recommendations for users. Spark actually already has built in functions to get recommendations called recommendForUserSubset. There is also a more general function called recommendForAllUsers."
      ]
    },
    {
      "cell_type": "code",
      "metadata": {
        "id": "S7_g3IsChqsv"
      },
      "source": [
        "users = rec_data.select(als.getUserCol()).distinct().limit(10)\n",
        "userSubsetRecs = best_model.recommendForUserSubset(users, 10)\n",
        "recs = userSubsetRecs.take(1)"
      ],
      "execution_count": 18,
      "outputs": []
    },
    {
      "cell_type": "code",
      "metadata": {
        "id": "E4SGsLe8Nlv5",
        "colab": {
          "base_uri": "https://localhost:8080/"
        },
        "outputId": "3f51d74b-a9ee-4ae7-dc03-7a5ab83b8423"
      },
      "source": [
        "recs"
      ],
      "execution_count": 19,
      "outputs": [
        {
          "output_type": "execute_result",
          "data": {
            "text/plain": [
              "[Row(user_id=109050, recommendations=[Row(anime_id=1575, rating=0.5800600647926331), Row(anime_id=20, rating=0.557708203792572), Row(anime_id=19815, rating=0.5254242420196533), Row(anime_id=4224, rating=0.5145238041877747), Row(anime_id=23273, rating=0.5140708684921265), Row(anime_id=11061, rating=0.5120140314102173), Row(anime_id=20507, rating=0.5088703036308289), Row(anime_id=25777, rating=0.4907777011394501), Row(anime_id=10620, rating=0.489093542098999), Row(anime_id=8074, rating=0.48525917530059814)])]"
            ]
          },
          "metadata": {
            "tags": []
          },
          "execution_count": 19
        }
      ]
    },
    {
      "cell_type": "code",
      "metadata": {
        "id": "K9t0mietidNG",
        "colab": {
          "base_uri": "https://localhost:8080/",
          "height": 35
        },
        "outputId": "c016b175-d953-44a9-b9ae-d97609c3ff7d"
      },
      "source": [
        "# use indexing to obtain the movie id of top predicted rated item\n",
        "first_recommendation = recs[0]['recommendations'][0][0]\n",
        "\n",
        "# use the name retriever function to get the values\n",
        "name_retriever(first_recommendation,anime_titles)"
      ],
      "execution_count": 20,
      "outputs": [
        {
          "output_type": "execute_result",
          "data": {
            "application/vnd.google.colaboratory.intrinsic+json": {
              "type": "string"
            },
            "text/plain": [
              "'Code Geass:Lelouch of the Rebellion'"
            ]
          },
          "metadata": {
            "tags": []
          },
          "execution_count": 20
        }
      ]
    },
    {
      "cell_type": "code",
      "metadata": {
        "id": "a0YNAeqzm2lf",
        "colab": {
          "base_uri": "https://localhost:8080/"
        },
        "outputId": "282763f9-c80a-4cd8-8231-c4c73db8f5f6"
      },
      "source": [
        "recommendations = best_model.recommendForAllUsers(5)\n",
        "recommendations.where(recommendations.user_id == 7340).collect()"
      ],
      "execution_count": 21,
      "outputs": [
        {
          "output_type": "execute_result",
          "data": {
            "text/plain": [
              "[Row(user_id=7340, recommendations=[Row(anime_id=5081, rating=0.7071511149406433), Row(anime_id=226, rating=0.7050871849060059), Row(anime_id=2167, rating=0.6992486119270325), Row(anime_id=9756, rating=0.6958047151565552), Row(anime_id=14741, rating=0.6565090417861938)])]"
            ]
          },
          "metadata": {
            "tags": []
          },
          "execution_count": 21
        }
      ]
    },
    {
      "cell_type": "markdown",
      "metadata": {
        "id": "n585yiNecYHT"
      },
      "source": [
        "We can also set up a function for creating a new user getting and recommendations for them based on review scores we input for them. We can put the same scores into Anime Planet, and see how our recommendations compare to theirs!"
      ]
    },
    {
      "cell_type": "code",
      "metadata": {
        "id": "wkb0iK3pnQ12"
      },
      "source": [
        "def new_user_recs(user_id, new_ratings, rating_df, anime_title_df, num_recs):\n",
        "    # turn the new_recommendations list into a spark DataFrame\n",
        "    new_user_ratings = spark.createDataFrame(new_ratings, rating_df.columns)\n",
        "    \n",
        "    # combine the new ratings df with the rating_df\n",
        "    anime_ratings_combined = rating_df.union(new_user_ratings)\n",
        "    \n",
        "    # create an ALS model and fit it\n",
        "    als = ALS(maxIter=15, rank=15, regParam=0.2, userCol='user_id', itemCol='anime_id', ratingCol='rating', coldStartStrategy='drop')\n",
        "    model = als.fit(anime_ratings_combined)\n",
        "    \n",
        "    # make recommendations for all users using the recommendForAllUsers method\n",
        "    recommendations = model.recommendForAllUsers(num_recs)\n",
        "\n",
        "    # get recommendations specifically for the new user that has been added to the DataFrame\n",
        "    recs_for_user = recommendations.where(recommendations.user_id == user_id).take(1)\n",
        "\n",
        "    for ranking, (anime_id, rating) in enumerate(recs_for_user[0]['recommendations']):\n",
        "      anime_string = name_retriever(anime_id, anime_title_df)\n",
        "      print('Recommendation {}: {}  | predicted score: {}'.format(ranking+1, anime_string, round(rating)))"
      ],
      "execution_count": 22,
      "outputs": []
    },
    {
      "cell_type": "markdown",
      "metadata": {
        "id": "ssOFZHZlcp8X"
      },
      "source": [
        "To do a sanity check, I will enter myself as a user and with some anime rankings and get 10 recommendations for myself. We can investigate the recommendations to see if they make sense, and make adjustments based on our findings."
      ]
    },
    {
      "cell_type": "code",
      "metadata": {
        "id": "70kpfLJmnQ-p"
      },
      "source": [
        "user_id = 1000000\n",
        "user_ratings_1 = [(user_id,1,7), # Cowboy Bepop\n",
        "                  (user_id,2,7), # Trigun\n",
        "                  (user_id,30,10), # Neon Genesis Evangelion\n",
        "                  (user_id,32937,10), # KonoSuba 2\n",
        "                  (user_id,22199,5), # Akame ga Kill!\n",
        "                  (user_id,18679,8), # Kill la Kill\n",
        "                  (user_id, 28121, 1)] # Is It Wrong to Pick Up Girls in a Dungeon?\n"
      ],
      "execution_count": 35,
      "outputs": []
    },
    {
      "cell_type": "code",
      "metadata": {
        "id": "hliC0lUdnRDd",
        "colab": {
          "base_uri": "https://localhost:8080/"
        },
        "outputId": "eadb2b6b-3d51-45bc-f6ea-fbf88a66639b"
      },
      "source": [
        "new_user_recs(user_id,\n",
        "             new_ratings=user_ratings_1,\n",
        "             rating_df=rec_data,\n",
        "             anime_title_df=anime_titles,\n",
        "             num_recs = 10)"
      ],
      "execution_count": 36,
      "outputs": [
        {
          "output_type": "stream",
          "text": [
            "Recommendation 1: Neon Genesis Evangelion  | predicted score: 10\n",
            "Recommendation 2: Kaguya-sama:Love is War Season 2  | predicted score: 9\n",
            "Recommendation 3: Owarimonogatari Second Season  | predicted score: 9\n",
            "Recommendation 4: Kaguya-sama:Love is War  | predicted score: 9\n",
            "Recommendation 5: Gintama.:Silver Soul Arc - Second Half War  | predicted score: 9\n",
            "Recommendation 6: Attack on Titan Season 3 Part 2  | predicted score: 9\n",
            "Recommendation 7: JoJo's Bizarre Adventure:Diamond is Unbreakable  | predicted score: 9\n",
            "Recommendation 8: Grand Blue Dreaming  | predicted score: 9\n",
            "Recommendation 9: Bakemonogatari  | predicted score: 9\n",
            "Recommendation 10: KonoSuba:God's Blessing on This Wonderful World! 2  | predicted score: 9\n"
          ],
          "name": "stdout"
        }
      ]
    },
    {
      "cell_type": "code",
      "metadata": {
        "id": "JOdrXvkDnRHC"
      },
      "source": [
        ""
      ],
      "execution_count": null,
      "outputs": []
    }
  ]
}