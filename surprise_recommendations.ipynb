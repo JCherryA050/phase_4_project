{
  "nbformat": 4,
  "nbformat_minor": 0,
  "metadata": {
    "colab": {
      "name": "surprise_recommendations.ipynb",
      "provenance": [],
      "collapsed_sections": [
        "q3dpV9b5fT4M",
        "jYHSO3UXgNCp",
        "GIpB4NJxgcfs",
        "laT1QvZ6lbP7"
      ],
      "include_colab_link": true
    },
    "kernelspec": {
      "display_name": "Python (learn-env)",
      "language": "python",
      "name": "learn-env"
    },
    "language_info": {
      "codemirror_mode": {
        "name": "ipython",
        "version": 3
      },
      "file_extension": ".py",
      "mimetype": "text/x-python",
      "name": "python",
      "nbconvert_exporter": "python",
      "pygments_lexer": "ipython3",
      "version": "3.8.5"
    }
  },
  "cells": [
    {
      "cell_type": "markdown",
      "metadata": {
        "id": "view-in-github",
        "colab_type": "text"
      },
      "source": [
        "<a href=\"https://colab.research.google.com/github/JCherryA050/phase_4_project/blob/main/surprise_recommendations.ipynb\" target=\"_parent\"><img src=\"https://colab.research.google.com/assets/colab-badge.svg\" alt=\"Open In Colab\"/></a>"
      ]
    },
    {
      "cell_type": "markdown",
      "metadata": {
        "id": "B9ikdraBcqEN"
      },
      "source": [
        "# Adnime Recommendations with Surprise"
      ]
    },
    {
      "cell_type": "code",
      "metadata": {
        "id": "_Ue2kjsJeCAF",
        "outputId": "64cbf63f-44e7-467d-d91e-27885870687d",
        "colab": {
          "base_uri": "https://localhost:8080/"
        }
      },
      "source": [
        "from google.colab import drive\n",
        "drive.mount('/content/drive')"
      ],
      "execution_count": 109,
      "outputs": [
        {
          "output_type": "stream",
          "text": [
            "Mounted at /content/drive\n"
          ],
          "name": "stdout"
        }
      ]
    },
    {
      "cell_type": "markdown",
      "metadata": {
        "id": "8wrgJcxabdXT"
      },
      "source": [
        "## Load in the necessary packages and get a quick look at the data"
      ]
    },
    {
      "cell_type": "code",
      "metadata": {
        "colab": {
          "base_uri": "https://localhost:8080/"
        },
        "id": "JOdrXvkDnRHC",
        "outputId": "9e269bd0-2dac-447b-f6ad-41b72860945e"
      },
      "source": [
        "# Surprise is not downloaded in Google Colab instance so we have to download the packages first\n",
        "!pip install surprise"
      ],
      "execution_count": null,
      "outputs": [
        {
          "output_type": "stream",
          "text": [
            "Collecting surprise\n",
            "  Downloading https://files.pythonhosted.org/packages/61/de/e5cba8682201fcf9c3719a6fdda95693468ed061945493dea2dd37c5618b/surprise-0.1-py2.py3-none-any.whl\n",
            "Collecting scikit-surprise\n",
            "\u001b[?25l  Downloading https://files.pythonhosted.org/packages/97/37/5d334adaf5ddd65da99fc65f6507e0e4599d092ba048f4302fe8775619e8/scikit-surprise-1.1.1.tar.gz (11.8MB)\n",
            "\u001b[K     |████████████████████████████████| 11.8MB 245kB/s \n",
            "\u001b[?25hRequirement already satisfied: joblib>=0.11 in /usr/local/lib/python3.7/dist-packages (from scikit-surprise->surprise) (1.0.1)\n",
            "Requirement already satisfied: numpy>=1.11.2 in /usr/local/lib/python3.7/dist-packages (from scikit-surprise->surprise) (1.19.5)\n",
            "Requirement already satisfied: scipy>=1.0.0 in /usr/local/lib/python3.7/dist-packages (from scikit-surprise->surprise) (1.4.1)\n",
            "Requirement already satisfied: six>=1.10.0 in /usr/local/lib/python3.7/dist-packages (from scikit-surprise->surprise) (1.15.0)\n",
            "Building wheels for collected packages: scikit-surprise\n",
            "  Building wheel for scikit-surprise (setup.py) ... \u001b[?25l\u001b[?25hdone\n",
            "  Created wheel for scikit-surprise: filename=scikit_surprise-1.1.1-cp37-cp37m-linux_x86_64.whl size=1617626 sha256=deed88673be4876ed8edaa79107837d88d86587564c3bb8d9e687a8fb165020b\n",
            "  Stored in directory: /root/.cache/pip/wheels/78/9c/3d/41b419c9d2aff5b6e2b4c0fc8d25c538202834058f9ed110d0\n",
            "Successfully built scikit-surprise\n",
            "Installing collected packages: scikit-surprise, surprise\n",
            "Successfully installed scikit-surprise-1.1.1 surprise-0.1\n"
          ],
          "name": "stdout"
        }
      ]
    },
    {
      "cell_type": "code",
      "metadata": {
        "id": "inJ2oGigZ4qM"
      },
      "source": [
        "# importing all of the relevant packages for the project\n",
        "# Standard Packages\n",
        "import pandas as pd\n",
        "import numpy as np\n",
        "\n",
        "# Surprise Packages\n",
        "from surprise import Reader, Dataset\n",
        "from surprise.model_selection import cross_validate\n",
        "from surprise.prediction_algorithms import KNNWithMeans, KNNBasic, KNNBaseline, SVD\n",
        "from surprise.model_selection import GridSearchCV\n",
        "from surprise.model_selection import train_test_split\n",
        "import random\n",
        "random.seed(1)"
      ],
      "execution_count": null,
      "outputs": []
    },
    {
      "cell_type": "code",
      "metadata": {
        "id": "TYbqBdZcaHQW"
      },
      "source": [
        "# Load in the data as Pandas DataFrame\n",
        "# anime_df = pd.read_pickle('./drive/MyDrive/phase_4_data/cleaned_anime.pkl')\n",
        "anime_df = pd.read_csv('anime.csv')\n",
        "anime_list_df = pd.read_csv('animelist.csv')"
      ],
      "execution_count": 127,
      "outputs": []
    },
    {
      "cell_type": "code",
      "metadata": {
        "colab": {
          "base_uri": "https://localhost:8080/"
        },
        "id": "W2UANfXXaZnj",
        "outputId": "34e7b30e-783d-4643-a3b1-56e86556ff48"
      },
      "source": [
        "# Looking at the different features in the dataset, the set will fit into a \n",
        "# surprise model well as it has the relavent columns\n",
        "new_anime_list_df.shape"
      ],
      "execution_count": 128,
      "outputs": [
        {
          "output_type": "execute_result",
          "data": {
            "text/plain": [
              "(16932495, 5)"
            ]
          },
          "metadata": {
            "tags": []
          },
          "execution_count": 128
        }
      ]
    },
    {
      "cell_type": "code",
      "metadata": {
        "colab": {
          "base_uri": "https://localhost:8080/",
          "height": 666
        },
        "id": "MrCedSwSvkNG",
        "outputId": "857e5c72-7142-43d7-9147-09060aa1d515"
      },
      "source": [
        "# Looking at the different features of the anime, there seems to be some anime \n",
        "# with episode less than a minute and also anime of ill repute that we will\n",
        "# not include in the scope of the project.\n",
        "anime_df.head()"
      ],
      "execution_count": null,
      "outputs": [
        {
          "output_type": "execute_result",
          "data": {
            "text/html": [
              "<div>\n",
              "<style scoped>\n",
              "    .dataframe tbody tr th:only-of-type {\n",
              "        vertical-align: middle;\n",
              "    }\n",
              "\n",
              "    .dataframe tbody tr th {\n",
              "        vertical-align: top;\n",
              "    }\n",
              "\n",
              "    .dataframe thead th {\n",
              "        text-align: right;\n",
              "    }\n",
              "</style>\n",
              "<table border=\"1\" class=\"dataframe\">\n",
              "  <thead>\n",
              "    <tr style=\"text-align: right;\">\n",
              "      <th></th>\n",
              "      <th>MAL_ID</th>\n",
              "      <th>Name</th>\n",
              "      <th>Score</th>\n",
              "      <th>Genders</th>\n",
              "      <th>English name</th>\n",
              "      <th>Japanese name</th>\n",
              "      <th>Type</th>\n",
              "      <th>Episodes</th>\n",
              "      <th>Aired</th>\n",
              "      <th>Premiered</th>\n",
              "      <th>Producers</th>\n",
              "      <th>Licensors</th>\n",
              "      <th>Studios</th>\n",
              "      <th>Source</th>\n",
              "      <th>Duration</th>\n",
              "      <th>Rating</th>\n",
              "      <th>Ranked</th>\n",
              "      <th>Popularity</th>\n",
              "      <th>Members</th>\n",
              "      <th>Favorites</th>\n",
              "      <th>Watching</th>\n",
              "      <th>Completed</th>\n",
              "      <th>On-Hold</th>\n",
              "      <th>Dropped</th>\n",
              "      <th>Plan to Watch</th>\n",
              "      <th>Score-10</th>\n",
              "      <th>Score-9</th>\n",
              "      <th>Score-8</th>\n",
              "      <th>Score-7</th>\n",
              "      <th>Score-6</th>\n",
              "      <th>Score-5</th>\n",
              "      <th>Score-4</th>\n",
              "      <th>Score-3</th>\n",
              "      <th>Score-2</th>\n",
              "      <th>Score-1</th>\n",
              "    </tr>\n",
              "  </thead>\n",
              "  <tbody>\n",
              "    <tr>\n",
              "      <th>0</th>\n",
              "      <td>1</td>\n",
              "      <td>Cowboy Bebop</td>\n",
              "      <td>8.78</td>\n",
              "      <td>Action, Adventure, Comedy, Drama, Sci-Fi, Space</td>\n",
              "      <td>Cowboy Bebop</td>\n",
              "      <td>カウボーイビバップ</td>\n",
              "      <td>TV</td>\n",
              "      <td>26</td>\n",
              "      <td>Apr 3, 1998 to Apr 24, 1999</td>\n",
              "      <td>Spring 1998</td>\n",
              "      <td>Bandai Visual</td>\n",
              "      <td>Funimation, Bandai Entertainment</td>\n",
              "      <td>Sunrise</td>\n",
              "      <td>Original</td>\n",
              "      <td>24 min. per ep.</td>\n",
              "      <td>R - 17+ (violence &amp; profanity)</td>\n",
              "      <td>28.0</td>\n",
              "      <td>39</td>\n",
              "      <td>1251960</td>\n",
              "      <td>61971</td>\n",
              "      <td>105808</td>\n",
              "      <td>718161</td>\n",
              "      <td>71513</td>\n",
              "      <td>26678</td>\n",
              "      <td>329800</td>\n",
              "      <td>229170.0</td>\n",
              "      <td>182126.0</td>\n",
              "      <td>131625.0</td>\n",
              "      <td>62330.0</td>\n",
              "      <td>20688.0</td>\n",
              "      <td>8904.0</td>\n",
              "      <td>3184.0</td>\n",
              "      <td>1357.0</td>\n",
              "      <td>741.0</td>\n",
              "      <td>1580.0</td>\n",
              "    </tr>\n",
              "    <tr>\n",
              "      <th>1</th>\n",
              "      <td>5</td>\n",
              "      <td>Cowboy Bebop: Tengoku no Tobira</td>\n",
              "      <td>8.39</td>\n",
              "      <td>Action, Drama, Mystery, Sci-Fi, Space</td>\n",
              "      <td>Cowboy Bebop:The Movie</td>\n",
              "      <td>カウボーイビバップ 天国の扉</td>\n",
              "      <td>Movie</td>\n",
              "      <td>1</td>\n",
              "      <td>Sep 1, 2001</td>\n",
              "      <td>Unknown</td>\n",
              "      <td>Sunrise, Bandai Visual</td>\n",
              "      <td>Sony Pictures Entertainment</td>\n",
              "      <td>Bones</td>\n",
              "      <td>Original</td>\n",
              "      <td>1 hr. 55 min.</td>\n",
              "      <td>R - 17+ (violence &amp; profanity)</td>\n",
              "      <td>159.0</td>\n",
              "      <td>518</td>\n",
              "      <td>273145</td>\n",
              "      <td>1174</td>\n",
              "      <td>4143</td>\n",
              "      <td>208333</td>\n",
              "      <td>1935</td>\n",
              "      <td>770</td>\n",
              "      <td>57964</td>\n",
              "      <td>30043.0</td>\n",
              "      <td>49201.0</td>\n",
              "      <td>49505.0</td>\n",
              "      <td>22632.0</td>\n",
              "      <td>5805.0</td>\n",
              "      <td>1877.0</td>\n",
              "      <td>577.0</td>\n",
              "      <td>221.0</td>\n",
              "      <td>109.0</td>\n",
              "      <td>379.0</td>\n",
              "    </tr>\n",
              "    <tr>\n",
              "      <th>2</th>\n",
              "      <td>6</td>\n",
              "      <td>Trigun</td>\n",
              "      <td>8.24</td>\n",
              "      <td>Action, Sci-Fi, Adventure, Comedy, Drama, Shounen</td>\n",
              "      <td>Trigun</td>\n",
              "      <td>トライガン</td>\n",
              "      <td>TV</td>\n",
              "      <td>26</td>\n",
              "      <td>Apr 1, 1998 to Sep 30, 1998</td>\n",
              "      <td>Spring 1998</td>\n",
              "      <td>Victor Entertainment</td>\n",
              "      <td>Funimation, Geneon Entertainment USA</td>\n",
              "      <td>Madhouse</td>\n",
              "      <td>Manga</td>\n",
              "      <td>24 min. per ep.</td>\n",
              "      <td>PG-13 - Teens 13 or older</td>\n",
              "      <td>266.0</td>\n",
              "      <td>201</td>\n",
              "      <td>558913</td>\n",
              "      <td>12944</td>\n",
              "      <td>29113</td>\n",
              "      <td>343492</td>\n",
              "      <td>25465</td>\n",
              "      <td>13925</td>\n",
              "      <td>146918</td>\n",
              "      <td>50229.0</td>\n",
              "      <td>75651.0</td>\n",
              "      <td>86142.0</td>\n",
              "      <td>49432.0</td>\n",
              "      <td>15376.0</td>\n",
              "      <td>5838.0</td>\n",
              "      <td>1965.0</td>\n",
              "      <td>664.0</td>\n",
              "      <td>316.0</td>\n",
              "      <td>533.0</td>\n",
              "    </tr>\n",
              "    <tr>\n",
              "      <th>3</th>\n",
              "      <td>7</td>\n",
              "      <td>Witch Hunter Robin</td>\n",
              "      <td>7.27</td>\n",
              "      <td>Action, Mystery, Police, Supernatural, Drama, ...</td>\n",
              "      <td>Witch Hunter Robin</td>\n",
              "      <td>Witch Hunter ROBIN (ウイッチハンターロビン)</td>\n",
              "      <td>TV</td>\n",
              "      <td>26</td>\n",
              "      <td>Jul 2, 2002 to Dec 24, 2002</td>\n",
              "      <td>Summer 2002</td>\n",
              "      <td>TV Tokyo, Bandai Visual, Dentsu, Victor Entert...</td>\n",
              "      <td>Funimation, Bandai Entertainment</td>\n",
              "      <td>Sunrise</td>\n",
              "      <td>Original</td>\n",
              "      <td>25 min. per ep.</td>\n",
              "      <td>PG-13 - Teens 13 or older</td>\n",
              "      <td>2481.0</td>\n",
              "      <td>1467</td>\n",
              "      <td>94683</td>\n",
              "      <td>587</td>\n",
              "      <td>4300</td>\n",
              "      <td>46165</td>\n",
              "      <td>5121</td>\n",
              "      <td>5378</td>\n",
              "      <td>33719</td>\n",
              "      <td>2182.0</td>\n",
              "      <td>4806.0</td>\n",
              "      <td>10128.0</td>\n",
              "      <td>11618.0</td>\n",
              "      <td>5709.0</td>\n",
              "      <td>2920.0</td>\n",
              "      <td>1083.0</td>\n",
              "      <td>353.0</td>\n",
              "      <td>164.0</td>\n",
              "      <td>131.0</td>\n",
              "    </tr>\n",
              "    <tr>\n",
              "      <th>4</th>\n",
              "      <td>8</td>\n",
              "      <td>Bouken Ou Beet</td>\n",
              "      <td>6.98</td>\n",
              "      <td>Adventure, Fantasy, Shounen, Supernatural</td>\n",
              "      <td>Beet the Vandel Buster</td>\n",
              "      <td>冒険王ビィト</td>\n",
              "      <td>TV</td>\n",
              "      <td>52</td>\n",
              "      <td>Sep 30, 2004 to Sep 29, 2005</td>\n",
              "      <td>Fall 2004</td>\n",
              "      <td>TV Tokyo, Dentsu</td>\n",
              "      <td>Unknown</td>\n",
              "      <td>Toei Animation</td>\n",
              "      <td>Manga</td>\n",
              "      <td>23 min. per ep.</td>\n",
              "      <td>PG - Children</td>\n",
              "      <td>3710.0</td>\n",
              "      <td>4369</td>\n",
              "      <td>13224</td>\n",
              "      <td>18</td>\n",
              "      <td>642</td>\n",
              "      <td>7314</td>\n",
              "      <td>766</td>\n",
              "      <td>1108</td>\n",
              "      <td>3394</td>\n",
              "      <td>312.0</td>\n",
              "      <td>529.0</td>\n",
              "      <td>1242.0</td>\n",
              "      <td>1713.0</td>\n",
              "      <td>1068.0</td>\n",
              "      <td>634.0</td>\n",
              "      <td>265.0</td>\n",
              "      <td>83.0</td>\n",
              "      <td>50.0</td>\n",
              "      <td>27.0</td>\n",
              "    </tr>\n",
              "  </tbody>\n",
              "</table>\n",
              "</div>"
            ],
            "text/plain": [
              "   MAL_ID                             Name Score  ... Score-3 Score-2 Score-1\n",
              "0       1                     Cowboy Bebop  8.78  ...  1357.0   741.0  1580.0\n",
              "1       5  Cowboy Bebop: Tengoku no Tobira  8.39  ...   221.0   109.0   379.0\n",
              "2       6                           Trigun  8.24  ...   664.0   316.0   533.0\n",
              "3       7               Witch Hunter Robin  7.27  ...   353.0   164.0   131.0\n",
              "4       8                   Bouken Ou Beet  6.98  ...    83.0    50.0    27.0\n",
              "\n",
              "[5 rows x 35 columns]"
            ]
          },
          "metadata": {
            "tags": []
          },
          "execution_count": 26
        }
      ]
    },
    {
      "cell_type": "markdown",
      "metadata": {
        "id": "kLxvShx7vTwj"
      },
      "source": [
        "## Cleaning the Data and reformatting"
      ]
    },
    {
      "cell_type": "code",
      "metadata": {
        "id": "KzmAB0JXadgr"
      },
      "source": [
        "# Need to drop all of the unnecessary columns from the DataFrame\n",
        "anime_list_df.drop(['watching_status','watched_episodes'],axis=1,inplace=True)"
      ],
      "execution_count": 129,
      "outputs": []
    },
    {
      "cell_type": "code",
      "metadata": {
        "id": "c8Ye3OL42lBL"
      },
      "source": [
        "def split_and_take_min(x):\n",
        "    lst = x.split(' ')\n",
        "    nums = []\n",
        "    for i in lst:\n",
        "        try:\n",
        "            nums.append(int(i))\n",
        "        except:\n",
        "            continue\n",
        "    try:\n",
        "        return int(nums[0])\n",
        "    except:\n",
        "        return 0\n",
        "anime_df['Premiered'] = anime_df['Premiered'].apply(split_and_take_min)"
      ],
      "execution_count": 130,
      "outputs": []
    },
    {
      "cell_type": "code",
      "metadata": {
        "id": "V0XhwM8MwK-a"
      },
      "source": [
        "# dropping all of the anime of ill repute\n",
        "anime_df = anime_df[~anime_df['Genders'].str.contains(\"Hentai\")]\n",
        "\n",
        "# dropping all of the anime with air rimes less than 1 sec.\n",
        "anime_df = anime_df[~anime_df['Duration'].str.contains(\"sec\")]\n",
        "\n",
        "anime_df = anime_df[~anime_df['Type'].str.contains('|'.join(['Movie','Music', 'OVA', 'Special', 'ONA', 'Unknown']))]\n",
        "\n",
        "# Filter out anime before 1980\n",
        "# anime_df = anime_df[anime_df['Premiered'] >= 1980]\n",
        "\n",
        "# using the ID of the cleaned anime list to clean the list of ratings as well\n",
        "anime_list_df = anime_list_df[anime_list_df['anime_id'].isin(list(anime_df['MAL_ID'].tolist()))]\n",
        "\n",
        "# Cutting all of the reviews of 0\n",
        "anime_list_df = anime_list_df[anime_list_df['rating'] != 0]\n",
        "\n",
        "# There is way too much data in this set so we will be resampling the data to \n",
        "# make a smaller data set.\n",
        "anime_list_df = anime_list_df.sample(100000)"
      ],
      "execution_count": 131,
      "outputs": []
    },
    {
      "cell_type": "code",
      "metadata": {
        "colab": {
          "base_uri": "https://localhost:8080/"
        },
        "id": "8iKBepxpy8xW",
        "outputId": "b52ba68a-440f-4dc4-b53d-143b82934e44"
      },
      "source": [
        "anime_list_df.shape"
      ],
      "execution_count": 132,
      "outputs": [
        {
          "output_type": "execute_result",
          "data": {
            "text/plain": [
              "(100000, 3)"
            ]
          },
          "metadata": {
            "tags": []
          },
          "execution_count": 132
        }
      ]
    },
    {
      "cell_type": "code",
      "metadata": {
        "id": "91Mo5PLL3vhr",
        "outputId": "1eebcae1-a9b1-4237-ecb7-a3d821e257d8",
        "colab": {
          "base_uri": "https://localhost:8080/"
        }
      },
      "source": [
        "anime_list_df['rating'].value_counts()"
      ],
      "execution_count": 133,
      "outputs": [
        {
          "output_type": "execute_result",
          "data": {
            "text/plain": [
              "8     25395\n",
              "7     22295\n",
              "9     17551\n",
              "10    11930\n",
              "6     11300\n",
              "5      5813\n",
              "4      2952\n",
              "3      1317\n",
              "2       766\n",
              "1       681\n",
              "Name: rating, dtype: int64"
            ]
          },
          "metadata": {
            "tags": []
          },
          "execution_count": 133
        }
      ]
    },
    {
      "cell_type": "code",
      "metadata": {
        "id": "Ds9RMrhxZ-0S"
      },
      "source": [
        "# Loading in the DataFrame as a surprise objet\n",
        "reader = Reader()\n",
        "data = Dataset.load_from_df(anime_list_df,reader)"
      ],
      "execution_count": 135,
      "outputs": []
    },
    {
      "cell_type": "code",
      "metadata": {
        "id": "eM9wjQRdaQ0J",
        "colab": {
          "base_uri": "https://localhost:8080/"
        },
        "outputId": "f43a69b1-b96b-4827-d8dc-e6734ec02d0c"
      },
      "source": [
        "# Looking at how many users and items are in the data to determine whether we \n",
        "# use a user-user or item-item similarity method\n",
        "dataset = data.build_full_trainset()\n",
        "print('Number of users: ', dataset.n_users, '\\n')\n",
        "print('Number of items: ', dataset.n_items)"
      ],
      "execution_count": 136,
      "outputs": [
        {
          "output_type": "stream",
          "text": [
            "Number of users:  73807 \n",
            "\n",
            "Number of items:  3150\n"
          ],
          "name": "stdout"
        }
      ]
    },
    {
      "cell_type": "code",
      "metadata": {
        "id": "0N74vzeNa7Mc"
      },
      "source": [
        "# Looks like there are vastly more items than there are users here so if we are \n",
        "# using a neighborhood-based model we will evaluate with a item-item approach"
      ],
      "execution_count": null,
      "outputs": []
    },
    {
      "cell_type": "code",
      "metadata": {
        "id": "EqC-LgV9xlSB"
      },
      "source": [
        "# loaidng a spark object with the cleaned data for use in pyspark models\n",
        "# rec_data = spark.createDataFrame(cleaned_df)"
      ],
      "execution_count": null,
      "outputs": []
    },
    {
      "cell_type": "markdown",
      "metadata": {
        "id": "i7kmDcs1bWH0"
      },
      "source": [
        "## First simple models with SVD, KNNBasic, and KNNBaseline\n"
      ]
    },
    {
      "cell_type": "code",
      "metadata": {
        "id": "6JczTpjNbLgL"
      },
      "source": [
        "# Splitting the data into train/test sets we will be using 80% of the data to\n",
        "# train the model and 20% for validating the model.\n",
        "trainset,testset = train_test_split(data,test_size=0.2)"
      ],
      "execution_count": 137,
      "outputs": []
    },
    {
      "cell_type": "code",
      "metadata": {
        "id": "oQSlYcTpdPBn"
      },
      "source": [
        "# Instantiating the models\n",
        "\n",
        "#SVD\n",
        "svd = SVD(n_factors=50,reg_all=0.05)\n",
        "\n",
        "# KNNBasic\n",
        "knn_basic = KNNBasic(sim_options  = {'name':'pearson', 'user_based':False})\n",
        "\n",
        "# KNNBaseline\n",
        "knn_baseline = KNNBaseline(sim_options = {'name':'pearson', 'user_based':False})"
      ],
      "execution_count": 138,
      "outputs": []
    },
    {
      "cell_type": "markdown",
      "metadata": {
        "id": "q3dpV9b5fT4M"
      },
      "source": [
        "### SVD\n"
      ]
    },
    {
      "cell_type": "code",
      "metadata": {
        "id": "reZOQCT6fWCN"
      },
      "source": [
        "# Run cross validation on the data\n",
        "cv_svd = cross_validate(svd,data,n_jobs=-1)"
      ],
      "execution_count": 146,
      "outputs": []
    },
    {
      "cell_type": "code",
      "metadata": {
        "id": "as6X6s3RfucO",
        "colab": {
          "base_uri": "https://localhost:8080/"
        },
        "outputId": "4940c3fb-c553-4450-ddfc-387197479ccf"
      },
      "source": [
        "# Printing out the test metrics of the cross validation for comparison\n",
        "for i in cv_svd.items():\n",
        "    print(i)\n",
        "print('-----------------------')\n",
        "print(np.mean(cv_svd['test_rmse']))"
      ],
      "execution_count": 147,
      "outputs": [
        {
          "output_type": "stream",
          "text": [
            "('test_rmse', array([3.05160118, 3.05282719, 3.0641263 , 3.06354596, 3.04771467]))\n",
            "('test_mae', array([2.71786051, 2.72209217, 2.73432209, 2.73659658, 2.71420107]))\n",
            "('fit_time', (6.669085741043091, 6.836840391159058, 6.495975732803345, 5.891916275024414, 3.6229069232940674))\n",
            "('test_time', (0.3703012466430664, 0.3900291919708252, 0.2780742645263672, 0.23195695877075195, 0.18877601623535156))\n",
            "-----------------------\n",
            "3.055963060617041\n"
          ],
          "name": "stdout"
        }
      ]
    },
    {
      "cell_type": "markdown",
      "metadata": {
        "id": "jYHSO3UXgNCp"
      },
      "source": [
        "### KNNBasic"
      ]
    },
    {
      "cell_type": "code",
      "metadata": {
        "id": "8a9iYrBygPNq",
        "colab": {
          "base_uri": "https://localhost:8080/"
        },
        "outputId": "cf0624c8-09c9-4c0f-e99e-839a769427c7"
      },
      "source": [
        "# Run cross validation on the data \n",
        "cv_knn_basic = cross_validate(knn_basic, data, n_jobs=-1)"
      ],
      "execution_count": null,
      "outputs": [
        {
          "output_type": "stream",
          "text": [
            "/usr/local/lib/python3.7/dist-packages/joblib/externals/loky/process_executor.py:691: UserWarning: A worker stopped while some jobs were given to the executor. This can be caused by a too short worker timeout or by a memory leak.\n",
            "  \"timeout or by a memory leak.\", UserWarning\n"
          ],
          "name": "stderr"
        }
      ]
    },
    {
      "cell_type": "code",
      "metadata": {
        "id": "a4RGX4WsgYej",
        "colab": {
          "base_uri": "https://localhost:8080/"
        },
        "outputId": "60e013cc-ab97-4f56-bce9-6d290f82ce1b"
      },
      "source": [
        "# Printing out the test metrics of the cross validation for comparison\n",
        "for i in cv_knn_basic.items():\n",
        "    print(i)\n",
        "print('-----------------------')\n",
        "print(np.mean(cv_knn_basic['test_rmse']))"
      ],
      "execution_count": null,
      "outputs": [
        {
          "output_type": "stream",
          "text": [
            "('test_rmse', array([3.95583025, 3.94761624, 3.94371866, 3.94873904, 3.93715442]))\n",
            "('test_mae', array([3.76066372, 3.75189973, 3.74687196, 3.75482881, 3.74266848]))\n",
            "('fit_time', (1.558389663696289, 1.3283326625823975, 1.4186718463897705, 1.465944528579712, 0.6732177734375))\n",
            "('test_time', (0.4666919708251953, 0.47821545600891113, 0.4616239070892334, 0.4511404037475586, 0.2644166946411133))\n",
            "-----------------------\n",
            "3.9466117207905618\n"
          ],
          "name": "stdout"
        }
      ]
    },
    {
      "cell_type": "markdown",
      "metadata": {
        "id": "GIpB4NJxgcfs"
      },
      "source": [
        "### KNNBaseline"
      ]
    },
    {
      "cell_type": "code",
      "metadata": {
        "id": "tuE7M0QTgfTx"
      },
      "source": [
        "# Run cross validation on the data  \n",
        "cv_knn_baseline = cross_validate(knn_baseline, data, n_jobs=-1)"
      ],
      "execution_count": null,
      "outputs": []
    },
    {
      "cell_type": "code",
      "metadata": {
        "id": "nwiBAfHag12A",
        "colab": {
          "base_uri": "https://localhost:8080/"
        },
        "outputId": "7fcbd035-f1fe-45c8-b706-b95796f830bf"
      },
      "source": [
        "# Printing out the test metrics of the cross validation for comparison\n",
        "for i in cv_knn_baseline.items():\n",
        "    print(i)\n",
        "print('-----------------------')\n",
        "print(np.mean(cv_knn_baseline['test_rmse']))"
      ],
      "execution_count": null,
      "outputs": [
        {
          "output_type": "stream",
          "text": [
            "('test_rmse', array([3.73065867, 3.73316696, 3.73109675, 3.72694022, 3.71592987]))\n",
            "('test_mae', array([3.4889151 , 3.48954728, 3.48402452, 3.48355365, 3.47040598]))\n",
            "('fit_time', (1.3160088062286377, 1.3300197124481201, 1.3360614776611328, 1.3462564945220947, 0.8094480037689209))\n",
            "('test_time', (0.472811222076416, 0.44301581382751465, 0.40772199630737305, 0.4841806888580322, 0.28059816360473633))\n",
            "-----------------------\n",
            "3.7275584949625475\n"
          ],
          "name": "stdout"
        }
      ]
    },
    {
      "cell_type": "markdown",
      "metadata": {
        "id": "laT1QvZ6lbP7"
      },
      "source": [
        "### Optimizing the best FSM (SVD)"
      ]
    },
    {
      "cell_type": "code",
      "metadata": {
        "id": "md3yHdYWlhWK"
      },
      "source": [
        "# Setting up and running the Grid Search to find the best hyperparams for the \n",
        "# svd\n",
        "\n",
        "params = {'n_factors': [5,50],\n",
        "          'reg_all': [0.02, 0.3],\n",
        "          'lr_all':[0.005, 0.01],\n",
        "          'n_epochs':[20,30]}\n",
        "\n",
        "g_s_svd = GridSearchCV(SVD,param_grid=params,n_jobs=-1)\n",
        "g_s_svd.fit(data)"
      ],
      "execution_count": 149,
      "outputs": []
    },
    {
      "cell_type": "code",
      "metadata": {
        "id": "25QbQb46mTad",
        "colab": {
          "base_uri": "https://localhost:8080/"
        },
        "outputId": "a98731da-8c2a-484c-ab84-19434ab738c3"
      },
      "source": [
        "# Printing out the best parameters based on the Grid Search\n",
        "print(g_s_svd.best_score)\n",
        "print(g_s_svd.best_params)"
      ],
      "execution_count": 150,
      "outputs": [
        {
          "output_type": "stream",
          "text": [
            "{'rmse': 3.055685986976091, 'mae': 2.72476815119934}\n",
            "{'rmse': {'n_factors': 50, 'reg_all': 0.02, 'lr_all': 0.01, 'n_epochs': 30}, 'mae': {'n_factors': 50, 'reg_all': 0.02, 'lr_all': 0.01, 'n_epochs': 30}}\n"
          ],
          "name": "stdout"
        }
      ]
    },
    {
      "cell_type": "markdown",
      "metadata": {
        "id": "VLRa7mFchLnP"
      },
      "source": [
        "## Make Recommendations\n",
        "\n",
        "We are using the anime.csv data set to select the anime names for our recommendations."
      ]
    },
    {
      "cell_type": "code",
      "metadata": {
        "colab": {
          "base_uri": "https://localhost:8080/",
          "height": 666
        },
        "id": "MBfvnsOqhKIJ",
        "outputId": "8be31b58-5cd9-4d86-eee2-065dfd237077"
      },
      "source": [
        "anime_df.head()"
      ],
      "execution_count": null,
      "outputs": [
        {
          "output_type": "execute_result",
          "data": {
            "text/html": [
              "<div>\n",
              "<style scoped>\n",
              "    .dataframe tbody tr th:only-of-type {\n",
              "        vertical-align: middle;\n",
              "    }\n",
              "\n",
              "    .dataframe tbody tr th {\n",
              "        vertical-align: top;\n",
              "    }\n",
              "\n",
              "    .dataframe thead th {\n",
              "        text-align: right;\n",
              "    }\n",
              "</style>\n",
              "<table border=\"1\" class=\"dataframe\">\n",
              "  <thead>\n",
              "    <tr style=\"text-align: right;\">\n",
              "      <th></th>\n",
              "      <th>MAL_ID</th>\n",
              "      <th>Name</th>\n",
              "      <th>Score</th>\n",
              "      <th>Genders</th>\n",
              "      <th>English name</th>\n",
              "      <th>Japanese name</th>\n",
              "      <th>Type</th>\n",
              "      <th>Episodes</th>\n",
              "      <th>Aired</th>\n",
              "      <th>Premiered</th>\n",
              "      <th>Producers</th>\n",
              "      <th>Licensors</th>\n",
              "      <th>Studios</th>\n",
              "      <th>Source</th>\n",
              "      <th>Duration</th>\n",
              "      <th>Rating</th>\n",
              "      <th>Ranked</th>\n",
              "      <th>Popularity</th>\n",
              "      <th>Members</th>\n",
              "      <th>Favorites</th>\n",
              "      <th>Watching</th>\n",
              "      <th>Completed</th>\n",
              "      <th>On-Hold</th>\n",
              "      <th>Dropped</th>\n",
              "      <th>Plan to Watch</th>\n",
              "      <th>Score-10</th>\n",
              "      <th>Score-9</th>\n",
              "      <th>Score-8</th>\n",
              "      <th>Score-7</th>\n",
              "      <th>Score-6</th>\n",
              "      <th>Score-5</th>\n",
              "      <th>Score-4</th>\n",
              "      <th>Score-3</th>\n",
              "      <th>Score-2</th>\n",
              "      <th>Score-1</th>\n",
              "    </tr>\n",
              "  </thead>\n",
              "  <tbody>\n",
              "    <tr>\n",
              "      <th>0</th>\n",
              "      <td>1</td>\n",
              "      <td>Cowboy Bebop</td>\n",
              "      <td>8.78</td>\n",
              "      <td>Action, Adventure, Comedy, Drama, Sci-Fi, Space</td>\n",
              "      <td>Cowboy Bebop</td>\n",
              "      <td>カウボーイビバップ</td>\n",
              "      <td>TV</td>\n",
              "      <td>26</td>\n",
              "      <td>Apr 3, 1998 to Apr 24, 1999</td>\n",
              "      <td>Spring 1998</td>\n",
              "      <td>Bandai Visual</td>\n",
              "      <td>Funimation, Bandai Entertainment</td>\n",
              "      <td>Sunrise</td>\n",
              "      <td>Original</td>\n",
              "      <td>24 min. per ep.</td>\n",
              "      <td>R - 17+ (violence &amp; profanity)</td>\n",
              "      <td>28.0</td>\n",
              "      <td>39</td>\n",
              "      <td>1251960</td>\n",
              "      <td>61971</td>\n",
              "      <td>105808</td>\n",
              "      <td>718161</td>\n",
              "      <td>71513</td>\n",
              "      <td>26678</td>\n",
              "      <td>329800</td>\n",
              "      <td>229170.0</td>\n",
              "      <td>182126.0</td>\n",
              "      <td>131625.0</td>\n",
              "      <td>62330.0</td>\n",
              "      <td>20688.0</td>\n",
              "      <td>8904.0</td>\n",
              "      <td>3184.0</td>\n",
              "      <td>1357.0</td>\n",
              "      <td>741.0</td>\n",
              "      <td>1580.0</td>\n",
              "    </tr>\n",
              "    <tr>\n",
              "      <th>1</th>\n",
              "      <td>5</td>\n",
              "      <td>Cowboy Bebop: Tengoku no Tobira</td>\n",
              "      <td>8.39</td>\n",
              "      <td>Action, Drama, Mystery, Sci-Fi, Space</td>\n",
              "      <td>Cowboy Bebop:The Movie</td>\n",
              "      <td>カウボーイビバップ 天国の扉</td>\n",
              "      <td>Movie</td>\n",
              "      <td>1</td>\n",
              "      <td>Sep 1, 2001</td>\n",
              "      <td>Unknown</td>\n",
              "      <td>Sunrise, Bandai Visual</td>\n",
              "      <td>Sony Pictures Entertainment</td>\n",
              "      <td>Bones</td>\n",
              "      <td>Original</td>\n",
              "      <td>1 hr. 55 min.</td>\n",
              "      <td>R - 17+ (violence &amp; profanity)</td>\n",
              "      <td>159.0</td>\n",
              "      <td>518</td>\n",
              "      <td>273145</td>\n",
              "      <td>1174</td>\n",
              "      <td>4143</td>\n",
              "      <td>208333</td>\n",
              "      <td>1935</td>\n",
              "      <td>770</td>\n",
              "      <td>57964</td>\n",
              "      <td>30043.0</td>\n",
              "      <td>49201.0</td>\n",
              "      <td>49505.0</td>\n",
              "      <td>22632.0</td>\n",
              "      <td>5805.0</td>\n",
              "      <td>1877.0</td>\n",
              "      <td>577.0</td>\n",
              "      <td>221.0</td>\n",
              "      <td>109.0</td>\n",
              "      <td>379.0</td>\n",
              "    </tr>\n",
              "    <tr>\n",
              "      <th>2</th>\n",
              "      <td>6</td>\n",
              "      <td>Trigun</td>\n",
              "      <td>8.24</td>\n",
              "      <td>Action, Sci-Fi, Adventure, Comedy, Drama, Shounen</td>\n",
              "      <td>Trigun</td>\n",
              "      <td>トライガン</td>\n",
              "      <td>TV</td>\n",
              "      <td>26</td>\n",
              "      <td>Apr 1, 1998 to Sep 30, 1998</td>\n",
              "      <td>Spring 1998</td>\n",
              "      <td>Victor Entertainment</td>\n",
              "      <td>Funimation, Geneon Entertainment USA</td>\n",
              "      <td>Madhouse</td>\n",
              "      <td>Manga</td>\n",
              "      <td>24 min. per ep.</td>\n",
              "      <td>PG-13 - Teens 13 or older</td>\n",
              "      <td>266.0</td>\n",
              "      <td>201</td>\n",
              "      <td>558913</td>\n",
              "      <td>12944</td>\n",
              "      <td>29113</td>\n",
              "      <td>343492</td>\n",
              "      <td>25465</td>\n",
              "      <td>13925</td>\n",
              "      <td>146918</td>\n",
              "      <td>50229.0</td>\n",
              "      <td>75651.0</td>\n",
              "      <td>86142.0</td>\n",
              "      <td>49432.0</td>\n",
              "      <td>15376.0</td>\n",
              "      <td>5838.0</td>\n",
              "      <td>1965.0</td>\n",
              "      <td>664.0</td>\n",
              "      <td>316.0</td>\n",
              "      <td>533.0</td>\n",
              "    </tr>\n",
              "    <tr>\n",
              "      <th>3</th>\n",
              "      <td>7</td>\n",
              "      <td>Witch Hunter Robin</td>\n",
              "      <td>7.27</td>\n",
              "      <td>Action, Mystery, Police, Supernatural, Drama, ...</td>\n",
              "      <td>Witch Hunter Robin</td>\n",
              "      <td>Witch Hunter ROBIN (ウイッチハンターロビン)</td>\n",
              "      <td>TV</td>\n",
              "      <td>26</td>\n",
              "      <td>Jul 2, 2002 to Dec 24, 2002</td>\n",
              "      <td>Summer 2002</td>\n",
              "      <td>TV Tokyo, Bandai Visual, Dentsu, Victor Entert...</td>\n",
              "      <td>Funimation, Bandai Entertainment</td>\n",
              "      <td>Sunrise</td>\n",
              "      <td>Original</td>\n",
              "      <td>25 min. per ep.</td>\n",
              "      <td>PG-13 - Teens 13 or older</td>\n",
              "      <td>2481.0</td>\n",
              "      <td>1467</td>\n",
              "      <td>94683</td>\n",
              "      <td>587</td>\n",
              "      <td>4300</td>\n",
              "      <td>46165</td>\n",
              "      <td>5121</td>\n",
              "      <td>5378</td>\n",
              "      <td>33719</td>\n",
              "      <td>2182.0</td>\n",
              "      <td>4806.0</td>\n",
              "      <td>10128.0</td>\n",
              "      <td>11618.0</td>\n",
              "      <td>5709.0</td>\n",
              "      <td>2920.0</td>\n",
              "      <td>1083.0</td>\n",
              "      <td>353.0</td>\n",
              "      <td>164.0</td>\n",
              "      <td>131.0</td>\n",
              "    </tr>\n",
              "    <tr>\n",
              "      <th>4</th>\n",
              "      <td>8</td>\n",
              "      <td>Bouken Ou Beet</td>\n",
              "      <td>6.98</td>\n",
              "      <td>Adventure, Fantasy, Shounen, Supernatural</td>\n",
              "      <td>Beet the Vandel Buster</td>\n",
              "      <td>冒険王ビィト</td>\n",
              "      <td>TV</td>\n",
              "      <td>52</td>\n",
              "      <td>Sep 30, 2004 to Sep 29, 2005</td>\n",
              "      <td>Fall 2004</td>\n",
              "      <td>TV Tokyo, Dentsu</td>\n",
              "      <td>Unknown</td>\n",
              "      <td>Toei Animation</td>\n",
              "      <td>Manga</td>\n",
              "      <td>23 min. per ep.</td>\n",
              "      <td>PG - Children</td>\n",
              "      <td>3710.0</td>\n",
              "      <td>4369</td>\n",
              "      <td>13224</td>\n",
              "      <td>18</td>\n",
              "      <td>642</td>\n",
              "      <td>7314</td>\n",
              "      <td>766</td>\n",
              "      <td>1108</td>\n",
              "      <td>3394</td>\n",
              "      <td>312.0</td>\n",
              "      <td>529.0</td>\n",
              "      <td>1242.0</td>\n",
              "      <td>1713.0</td>\n",
              "      <td>1068.0</td>\n",
              "      <td>634.0</td>\n",
              "      <td>265.0</td>\n",
              "      <td>83.0</td>\n",
              "      <td>50.0</td>\n",
              "      <td>27.0</td>\n",
              "    </tr>\n",
              "  </tbody>\n",
              "</table>\n",
              "</div>"
            ],
            "text/plain": [
              "   MAL_ID                             Name Score  ... Score-3 Score-2 Score-1\n",
              "0       1                     Cowboy Bebop  8.78  ...  1357.0   741.0  1580.0\n",
              "1       5  Cowboy Bebop: Tengoku no Tobira  8.39  ...   221.0   109.0   379.0\n",
              "2       6                           Trigun  8.24  ...   664.0   316.0   533.0\n",
              "3       7               Witch Hunter Robin  7.27  ...   353.0   164.0   131.0\n",
              "4       8                   Bouken Ou Beet  6.98  ...    83.0    50.0    27.0\n",
              "\n",
              "[5 rows x 35 columns]"
            ]
          },
          "metadata": {
            "tags": []
          },
          "execution_count": 13
        }
      ]
    },
    {
      "cell_type": "code",
      "metadata": {
        "colab": {
          "base_uri": "https://localhost:8080/"
        },
        "id": "TWfK7bfxhsop",
        "outputId": "293cdc03-cbe2-4470-9cf0-e52d242ef13a"
      },
      "source": [
        "# Instantiating the best model for predictions\n",
        "best_model = SVD(n_factors = 5, reg_all =  0.3  )\n",
        "best_model.fit(trainset)"
      ],
      "execution_count": null,
      "outputs": [
        {
          "output_type": "execute_result",
          "data": {
            "text/plain": [
              "<surprise.prediction_algorithms.matrix_factorization.SVD at 0x7fb0cea16ed0>"
            ]
          },
          "metadata": {
            "tags": []
          },
          "execution_count": 54
        }
      ]
    },
    {
      "cell_type": "code",
      "metadata": {
        "colab": {
          "base_uri": "https://localhost:8080/"
        },
        "id": "e-FiYybpi5Mi",
        "outputId": "1c35f68d-3785-47e7-8ba0-7a0a21d9dd02"
      },
      "source": [
        "#Quick Prediction to see if the model is working\n",
        "best_model.predict(2, 4)"
      ],
      "execution_count": null,
      "outputs": [
        {
          "output_type": "execute_result",
          "data": {
            "text/plain": [
              "Prediction(uid=2, iid=4, r_ui=None, est=1.7231755941676012, details={'was_impossible': False})"
            ]
          },
          "metadata": {
            "tags": []
          },
          "execution_count": 15
        }
      ]
    },
    {
      "cell_type": "markdown",
      "metadata": {
        "id": "2aMxFX1knwQl"
      },
      "source": [
        "## Obtain the User Ratings"
      ]
    },
    {
      "cell_type": "code",
      "metadata": {
        "id": "Wt7tTyp3niit"
      },
      "source": [
        "# Function rating the movies based on the best model\n",
        "\n",
        "def movie_rater(movie_df,num, genre=None):\n",
        "    userID = 1000000\n",
        "    rating_list = []\n",
        "    while num > 0:\n",
        "        if genre:\n",
        "            movie = movie_df[movie_df['Genders'].str.contains(genre)].sample(1)['Name']\n",
        "        else:\n",
        "            movie = movie_df.sample(1)['Name']\n",
        "        print(movie)\n",
        "        rating = input('How do you rate this movie on a scale of 1-5, press n if you have not seen :\\n')\n",
        "        if rating == 'n':\n",
        "            continue\n",
        "        else:\n",
        "            rating_one_movie = {'user_id':userID,'anime_id':movie['MAL_ID'].values[0],'rating':rating}\n",
        "            rating_list.append(rating_one_movie) \n",
        "            num -= 1\n",
        "    return rating_list      "
      ],
      "execution_count": null,
      "outputs": []
    },
    {
      "cell_type": "code",
      "metadata": {
        "colab": {
          "base_uri": "https://localhost:8080/"
        },
        "id": "WlVegf8mn9NJ",
        "outputId": "e6f351d2-f70a-4793-da93-215dc193ded3"
      },
      "source": [
        "user_rating = movie_rater(anime_df,4,'Action')"
      ],
      "execution_count": null,
      "outputs": [
        {
          "output_type": "stream",
          "text": [
            "       MAL_ID  ... Score-1\n",
            "14174   37303  ...    14.0\n",
            "\n",
            "[1 rows x 35 columns]\n",
            "How do you rate this movie on a scale of 1-5, press n if you have not seen :\n",
            "n\n",
            "       MAL_ID  ... Score-1\n",
            "17348   44078  ...     2.0\n",
            "\n",
            "[1 rows x 35 columns]\n",
            "How do you rate this movie on a scale of 1-5, press n if you have not seen :\n",
            "2\n",
            "      MAL_ID         Name Score  ... Score-3 Score-2 Score-1\n",
            "1084    1189  Eden's Bowy  6.52  ...    46.0    23.0    28.0\n",
            "\n",
            "[1 rows x 35 columns]\n",
            "How do you rate this movie on a scale of 1-5, press n if you have not seen :\n",
            "3\n",
            "       MAL_ID         Name    Score  ...  Score-3  Score-2  Score-1\n",
            "15622   39473  Möbius Dust  Unknown  ...  Unknown  Unknown  Unknown\n",
            "\n",
            "[1 rows x 35 columns]\n",
            "How do you rate this movie on a scale of 1-5, press n if you have not seen :\n",
            "5\n",
            "      MAL_ID               Name Score  ... Score-3 Score-2 Score-1\n",
            "8585   22043  Fairy Tail (2014)  7.73  ...  5595.0  3198.0  2912.0\n",
            "\n",
            "[1 rows x 35 columns]\n",
            "How do you rate this movie on a scale of 1-5, press n if you have not seen :\n",
            "5\n"
          ],
          "name": "stdout"
        }
      ]
    },
    {
      "cell_type": "code",
      "metadata": {
        "id": "3zmpWrGNVaQj"
      },
      "source": [
        "user_ratings_1 = [(user_id,1,7), # Cowboy Bepop\n",
        "                  (user_id,2,7), # Trigun\n",
        "                  (user_id,30,10), # Neon Genesis Evangelion\n",
        "                  (user_id,32937,10), # KonoSuba 2\n",
        "                  (user_id,22199,5), # Akame ga Kill!\n",
        "                  (user_id,18679,8), # Kill la Kill\n",
        "                  (user_id, 28121, 1)] # Is It Wrong to Pick Up Girls in a Dungeon?"
      ],
      "execution_count": null,
      "outputs": []
    },
    {
      "cell_type": "code",
      "metadata": {
        "id": "btJ2SacupJYB"
      },
      "source": [
        "user_rating = [{'anime_id': 2, 'rating': '7', 'user_id': 1000000},\n",
        "               {'anime_id': 30, 'rating': '10', 'user_id': 1000000},\n",
        "               {'anime_id': 32937, 'rating': '10', 'user_id': 1000000},\n",
        "               {'anime_id': 22199, 'rating': '5', 'user_id': 1000000},\n",
        "               {'anime_id': 18679, 'rating': '8', 'user_id': 1000000},\n",
        "               {'anime_id': 28121, 'rating': '1', 'user_id': 1000000}]\n"
      ],
      "execution_count": 141,
      "outputs": []
    },
    {
      "cell_type": "code",
      "metadata": {
        "id": "SwQn03iKqFCr"
      },
      "source": [
        "## add the new ratings to the original ratings DataFrame\n",
        "new_ratings_df = anime_list_df.append(user_rating,ignore_index=True)\n",
        "new_data = Dataset.load_from_df(new_ratings_df,reader)"
      ],
      "execution_count": 142,
      "outputs": []
    },
    {
      "cell_type": "markdown",
      "metadata": {
        "id": "iVs_n0phaYJG"
      },
      "source": [
        "## Make Predictions"
      ]
    },
    {
      "cell_type": "code",
      "metadata": {
        "id": "-N6x5rEtqOLl"
      },
      "source": [
        "# make predictions for the user\n",
        "# you'll probably want to create a list of tuples in the format (movie_id, predicted_score)\n",
        "list_of_anime = []\n",
        "for m_id in anime_list_df['anime_id'].unique():\n",
        "    list_of_anime.append( (m_id,best_model.predict(1000,m_id)[3]))"
      ],
      "execution_count": 143,
      "outputs": []
    },
    {
      "cell_type": "code",
      "metadata": {
        "id": "cAsvJpZaqTaJ"
      },
      "source": [
        "# order the predictions from highest to lowest rated\n",
        "ranked_anime = sorted(list_of_anime, key=lambda x:x[1], reverse=True)"
      ],
      "execution_count": 144,
      "outputs": []
    },
    {
      "cell_type": "code",
      "metadata": {
        "colab": {
          "base_uri": "https://localhost:8080/"
        },
        "id": "odhnEnq8qUF9",
        "outputId": "b7e27b98-7a47-45e1-e2f8-19db6e4461cc"
      },
      "source": [
        "# return the top n recommendations using the \n",
        "def recommended_movies(user_ratings,anime_title_df,n):\n",
        "        for idx, rec in enumerate(user_ratings):\n",
        "            title = anime_title_df.loc[anime_title_df['MAL_ID'] == int(rec[0])]['Name']\n",
        "            print('Recommendation # ', idx+1, ': ', title, '\\n')\n",
        "            n-= 1\n",
        "            if n == 0:\n",
        "                break\n",
        "\n",
        "recommended_movies(ranked_anime,anime_df,10)"
      ],
      "execution_count": 145,
      "outputs": [
        {
          "output_type": "stream",
          "text": [
            "Recommendation #  1 :  2656    Code Geass: Hangyaku no Lelouch R2\n",
            "Name: Name, dtype: object \n",
            "\n",
            "Recommendation #  2 :  5104    Major S6\n",
            "Name: Name, dtype: object \n",
            "\n",
            "Recommendation #  3 :  1393    Death Note\n",
            "Name: Name, dtype: object \n",
            "\n",
            "Recommendation #  4 :  10451    One Punch Man\n",
            "Name: Name, dtype: object \n",
            "\n",
            "Recommendation #  5 :  1379    Black Lagoon: The Second Barrage\n",
            "Name: Name, dtype: object \n",
            "\n",
            "Recommendation #  6 :  5683    Steins;Gate\n",
            "Name: Name, dtype: object \n",
            "\n",
            "Recommendation #  7 :  7449    Shingeki no Kyojin\n",
            "Name: Name, dtype: object \n",
            "\n",
            "Recommendation #  8 :  3537    Clannad: After Story\n",
            "Name: Name, dtype: object \n",
            "\n",
            "Recommendation #  9 :  3664    Nodame Cantabile: Paris-hen\n",
            "Name: Name, dtype: object \n",
            "\n",
            "Recommendation #  10 :  10817    Ushio to Tora (TV) 2nd Season\n",
            "Name: Name, dtype: object \n",
            "\n"
          ],
          "name": "stdout"
        }
      ]
    },
    {
      "cell_type": "code",
      "metadata": {
        "id": "Tbvj7yzJqXTz"
      },
      "source": [
        ""
      ],
      "execution_count": null,
      "outputs": []
    },
    {
      "cell_type": "code",
      "metadata": {
        "id": "rvu9ogJvvZu1"
      },
      "source": [
        ""
      ],
      "execution_count": null,
      "outputs": []
    },
    {
      "cell_type": "code",
      "metadata": {
        "id": "hOu9KwKP3M90"
      },
      "source": [
        ""
      ],
      "execution_count": null,
      "outputs": []
    }
  ]
}