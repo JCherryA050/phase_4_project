{
 "cells": [
  {
   "cell_type": "code",
   "execution_count": 1,
   "metadata": {},
   "outputs": [],
   "source": [
    "import pandas as pd\n",
    "import numpy as np\n"
   ]
  },
  {
   "cell_type": "code",
   "execution_count": 2,
   "metadata": {},
   "outputs": [],
   "source": [
    "df = pd.read_csv(\"data/anime_with_synopsis.csv\")"
   ]
  },
  {
   "cell_type": "code",
   "execution_count": 3,
   "metadata": {},
   "outputs": [],
   "source": [
    "df1 = pd.read_csv(\"data/anime_with_synopsis.csv\")"
   ]
  },
  {
   "cell_type": "code",
   "execution_count": 4,
   "metadata": {},
   "outputs": [
    {
     "data": {
      "text/html": [
       "<div>\n",
       "<style scoped>\n",
       "    .dataframe tbody tr th:only-of-type {\n",
       "        vertical-align: middle;\n",
       "    }\n",
       "\n",
       "    .dataframe tbody tr th {\n",
       "        vertical-align: top;\n",
       "    }\n",
       "\n",
       "    .dataframe thead th {\n",
       "        text-align: right;\n",
       "    }\n",
       "</style>\n",
       "<table border=\"1\" class=\"dataframe\">\n",
       "  <thead>\n",
       "    <tr style=\"text-align: right;\">\n",
       "      <th></th>\n",
       "      <th>MAL_ID</th>\n",
       "      <th>Name</th>\n",
       "      <th>Score</th>\n",
       "      <th>Genres</th>\n",
       "      <th>sypnopsis</th>\n",
       "    </tr>\n",
       "  </thead>\n",
       "  <tbody>\n",
       "    <tr>\n",
       "      <th>0</th>\n",
       "      <td>1</td>\n",
       "      <td>Cowboy Bebop</td>\n",
       "      <td>8.78</td>\n",
       "      <td>Action, Adventure, Comedy, Drama, Sci-Fi, Space</td>\n",
       "      <td>In the year 2071, humanity has colonized sever...</td>\n",
       "    </tr>\n",
       "    <tr>\n",
       "      <th>1</th>\n",
       "      <td>5</td>\n",
       "      <td>Cowboy Bebop: Tengoku no Tobira</td>\n",
       "      <td>8.39</td>\n",
       "      <td>Action, Drama, Mystery, Sci-Fi, Space</td>\n",
       "      <td>other day, another bounty—such is the life of ...</td>\n",
       "    </tr>\n",
       "    <tr>\n",
       "      <th>2</th>\n",
       "      <td>6</td>\n",
       "      <td>Trigun</td>\n",
       "      <td>8.24</td>\n",
       "      <td>Action, Sci-Fi, Adventure, Comedy, Drama, Shounen</td>\n",
       "      <td>Vash the Stampede is the man with a $$60,000,0...</td>\n",
       "    </tr>\n",
       "    <tr>\n",
       "      <th>3</th>\n",
       "      <td>7</td>\n",
       "      <td>Witch Hunter Robin</td>\n",
       "      <td>7.27</td>\n",
       "      <td>Action, Mystery, Police, Supernatural, Drama, ...</td>\n",
       "      <td>ches are individuals with special powers like ...</td>\n",
       "    </tr>\n",
       "    <tr>\n",
       "      <th>4</th>\n",
       "      <td>8</td>\n",
       "      <td>Bouken Ou Beet</td>\n",
       "      <td>6.98</td>\n",
       "      <td>Adventure, Fantasy, Shounen, Supernatural</td>\n",
       "      <td>It is the dark century and the people are suff...</td>\n",
       "    </tr>\n",
       "    <tr>\n",
       "      <th>...</th>\n",
       "      <td>...</td>\n",
       "      <td>...</td>\n",
       "      <td>...</td>\n",
       "      <td>...</td>\n",
       "      <td>...</td>\n",
       "    </tr>\n",
       "    <tr>\n",
       "      <th>16209</th>\n",
       "      <td>48481</td>\n",
       "      <td>Daomu Biji Zhi Qinling Shen Shu</td>\n",
       "      <td>Unknown</td>\n",
       "      <td>Adventure, Mystery, Supernatural</td>\n",
       "      <td>No synopsis information has been added to this...</td>\n",
       "    </tr>\n",
       "    <tr>\n",
       "      <th>16210</th>\n",
       "      <td>48483</td>\n",
       "      <td>Mieruko-chan</td>\n",
       "      <td>Unknown</td>\n",
       "      <td>Comedy, Horror, Supernatural</td>\n",
       "      <td>ko is a typical high school student whose life...</td>\n",
       "    </tr>\n",
       "    <tr>\n",
       "      <th>16211</th>\n",
       "      <td>48488</td>\n",
       "      <td>Higurashi no Naku Koro ni Sotsu</td>\n",
       "      <td>Unknown</td>\n",
       "      <td>Mystery, Dementia, Horror, Psychological, Supe...</td>\n",
       "      <td>Sequel to Higurashi no Naku Koro ni Gou .</td>\n",
       "    </tr>\n",
       "    <tr>\n",
       "      <th>16212</th>\n",
       "      <td>48491</td>\n",
       "      <td>Yama no Susume: Next Summit</td>\n",
       "      <td>Unknown</td>\n",
       "      <td>Adventure, Slice of Life, Comedy</td>\n",
       "      <td>New Yama no Susume anime.</td>\n",
       "    </tr>\n",
       "    <tr>\n",
       "      <th>16213</th>\n",
       "      <td>48492</td>\n",
       "      <td>Scarlet Nexus</td>\n",
       "      <td>Unknown</td>\n",
       "      <td>Action, Fantasy</td>\n",
       "      <td>Solar calendar year 2020: grotesque organisms ...</td>\n",
       "    </tr>\n",
       "  </tbody>\n",
       "</table>\n",
       "<p>16214 rows × 5 columns</p>\n",
       "</div>"
      ],
      "text/plain": [
       "       MAL_ID                             Name    Score  \\\n",
       "0           1                     Cowboy Bebop     8.78   \n",
       "1           5  Cowboy Bebop: Tengoku no Tobira     8.39   \n",
       "2           6                           Trigun     8.24   \n",
       "3           7               Witch Hunter Robin     7.27   \n",
       "4           8                   Bouken Ou Beet     6.98   \n",
       "...       ...                              ...      ...   \n",
       "16209   48481  Daomu Biji Zhi Qinling Shen Shu  Unknown   \n",
       "16210   48483                     Mieruko-chan  Unknown   \n",
       "16211   48488  Higurashi no Naku Koro ni Sotsu  Unknown   \n",
       "16212   48491      Yama no Susume: Next Summit  Unknown   \n",
       "16213   48492                    Scarlet Nexus  Unknown   \n",
       "\n",
       "                                                  Genres  \\\n",
       "0        Action, Adventure, Comedy, Drama, Sci-Fi, Space   \n",
       "1                  Action, Drama, Mystery, Sci-Fi, Space   \n",
       "2      Action, Sci-Fi, Adventure, Comedy, Drama, Shounen   \n",
       "3      Action, Mystery, Police, Supernatural, Drama, ...   \n",
       "4              Adventure, Fantasy, Shounen, Supernatural   \n",
       "...                                                  ...   \n",
       "16209                   Adventure, Mystery, Supernatural   \n",
       "16210                       Comedy, Horror, Supernatural   \n",
       "16211  Mystery, Dementia, Horror, Psychological, Supe...   \n",
       "16212                   Adventure, Slice of Life, Comedy   \n",
       "16213                                    Action, Fantasy   \n",
       "\n",
       "                                               sypnopsis  \n",
       "0      In the year 2071, humanity has colonized sever...  \n",
       "1      other day, another bounty—such is the life of ...  \n",
       "2      Vash the Stampede is the man with a $$60,000,0...  \n",
       "3      ches are individuals with special powers like ...  \n",
       "4      It is the dark century and the people are suff...  \n",
       "...                                                  ...  \n",
       "16209  No synopsis information has been added to this...  \n",
       "16210  ko is a typical high school student whose life...  \n",
       "16211          Sequel to Higurashi no Naku Koro ni Gou .  \n",
       "16212                          New Yama no Susume anime.  \n",
       "16213  Solar calendar year 2020: grotesque organisms ...  \n",
       "\n",
       "[16214 rows x 5 columns]"
      ]
     },
     "execution_count": 4,
     "metadata": {},
     "output_type": "execute_result"
    }
   ],
   "source": [
    "df1"
   ]
  },
  {
   "cell_type": "code",
   "execution_count": 5,
   "metadata": {},
   "outputs": [
    {
     "data": {
      "text/html": [
       "<div>\n",
       "<style scoped>\n",
       "    .dataframe tbody tr th:only-of-type {\n",
       "        vertical-align: middle;\n",
       "    }\n",
       "\n",
       "    .dataframe tbody tr th {\n",
       "        vertical-align: top;\n",
       "    }\n",
       "\n",
       "    .dataframe thead th {\n",
       "        text-align: right;\n",
       "    }\n",
       "</style>\n",
       "<table border=\"1\" class=\"dataframe\">\n",
       "  <thead>\n",
       "    <tr style=\"text-align: right;\">\n",
       "      <th></th>\n",
       "      <th>MAL_ID</th>\n",
       "      <th>Name</th>\n",
       "      <th>Score</th>\n",
       "      <th>Genres</th>\n",
       "      <th>sypnopsis</th>\n",
       "    </tr>\n",
       "  </thead>\n",
       "  <tbody>\n",
       "    <tr>\n",
       "      <th>11451</th>\n",
       "      <td>34755</td>\n",
       "      <td>Kuma no Gakkou: Patissier Jackie to Ohisama no...</td>\n",
       "      <td>Unknown</td>\n",
       "      <td>Comedy, Kids</td>\n",
       "      <td>NaN</td>\n",
       "    </tr>\n",
       "    <tr>\n",
       "      <th>11469</th>\n",
       "      <td>34794</td>\n",
       "      <td>Yukai na Animal Bus</td>\n",
       "      <td>Unknown</td>\n",
       "      <td>Comedy, Kids</td>\n",
       "      <td>NaN</td>\n",
       "    </tr>\n",
       "    <tr>\n",
       "      <th>13686</th>\n",
       "      <td>38475</td>\n",
       "      <td>Yuru Camp△ Movie</td>\n",
       "      <td>Unknown</td>\n",
       "      <td>Comedy, Slice of Life</td>\n",
       "      <td>NaN</td>\n",
       "    </tr>\n",
       "    <tr>\n",
       "      <th>15025</th>\n",
       "      <td>40714</td>\n",
       "      <td>Youkai Watch Jam: Youkai Gakuen Y - N to no So...</td>\n",
       "      <td>6.28</td>\n",
       "      <td>Comedy, Demons, Kids, Supernatural, School</td>\n",
       "      <td>NaN</td>\n",
       "    </tr>\n",
       "    <tr>\n",
       "      <th>15747</th>\n",
       "      <td>42717</td>\n",
       "      <td>Kaeru no Pickles: Kimochi no Iro</td>\n",
       "      <td>Unknown</td>\n",
       "      <td>Slice of Life, Kids</td>\n",
       "      <td>NaN</td>\n",
       "    </tr>\n",
       "    <tr>\n",
       "      <th>16056</th>\n",
       "      <td>44848</td>\n",
       "      <td>Iii Icecrin</td>\n",
       "      <td>Unknown</td>\n",
       "      <td>Kids</td>\n",
       "      <td>NaN</td>\n",
       "    </tr>\n",
       "    <tr>\n",
       "      <th>16110</th>\n",
       "      <td>45731</td>\n",
       "      <td>Argonavis from BanG Dream! Movie</td>\n",
       "      <td>Unknown</td>\n",
       "      <td>Music</td>\n",
       "      <td>NaN</td>\n",
       "    </tr>\n",
       "    <tr>\n",
       "      <th>16120</th>\n",
       "      <td>46095</td>\n",
       "      <td>Vivy: Fluorite Eye's Song</td>\n",
       "      <td>Unknown</td>\n",
       "      <td>Sci-Fi</td>\n",
       "      <td>NaN</td>\n",
       "    </tr>\n",
       "  </tbody>\n",
       "</table>\n",
       "</div>"
      ],
      "text/plain": [
       "       MAL_ID                                               Name    Score  \\\n",
       "11451   34755  Kuma no Gakkou: Patissier Jackie to Ohisama no...  Unknown   \n",
       "11469   34794                                Yukai na Animal Bus  Unknown   \n",
       "13686   38475                                   Yuru Camp△ Movie  Unknown   \n",
       "15025   40714  Youkai Watch Jam: Youkai Gakuen Y - N to no So...     6.28   \n",
       "15747   42717                   Kaeru no Pickles: Kimochi no Iro  Unknown   \n",
       "16056   44848                                        Iii Icecrin  Unknown   \n",
       "16110   45731                   Argonavis from BanG Dream! Movie  Unknown   \n",
       "16120   46095                          Vivy: Fluorite Eye's Song  Unknown   \n",
       "\n",
       "                                           Genres sypnopsis  \n",
       "11451                                Comedy, Kids       NaN  \n",
       "11469                                Comedy, Kids       NaN  \n",
       "13686                       Comedy, Slice of Life       NaN  \n",
       "15025  Comedy, Demons, Kids, Supernatural, School       NaN  \n",
       "15747                         Slice of Life, Kids       NaN  \n",
       "16056                                        Kids       NaN  \n",
       "16110                                       Music       NaN  \n",
       "16120                                      Sci-Fi       NaN  "
      ]
     },
     "execution_count": 5,
     "metadata": {},
     "output_type": "execute_result"
    }
   ],
   "source": [
    "df[df.sypnopsis.isna()]"
   ]
  },
  {
   "cell_type": "code",
   "execution_count": 6,
   "metadata": {},
   "outputs": [],
   "source": [
    "df.dropna(inplace=True)"
   ]
  },
  {
   "cell_type": "code",
   "execution_count": 7,
   "metadata": {
    "scrolled": true
   },
   "outputs": [
    {
     "data": {
      "text/html": [
       "<div>\n",
       "<style scoped>\n",
       "    .dataframe tbody tr th:only-of-type {\n",
       "        vertical-align: middle;\n",
       "    }\n",
       "\n",
       "    .dataframe tbody tr th {\n",
       "        vertical-align: top;\n",
       "    }\n",
       "\n",
       "    .dataframe thead th {\n",
       "        text-align: right;\n",
       "    }\n",
       "</style>\n",
       "<table border=\"1\" class=\"dataframe\">\n",
       "  <thead>\n",
       "    <tr style=\"text-align: right;\">\n",
       "      <th></th>\n",
       "      <th>MAL_ID</th>\n",
       "      <th>Name</th>\n",
       "      <th>Score</th>\n",
       "      <th>Genres</th>\n",
       "      <th>sypnopsis</th>\n",
       "    </tr>\n",
       "  </thead>\n",
       "  <tbody>\n",
       "    <tr>\n",
       "      <th>0</th>\n",
       "      <td>1</td>\n",
       "      <td>Cowboy Bebop</td>\n",
       "      <td>8.78</td>\n",
       "      <td>Action, Adventure, Comedy, Drama, Sci-Fi, Space</td>\n",
       "      <td>In the year 2071, humanity has colonized sever...</td>\n",
       "    </tr>\n",
       "    <tr>\n",
       "      <th>2</th>\n",
       "      <td>6</td>\n",
       "      <td>Trigun</td>\n",
       "      <td>8.24</td>\n",
       "      <td>Action, Sci-Fi, Adventure, Comedy, Drama, Shounen</td>\n",
       "      <td>Vash the Stampede is the man with a $$60,000,0...</td>\n",
       "    </tr>\n",
       "    <tr>\n",
       "      <th>5</th>\n",
       "      <td>15</td>\n",
       "      <td>Eyeshield 21</td>\n",
       "      <td>7.95</td>\n",
       "      <td>Action, Sports, Comedy, Shounen</td>\n",
       "      <td>Sena is like any other shy kid starting high s...</td>\n",
       "    </tr>\n",
       "    <tr>\n",
       "      <th>6</th>\n",
       "      <td>16</td>\n",
       "      <td>Hachimitsu to Clover</td>\n",
       "      <td>8.06</td>\n",
       "      <td>Comedy, Drama, Josei, Romance, Slice of Life</td>\n",
       "      <td>Yuuta Takemoto, a sophomore at an arts college...</td>\n",
       "    </tr>\n",
       "    <tr>\n",
       "      <th>7</th>\n",
       "      <td>17</td>\n",
       "      <td>Hungry Heart: Wild Striker</td>\n",
       "      <td>7.59</td>\n",
       "      <td>Slice of Life, Comedy, Sports, Shounen</td>\n",
       "      <td>Kyosuke Kano has lived under the shadow of his...</td>\n",
       "    </tr>\n",
       "    <tr>\n",
       "      <th>...</th>\n",
       "      <td>...</td>\n",
       "      <td>...</td>\n",
       "      <td>...</td>\n",
       "      <td>...</td>\n",
       "      <td>...</td>\n",
       "    </tr>\n",
       "    <tr>\n",
       "      <th>16193</th>\n",
       "      <td>48413</td>\n",
       "      <td>Hataraku Maou-sama! 2nd Season</td>\n",
       "      <td>Unknown</td>\n",
       "      <td>Comedy, Demons, Supernatural, Romance, Fantasy</td>\n",
       "      <td>Second season of Hataraku Maou-sama!</td>\n",
       "    </tr>\n",
       "    <tr>\n",
       "      <th>16199</th>\n",
       "      <td>48426</td>\n",
       "      <td>Kitarou Tanjou: Gegege no Nazo</td>\n",
       "      <td>Unknown</td>\n",
       "      <td>Comedy, Demons, Supernatural, Shounen</td>\n",
       "      <td>No synopsis information has been added to this...</td>\n",
       "    </tr>\n",
       "    <tr>\n",
       "      <th>16204</th>\n",
       "      <td>48456</td>\n",
       "      <td>SK∞: Crazy Rock Jam</td>\n",
       "      <td>6.52</td>\n",
       "      <td>Comedy, Sports</td>\n",
       "      <td>cap of the first 9 episodes of SK∞ .</td>\n",
       "    </tr>\n",
       "    <tr>\n",
       "      <th>16210</th>\n",
       "      <td>48483</td>\n",
       "      <td>Mieruko-chan</td>\n",
       "      <td>Unknown</td>\n",
       "      <td>Comedy, Horror, Supernatural</td>\n",
       "      <td>ko is a typical high school student whose life...</td>\n",
       "    </tr>\n",
       "    <tr>\n",
       "      <th>16212</th>\n",
       "      <td>48491</td>\n",
       "      <td>Yama no Susume: Next Summit</td>\n",
       "      <td>Unknown</td>\n",
       "      <td>Adventure, Slice of Life, Comedy</td>\n",
       "      <td>New Yama no Susume anime.</td>\n",
       "    </tr>\n",
       "  </tbody>\n",
       "</table>\n",
       "<p>5971 rows × 5 columns</p>\n",
       "</div>"
      ],
      "text/plain": [
       "       MAL_ID                            Name    Score  \\\n",
       "0           1                    Cowboy Bebop     8.78   \n",
       "2           6                          Trigun     8.24   \n",
       "5          15                    Eyeshield 21     7.95   \n",
       "6          16            Hachimitsu to Clover     8.06   \n",
       "7          17      Hungry Heart: Wild Striker     7.59   \n",
       "...       ...                             ...      ...   \n",
       "16193   48413  Hataraku Maou-sama! 2nd Season  Unknown   \n",
       "16199   48426  Kitarou Tanjou: Gegege no Nazo  Unknown   \n",
       "16204   48456             SK∞: Crazy Rock Jam     6.52   \n",
       "16210   48483                    Mieruko-chan  Unknown   \n",
       "16212   48491     Yama no Susume: Next Summit  Unknown   \n",
       "\n",
       "                                                  Genres  \\\n",
       "0        Action, Adventure, Comedy, Drama, Sci-Fi, Space   \n",
       "2      Action, Sci-Fi, Adventure, Comedy, Drama, Shounen   \n",
       "5                        Action, Sports, Comedy, Shounen   \n",
       "6           Comedy, Drama, Josei, Romance, Slice of Life   \n",
       "7                 Slice of Life, Comedy, Sports, Shounen   \n",
       "...                                                  ...   \n",
       "16193     Comedy, Demons, Supernatural, Romance, Fantasy   \n",
       "16199              Comedy, Demons, Supernatural, Shounen   \n",
       "16204                                     Comedy, Sports   \n",
       "16210                       Comedy, Horror, Supernatural   \n",
       "16212                   Adventure, Slice of Life, Comedy   \n",
       "\n",
       "                                               sypnopsis  \n",
       "0      In the year 2071, humanity has colonized sever...  \n",
       "2      Vash the Stampede is the man with a $$60,000,0...  \n",
       "5      Sena is like any other shy kid starting high s...  \n",
       "6      Yuuta Takemoto, a sophomore at an arts college...  \n",
       "7      Kyosuke Kano has lived under the shadow of his...  \n",
       "...                                                  ...  \n",
       "16193               Second season of Hataraku Maou-sama!  \n",
       "16199  No synopsis information has been added to this...  \n",
       "16204               cap of the first 9 episodes of SK∞ .  \n",
       "16210  ko is a typical high school student whose life...  \n",
       "16212                          New Yama no Susume anime.  \n",
       "\n",
       "[5971 rows x 5 columns]"
      ]
     },
     "execution_count": 7,
     "metadata": {},
     "output_type": "execute_result"
    }
   ],
   "source": [
    "df[df.Genres.str.contains(\"Comedy\", regex=False)]"
   ]
  },
  {
   "cell_type": "code",
   "execution_count": 8,
   "metadata": {
    "scrolled": true
   },
   "outputs": [
    {
     "name": "stdout",
     "output_type": "stream",
     "text": [
      "Requirement already satisfied: rake_nltk in c:\\users\\ramil\\anaconda3\\envs\\learn-env\\lib\\site-packages (1.0.4)\n",
      "Requirement already satisfied: nltk in c:\\users\\ramil\\anaconda3\\envs\\learn-env\\lib\\site-packages (from rake_nltk) (3.5)\n",
      "Requirement already satisfied: tqdm in c:\\users\\ramil\\anaconda3\\envs\\learn-env\\lib\\site-packages (from nltk->rake_nltk) (4.50.2)\n",
      "Requirement already satisfied: click in c:\\users\\ramil\\anaconda3\\envs\\learn-env\\lib\\site-packages (from nltk->rake_nltk) (7.1.2)\n",
      "Requirement already satisfied: joblib in c:\\users\\ramil\\anaconda3\\envs\\learn-env\\lib\\site-packages (from nltk->rake_nltk) (0.17.0)\n",
      "Requirement already satisfied: regex in c:\\users\\ramil\\anaconda3\\envs\\learn-env\\lib\\site-packages (from nltk->rake_nltk) (2020.10.15)\n"
     ]
    }
   ],
   "source": [
    "!pip install rake_nltk"
   ]
  },
  {
   "cell_type": "code",
   "execution_count": 9,
   "metadata": {},
   "outputs": [],
   "source": [
    "from rake_nltk import Rake\n",
    "from sklearn.metrics.pairwise import cosine_similarity\n",
    "from sklearn.feature_extraction.text import CountVectorizer"
   ]
  },
  {
   "cell_type": "code",
   "execution_count": 10,
   "metadata": {},
   "outputs": [],
   "source": [
    "def getKeyWords(text):\n",
    "    r = Rake()\n",
    "    r.extract_keywords_from_text(text)\n",
    "    key_words_dict_scores = r.get_word_degrees()\n",
    "    return list(key_words_dict_scores)"
   ]
  },
  {
   "cell_type": "code",
   "execution_count": 11,
   "metadata": {},
   "outputs": [],
   "source": [
    "df['KW'] = df.sypnopsis.apply(getKeyWords)"
   ]
  },
  {
   "cell_type": "code",
   "execution_count": 12,
   "metadata": {},
   "outputs": [],
   "source": [
    "df['Gen'] = df['Genres'].apply(getKeyWords)"
   ]
  },
  {
   "cell_type": "code",
   "execution_count": 13,
   "metadata": {},
   "outputs": [],
   "source": [
    "df['Bags'] = df.Gen +  df.KW"
   ]
  },
  {
   "cell_type": "code",
   "execution_count": 14,
   "metadata": {},
   "outputs": [
    {
     "data": {
      "text/plain": [
       "Index(['MAL_ID', 'Name', 'Score', 'Genres', 'sypnopsis', 'KW', 'Gen', 'Bags'], dtype='object')"
      ]
     },
     "execution_count": 14,
     "metadata": {},
     "output_type": "execute_result"
    }
   ],
   "source": [
    "df.columns"
   ]
  },
  {
   "cell_type": "code",
   "execution_count": 15,
   "metadata": {},
   "outputs": [],
   "source": [
    "anime_df = df[['MAL_ID', 'Bags']]"
   ]
  },
  {
   "cell_type": "code",
   "execution_count": 16,
   "metadata": {},
   "outputs": [
    {
     "data": {
      "text/plain": [
       "0            1\n",
       "1            5\n",
       "2            6\n",
       "3            7\n",
       "4            8\n",
       "         ...  \n",
       "16209    48481\n",
       "16210    48483\n",
       "16211    48488\n",
       "16212    48491\n",
       "16213    48492\n",
       "Name: MAL_ID, Length: 16206, dtype: int64"
      ]
     },
     "execution_count": 16,
     "metadata": {},
     "output_type": "execute_result"
    }
   ],
   "source": [
    "anime_df.MAL_ID"
   ]
  },
  {
   "cell_type": "code",
   "execution_count": 17,
   "metadata": {},
   "outputs": [],
   "source": [
    "def joinText(arr):\n",
    "    return \" \".join(arr)"
   ]
  },
  {
   "cell_type": "code",
   "execution_count": 18,
   "metadata": {},
   "outputs": [
    {
     "name": "stderr",
     "output_type": "stream",
     "text": [
      "<ipython-input-18-609d65cc387a>:1: SettingWithCopyWarning: \n",
      "A value is trying to be set on a copy of a slice from a DataFrame.\n",
      "Try using .loc[row_indexer,col_indexer] = value instead\n",
      "\n",
      "See the caveats in the documentation: https://pandas.pydata.org/pandas-docs/stable/user_guide/indexing.html#returning-a-view-versus-a-copy\n",
      "  anime_df['Bags'] = anime_df['Bags'].apply(joinText)\n"
     ]
    }
   ],
   "source": [
    "anime_df['Bags'] = anime_df['Bags'].apply(joinText)"
   ]
  },
  {
   "cell_type": "code",
   "execution_count": 19,
   "metadata": {},
   "outputs": [
    {
     "name": "stdout",
     "output_type": "stream",
     "text": [
      "[[1.         0.61545745 0.80903983 ... 0.         0.52223297 0.34815531]\n",
      " [0.61545745 1.         0.73029674 ... 0.         0.23570226 0.47140452]\n",
      " [0.80903983 0.73029674 1.         ... 0.         0.77459667 0.25819889]\n",
      " ...\n",
      " [0.         0.         0.         ... 0.         0.         0.        ]\n",
      " [0.52223297 0.23570226 0.77459667 ... 0.         1.         0.        ]\n",
      " [0.34815531 0.47140452 0.25819889 ... 0.         0.         1.        ]]\n"
     ]
    }
   ],
   "source": [
    "count = CountVectorizer(max_features=10)\n",
    "count_matrix = count.fit_transform(anime_df['Bags'])\n",
    "cosine_sim = cosine_similarity(count_matrix, count_matrix)\n",
    "print(cosine_sim)"
   ]
  },
  {
   "cell_type": "code",
   "execution_count": 20,
   "metadata": {},
   "outputs": [
    {
     "data": {
      "text/plain": [
       "(16206, 16206)"
      ]
     },
     "execution_count": 20,
     "metadata": {},
     "output_type": "execute_result"
    }
   ],
   "source": [
    "cosine_sim.shape"
   ]
  },
  {
   "cell_type": "code",
   "execution_count": 22,
   "metadata": {},
   "outputs": [],
   "source": [
    "cosine_df = pd.DataFrame(data=cosine_sim, index=anime_df['MAL_ID'], columns=anime_df['MAL_ID'])"
   ]
  },
  {
   "cell_type": "code",
   "execution_count": 26,
   "metadata": {},
   "outputs": [
    {
     "data": {
      "text/plain": [
       "MAL_ID\n",
       "1        0.615457\n",
       "5        1.000000\n",
       "6        0.730297\n",
       "7        0.707107\n",
       "8        0.166667\n",
       "           ...   \n",
       "48481    0.000000\n",
       "48483    0.166667\n",
       "48488    0.000000\n",
       "48491    0.235702\n",
       "48492    0.471405\n",
       "Name: 5, Length: 16206, dtype: float64"
      ]
     },
     "execution_count": 26,
     "metadata": {},
     "output_type": "execute_result"
    }
   ],
   "source": [
    "cosine_df[5]"
   ]
  },
  {
   "cell_type": "code",
   "execution_count": 175,
   "metadata": {},
   "outputs": [],
   "source": [
    "def getScore(ani_id):\n",
    "    ans = df1[df1['MAL_ID'] == ani_id]['Score']\n",
    "    try:\n",
    "        return float(ans)\n",
    "    except:\n",
    "        return 0"
   ]
  },
  {
   "cell_type": "code",
   "execution_count": 168,
   "metadata": {},
   "outputs": [
    {
     "data": {
      "text/plain": [
       "7.48"
      ]
     },
     "execution_count": 168,
     "metadata": {},
     "output_type": "execute_result"
    }
   ],
   "source": [
    "getScore(200)"
   ]
  },
  {
   "cell_type": "code",
   "execution_count": 197,
   "metadata": {},
   "outputs": [],
   "source": [
    "def recommend(ani_id, data=cosine_df, filtering=True):\n",
    "    ranking = data[ani_id].sort_values(ascending=False)\n",
    "    ranking.drop(ani_id, axis=0, inplace=True)\n",
    "    ranking_list = list(ranking.index)\n",
    "    \n",
    "    if filtering:\n",
    "        output = []\n",
    "        score = getScore(ani_id)\n",
    "        for i in ranking_list:\n",
    "            if (score - getScore(i) < 2):\n",
    "                output.append(i)\n",
    "            else:\n",
    "                continue\n",
    "            if len(output) == 10:\n",
    "                return output\n",
    "    else:\n",
    "        output = ranking_list[:10]\n",
    "    \n",
    "            \n",
    "    return output"
   ]
  },
  {
   "cell_type": "code",
   "execution_count": 198,
   "metadata": {},
   "outputs": [],
   "source": [
    "def getName(i, df=df1):\n",
    "    name = df1[df1['MAL_ID']==i]['Name'].values[0]\n",
    "    return name"
   ]
  },
  {
   "cell_type": "code",
   "execution_count": 199,
   "metadata": {},
   "outputs": [],
   "source": [
    "def listName(arr):\n",
    "    list_name = []\n",
    "    for i in arr:\n",
    "        aniname = getName(i)\n",
    "        list_name.append(aniname)\n",
    "    return list_name"
   ]
  },
  {
   "cell_type": "code",
   "execution_count": 200,
   "metadata": {},
   "outputs": [
    {
     "data": {
      "text/plain": [
       "['Terra e... (TV)',\n",
       " 'Higashi no Eden',\n",
       " 'Hokuto no Ken 2',\n",
       " 'Gunslinger Girl',\n",
       " 'Mobile Suit Gundam Unicorn',\n",
       " 'Megalo Box',\n",
       " 'No Guns Life 2nd Season',\n",
       " 'Schwarzesmarken',\n",
       " 'Ashita no Joe 2',\n",
       " 'Mobile Suit Gundam SEED']"
      ]
     },
     "execution_count": 200,
     "metadata": {},
     "output_type": "execute_result"
    }
   ],
   "source": [
    "listName(recommend(5))"
   ]
  },
  {
   "cell_type": "code",
   "execution_count": 201,
   "metadata": {},
   "outputs": [
    {
     "data": {
      "text/plain": [
       "['Fullmetal Alchemist: The Sacred Star of Milos',\n",
       " 'One Piece Film: Gold',\n",
       " 'One Piece: Episode of Sabo - 3 Kyoudai no Kizuna Kiseki no Saikai to Uketsugareru Ishi',\n",
       " 'One Piece: Episode of Nami - Koukaishi no Namida to Nakama no Kizuna',\n",
       " 'One Piece Film: Strong World',\n",
       " 'One Piece Film: Z',\n",
       " 'One Piece',\n",
       " 'InuYasha Movie 3: Tenka Hadou no Ken',\n",
       " 'InuYasha Movie 2: Kagami no Naka no Mugenjo',\n",
       " 'InuYasha Movie 4: Guren no Houraijima']"
      ]
     },
     "execution_count": 201,
     "metadata": {},
     "output_type": "execute_result"
    }
   ],
   "source": [
    "listName(recommend(5114))"
   ]
  },
  {
   "cell_type": "code",
   "execution_count": 207,
   "metadata": {},
   "outputs": [
    {
     "data": {
      "text/plain": [
       "'Fullmetal Alchemist: Brotherhood'"
      ]
     },
     "execution_count": 207,
     "metadata": {},
     "output_type": "execute_result"
    }
   ],
   "source": [
    "getName(5114)"
   ]
  },
  {
   "cell_type": "code",
   "execution_count": 202,
   "metadata": {},
   "outputs": [
    {
     "data": {
      "text/plain": [
       "['Hunter x Hunter',\n",
       " 'Magi: Sinbad no Bouken',\n",
       " 'Hunter x Hunter: Greed Island Final',\n",
       " 'Log Horizon',\n",
       " 'Wan Jie Xian Zong 2nd Season',\n",
       " 'Dragon Ball Z Movie 14: Kami to Kami',\n",
       " 'Yao Shen Ji Zhi Ying Yao Pian',\n",
       " 'Doupo Cangqiong 3rd Season',\n",
       " 'Goblin Slayer',\n",
       " 'Wan Jie Xian Zong']"
      ]
     },
     "execution_count": 202,
     "metadata": {},
     "output_type": "execute_result"
    }
   ],
   "source": [
    "listName(recommend(11061))"
   ]
  },
  {
   "cell_type": "code",
   "execution_count": 206,
   "metadata": {},
   "outputs": [
    {
     "data": {
      "text/plain": [
       "'Hunter x Hunter (2011)'"
      ]
     },
     "execution_count": 206,
     "metadata": {},
     "output_type": "execute_result"
    }
   ],
   "source": [
    "getName(11061)"
   ]
  },
  {
   "cell_type": "code",
   "execution_count": 196,
   "metadata": {},
   "outputs": [
    {
     "data": {
      "text/plain": [
       "MAL_ID\n",
       "136      1.0\n",
       "22097    1.0\n",
       "11061    1.0\n",
       "7109     1.0\n",
       "28045    1.0\n",
       "        ... \n",
       "24627    0.0\n",
       "24591    0.0\n",
       "24577    0.0\n",
       "24575    0.0\n",
       "16183    0.0\n",
       "Name: 11061, Length: 16206, dtype: float64"
      ]
     },
     "execution_count": 196,
     "metadata": {},
     "output_type": "execute_result"
    }
   ],
   "source": [
    "cosine_df[11061].sort_values(ascending=False)"
   ]
  },
  {
   "cell_type": "code",
   "execution_count": null,
   "metadata": {},
   "outputs": [],
   "source": []
  },
  {
   "cell_type": "code",
   "execution_count": null,
   "metadata": {},
   "outputs": [],
   "source": []
  }
 ],
 "metadata": {
  "kernelspec": {
   "display_name": "Python (learn-env)",
   "language": "python",
   "name": "learn-env"
  },
  "language_info": {
   "codemirror_mode": {
    "name": "ipython",
    "version": 3
   },
   "file_extension": ".py",
   "mimetype": "text/x-python",
   "name": "python",
   "nbconvert_exporter": "python",
   "pygments_lexer": "ipython3",
   "version": "3.8.5"
  }
 },
 "nbformat": 4,
 "nbformat_minor": 4
}
