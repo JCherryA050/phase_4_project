{
  "nbformat": 4,
  "nbformat_minor": 0,
  "metadata": {
    "colab": {
      "name": "phase_4_code.ipynb",
      "provenance": [],
      "include_colab_link": true
    },
    "kernelspec": {
      "display_name": "Python (learn-env)",
      "language": "python",
      "name": "learn-env"
    },
    "language_info": {
      "codemirror_mode": {
        "name": "ipython",
        "version": 3
      },
      "file_extension": ".py",
      "mimetype": "text/x-python",
      "name": "python",
      "nbconvert_exporter": "python",
      "pygments_lexer": "ipython3",
      "version": "3.8.5"
    }
  },
  "cells": [
    {
      "cell_type": "markdown",
      "metadata": {
        "id": "view-in-github",
        "colab_type": "text"
      },
      "source": [
        "<a href=\"https://colab.research.google.com/github/JCherryA050/phase_4_project/blob/main/phase_4_code.ipynb\" target=\"_parent\"><img src=\"https://colab.research.google.com/assets/colab-badge.svg\" alt=\"Open In Colab\"/></a>"
      ]
    },
    {
      "cell_type": "markdown",
      "metadata": {
        "id": "p4sBIT_cagja"
      },
      "source": [
        "# My Anime List Recommendation System With ALS"
      ]
    },
    {
      "cell_type": "markdown",
      "metadata": {
        "id": "jkEmFXznaqfT"
      },
      "source": [
        "## Business Problem\n",
        "\n",
        "My Anime List is a website where users can track and rate the anime and manga that they consume. Using this information, My Anime List has a global ranking of anime/manga, has a recommendation system based on users preferences, and directs users to where they can watch or read a given anime/manga.\n",
        "\n",
        "We have been tasked with taking user data specifically dealing with anime to find out if we can create a more effective recommendation system using Alternating Least Squares (ALS) and Singular Value Decomposition (SVD)"
      ]
    },
    {
      "cell_type": "markdown",
      "metadata": {
        "id": "Aq7fMS7-a3T6"
      },
      "source": [
        "## Setting Up Environment and Data\n",
        "\n",
        "Because ALS relies on a sparse matrix of data (even when cleaning the data to reduce the size), we will be taking advantage Google's cloud service Colab, which will allow us to process an extremely large dataset. Google Colab will also allow us to utilize PySpark, a tool for ALS models.\n",
        "\n",
        "To start, we will run the following to set up our Google Colab environment.\n",
        "\n",
        "To compare the ALS model we decided to use models from surprise. We need to run the following code to install the surprise package into Google Colab."
      ]
    },
    {
      "cell_type": "code",
      "metadata": {
        "colab": {
          "base_uri": "https://localhost:8080/"
        },
        "id": "DnXxPBsVsqS4",
        "outputId": "e8c0296b-2b29-40a8-e60c-09b02bdf7a42"
      },
      "source": [
        "# Run for Google Colab environment\n",
        "!pip install pyspark\n",
        "!pip install openjdk-8-jdk-headless -qq\n",
        "!pip install mlflow\n",
        "\n",
        "# Surprise is not downloaded in Google Colab instance so we have to download the packages first\n",
        "!pip install surprise"
      ],
      "execution_count": null,
      "outputs": [
        {
          "output_type": "stream",
          "text": [
            "Requirement already satisfied: pyspark in c:\\users\\ajche\\anaconda3\\envs\\learn-env\\lib\\site-packages (3.0.0)\n",
            "Requirement already satisfied: py4j==0.10.9 in c:\\users\\ajche\\anaconda3\\envs\\learn-env\\lib\\site-packages (from pyspark) (0.10.9)\n"
          ],
          "name": "stdout"
        },
        {
          "output_type": "stream",
          "text": [
            "ERROR: Could not find a version that satisfies the requirement openjdk-8-jdk-headless (from versions: none)\n",
            "ERROR: No matching distribution found for openjdk-8-jdk-headless\n"
          ],
          "name": "stderr"
        },
        {
          "output_type": "stream",
          "text": [
            "Collecting mlflow\n",
            "  Using cached mlflow-1.19.0-py3-none-any.whl (14.4 MB)\n",
            "Requirement already satisfied: requests>=2.17.3 in c:\\users\\ajche\\anaconda3\\envs\\learn-env\\lib\\site-packages (from mlflow) (2.24.0)\n",
            "Requirement already satisfied: pandas in c:\\users\\ajche\\anaconda3\\envs\\learn-env\\lib\\site-packages (from mlflow) (1.1.3)\n",
            "Processing c:\\users\\ajche\\appdata\\local\\pip\\cache\\wheels\\e9\\f3\\dc\\eeff77dbc147629fa716741fc216520abbc0e15ce4b876706f\\databricks_cli-0.14.3-py3-none-any.whl\n",
            "Processing c:\\users\\ajche\\appdata\\local\\pip\\cache\\wheels\\69\\6f\\b4\\2087abb1172ae32c58e366dc09746de46a72b0e9fb2c022920\\prometheus_flask_exporter-0.18.2-py3-none-any.whl\n",
            "Collecting querystring-parser\n",
            "  Using cached querystring_parser-1.2.4-py2.py3-none-any.whl (7.9 kB)\n",
            "Requirement already satisfied: numpy in c:\\users\\ajche\\anaconda3\\envs\\learn-env\\lib\\site-packages (from mlflow) (1.18.5)\n",
            "Collecting Flask\n",
            "  Using cached Flask-2.0.1-py3-none-any.whl (94 kB)\n",
            "Collecting sqlparse>=0.3.1\n",
            "  Using cached sqlparse-0.4.1-py3-none-any.whl (42 kB)\n",
            "Requirement already satisfied: docker>=4.0.0 in c:\\users\\ajche\\anaconda3\\envs\\learn-env\\lib\\site-packages (from mlflow) (5.0.0)\n",
            "Collecting gitpython>=2.1.0\n",
            "  Using cached GitPython-3.1.18-py3-none-any.whl (170 kB)\n",
            "Requirement already satisfied: entrypoints in c:\\users\\ajche\\anaconda3\\envs\\learn-env\\lib\\site-packages (from mlflow) (0.3)\n",
            "Requirement already satisfied: waitress; platform_system == \"Windows\" in c:\\users\\ajche\\anaconda3\\envs\\learn-env\\lib\\site-packages (from mlflow) (2.0.0)\n",
            "Requirement already satisfied: packaging in c:\\users\\ajche\\anaconda3\\envs\\learn-env\\lib\\site-packages (from mlflow) (20.4)\n",
            "Processing c:\\users\\ajche\\appdata\\local\\pip\\cache\\wheels\\9d\\de\\6d\\ca8d461ec29e010b1267d7353d0b058819770f7680bb9360e4\\alembic-1.4.1-py2.py3-none-any.whl\n",
            "Requirement already satisfied: sqlalchemy in c:\\users\\ajche\\anaconda3\\envs\\learn-env\\lib\\site-packages (from mlflow) (1.3.19)\n",
            "Collecting cloudpickle\n",
            "  Using cached cloudpickle-1.6.0-py3-none-any.whl (23 kB)\n",
            "Requirement already satisfied: pytz in c:\\users\\ajche\\anaconda3\\envs\\learn-env\\lib\\site-packages (from mlflow) (2020.1)\n",
            "Requirement already satisfied: pyyaml>=5.1 in c:\\users\\ajche\\anaconda3\\envs\\learn-env\\lib\\site-packages (from mlflow) (5.3.1)\n",
            "Requirement already satisfied: protobuf>=3.7.0 in c:\\users\\ajche\\anaconda3\\envs\\learn-env\\lib\\site-packages (from mlflow) (3.11.2)\n",
            "Requirement already satisfied: click>=7.0 in c:\\users\\ajche\\anaconda3\\envs\\learn-env\\lib\\site-packages (from mlflow) (7.1.2)\n",
            "Requirement already satisfied: certifi>=2017.4.17 in c:\\users\\ajche\\anaconda3\\envs\\learn-env\\lib\\site-packages (from requests>=2.17.3->mlflow) (2021.5.30)\n",
            "Requirement already satisfied: urllib3!=1.25.0,!=1.25.1,<1.26,>=1.21.1 in c:\\users\\ajche\\anaconda3\\envs\\learn-env\\lib\\site-packages (from requests>=2.17.3->mlflow) (1.25.10)\n",
            "Requirement already satisfied: chardet<4,>=3.0.2 in c:\\users\\ajche\\anaconda3\\envs\\learn-env\\lib\\site-packages (from requests>=2.17.3->mlflow) (3.0.4)\n",
            "Requirement already satisfied: idna<3,>=2.5 in c:\\users\\ajche\\anaconda3\\envs\\learn-env\\lib\\site-packages (from requests>=2.17.3->mlflow) (2.10)\n",
            "Requirement already satisfied: python-dateutil>=2.7.3 in c:\\users\\ajche\\anaconda3\\envs\\learn-env\\lib\\site-packages (from pandas->mlflow) (2.8.1)\n",
            "Collecting tabulate>=0.7.7\n",
            "  Using cached tabulate-0.8.9-py3-none-any.whl (25 kB)\n",
            "Requirement already satisfied: six>=1.10.0 in c:\\users\\ajche\\anaconda3\\envs\\learn-env\\lib\\site-packages (from databricks-cli>=0.8.7->mlflow) (1.15.0)\n",
            "Requirement already satisfied: prometheus-client in c:\\users\\ajche\\anaconda3\\envs\\learn-env\\lib\\site-packages (from prometheus-flask-exporter->mlflow) (0.8.0)\n",
            "Collecting Werkzeug>=2.0\n",
            "  Using cached Werkzeug-2.0.1-py3-none-any.whl (288 kB)\n",
            "Requirement already satisfied: itsdangerous>=2.0 in c:\\users\\ajche\\anaconda3\\envs\\learn-env\\lib\\site-packages (from Flask->mlflow) (2.0.1)\n",
            "Collecting Jinja2>=3.0\n",
            "  Using cached Jinja2-3.0.1-py3-none-any.whl (133 kB)\n",
            "Requirement already satisfied: pywin32==227; sys_platform == \"win32\" in c:\\users\\ajche\\anaconda3\\envs\\learn-env\\lib\\site-packages (from docker>=4.0.0->mlflow) (227)\n",
            "Requirement already satisfied: websocket-client>=0.32.0 in c:\\users\\ajche\\anaconda3\\envs\\learn-env\\lib\\site-packages (from docker>=4.0.0->mlflow) (1.1.0)\n",
            "Collecting gitdb<5,>=4.0.1\n",
            "  Using cached gitdb-4.0.7-py3-none-any.whl (63 kB)\n",
            "Requirement already satisfied: pyparsing>=2.0.2 in c:\\users\\ajche\\anaconda3\\envs\\learn-env\\lib\\site-packages (from packaging->mlflow) (2.4.7)\n",
            "Collecting Mako\n",
            "  Using cached Mako-1.1.4-py2.py3-none-any.whl (75 kB)\n",
            "Collecting python-editor>=0.3\n",
            "  Using cached python_editor-1.0.4-py3-none-any.whl (4.9 kB)\n",
            "Requirement already satisfied: setuptools in c:\\users\\ajche\\anaconda3\\envs\\learn-env\\lib\\site-packages (from protobuf>=3.7.0->mlflow) (50.3.0.post20201103)\n",
            "Requirement already satisfied: MarkupSafe>=2.0 in c:\\users\\ajche\\anaconda3\\envs\\learn-env\\lib\\site-packages (from Jinja2>=3.0->Flask->mlflow) (2.0.1)\n",
            "Collecting smmap<5,>=3.0.1\n",
            "  Using cached smmap-4.0.0-py2.py3-none-any.whl (24 kB)\n",
            "Installing collected packages: tabulate, databricks-cli, Werkzeug, Jinja2, Flask, prometheus-flask-exporter, querystring-parser, sqlparse, smmap, gitdb, gitpython, Mako, python-editor, alembic, cloudpickle, mlflow\n",
            "  Attempting uninstall: Werkzeug\n",
            "    Found existing installation: Werkzeug 1.0.1\n",
            "    Uninstalling Werkzeug-1.0.1:\n",
            "      Successfully uninstalled Werkzeug-1.0.1\n",
            "  Attempting uninstall: Jinja2\n",
            "    Found existing installation: Jinja2 2.11.2\n",
            "    Uninstalling Jinja2-2.11.2:\n",
            "      Successfully uninstalled Jinja2-2.11.2\n",
            "Successfully installed Flask-2.0.1 Jinja2-3.0.1 Mako-1.1.4 Werkzeug-2.0.1 alembic-1.4.1 cloudpickle-1.6.0 databricks-cli-0.14.3 gitdb-4.0.7 gitpython-3.1.18 mlflow-1.19.0 prometheus-flask-exporter-0.18.2 python-editor-1.0.4 querystring-parser-1.2.4 smmap-4.0.0 sqlparse-0.4.1 tabulate-0.8.9\n",
            "Requirement already satisfied: surprise in c:\\users\\ajche\\anaconda3\\envs\\learn-env\\lib\\site-packages (0.1)\n",
            "Requirement already satisfied: scikit-surprise in c:\\users\\ajche\\anaconda3\\envs\\learn-env\\lib\\site-packages (from surprise) (1.1.1)\n",
            "Requirement already satisfied: joblib>=0.11 in c:\\users\\ajche\\anaconda3\\envs\\learn-env\\lib\\site-packages (from scikit-surprise->surprise) (0.17.0)\n",
            "Requirement already satisfied: numpy>=1.11.2 in c:\\users\\ajche\\anaconda3\\envs\\learn-env\\lib\\site-packages (from scikit-surprise->surprise) (1.18.5)\n",
            "Requirement already satisfied: scipy>=1.0.0 in c:\\users\\ajche\\anaconda3\\envs\\learn-env\\lib\\site-packages (from scikit-surprise->surprise) (1.5.0)\n",
            "Requirement already satisfied: six>=1.10.0 in c:\\users\\ajche\\anaconda3\\envs\\learn-env\\lib\\site-packages (from scikit-surprise->surprise) (1.15.0)\n"
          ],
          "name": "stdout"
        }
      ]
    },
    {
      "cell_type": "markdown",
      "metadata": {
        "id": "juv8-OyqbEM8"
      },
      "source": [
        "Now that we have installed everything  we will import the following libraries for PySpark, and set up a spark session. We will also import the relevant functions from the surprise library for testing other models.\n",
        "\n",
        "Following that, we will remove some data from our data. We are going to avoid Hentai recommendations from now, and want to ensure that we use full length shows or movies, so if an anime duration is in seconds we will remove it.\n",
        " \n"
      ]
    },
    {
      "cell_type": "code",
      "metadata": {
        "id": "lnYajsZ0gfOd"
      },
      "source": [
        "# import standard packages\n",
        "import pandas as pd\n",
        "import numpy as np\n",
        "\n",
        "\n",
        "# Import the relevant packages for pyspark\n",
        "import pyspark\n",
        "from pyspark.ml.regression import RandomForestRegressor\n",
        "from pyspark.ml import feature\n",
        "from pyspark.ml.feature import StringIndexer, VectorAssembler, OneHotEncoder\n",
        "from pyspark.ml.tuning import ParamGridBuilder, TrainValidationSplit, CrossValidator\n",
        "from pyspark.ml.evaluation import RegressionEvaluator\n",
        "from pyspark.ml import Pipeline\n",
        "from pyspark.sql import SparkSession\n",
        "from pyspark.ml.recommendation import ALS\n",
        "# import org.apache.spark.sql.functions.col\n",
        "# import org.apache.spark.sql.types.IntegerType\n",
        "# import pyspark.sql.functions.col\n",
        "from pyspark.sql.types import IntegerType\n",
        "\n",
        "# Import relevant packages for surprise\n",
        "from surprise import Reader, Dataset\n",
        "from surprise.model_selection import cross_validate\n",
        "from surprise.prediction_algorithms import KNNWithMeans, KNNBasic, KNNBaseline, SVD\n",
        "from surprise.model_selection import GridSearchCV\n",
        "from surprise.model_selection import train_test_split\n",
        "\n",
        "# import standard packages for plotting\n",
        "from PIL import Image\n",
        "from wordcloud import WordCloud, STOPWORDS, ImageColorGenerator\n",
        "import seaborn as sns\n",
        "import matplotlib as mpl\n",
        "import matplotlib.pyplot as plt\n",
        "%matplotlib inline\n",
        "mpl.style.use('fivethirtyeight')\n",
        "\n",
        "#Ignore warnings in cells\n",
        "import warnings\n",
        "warnings.filterwarnings('ignore')\n",
        "\n",
        "# Setting random seed to 1 for reproducability\n",
        "import random\n",
        "random.seed(1)"
      ],
      "execution_count": null,
      "outputs": []
    },
    {
      "cell_type": "markdown",
      "metadata": {
        "id": "tfSx0_KFgfOd"
      },
      "source": [
        "### Loading the Data\n",
        "\n",
        "If you are running this code on Google Colab, please upload the data to the directories and use the second data path defined below. The data is not included in the repo, if running the code locally please crease a data folder in the repo and extract the data from [here](https://www.kaggle.com/hernan4444/anime-recommendation-database-2020) into the folder and use the first data path below.\n",
        "\n",
        "The Data is subsampled with 1000 samples to facilitate running the code for submission. If running this code in Google Colab it is recommended raise this number."
      ]
    },
    {
      "cell_type": "code",
      "metadata": {
        "id": "z3qDcKnUgfOe"
      },
      "source": [
        "# Import all related data sets\n",
        "\n",
        "# Defining the path to the data\n",
        "data_path = './data/'\n",
        "# Path to the data if running code in Google Colab\n",
        "# data_path = ''\n",
        "\n",
        "anime_df = pd.read_csv(data_path+'anime.csv')\n",
        "anime_list_df = pd.read_csv(data_path+'animelist.csv')\n",
        "# anime_with_sin_df = pd.read_csv('./data/anime_with_synopsis.csv')\n",
        "# rating_comp_df = pd.read_csv('./data/rating_complete.csv')\n",
        "# watch_stat_df = pd.read_csv('./data/watching_status.csv')"
      ],
      "execution_count": null,
      "outputs": []
    },
    {
      "cell_type": "code",
      "metadata": {
        "id": "J8CMJxg1sqS2"
      },
      "source": [
        "# dropping all of the anime of ill repute\n",
        "anime_df = anime_df[~anime_df['Genres'].str.contains(\"Hentai\")]\n",
        "\n",
        "# dropping all of the anime with air rimes less than 1 sec.\n",
        "anime_df = anime_df[~anime_df['Duration'].str.contains(\"sec\")]\n",
        "\n",
        "# Remove types of anime that fall outside of the scope\n",
        "anime_df = anime_df[~anime_df['Type'].str.contains('|'.join(['Movie','Music', 'OVA', 'Special', 'ONA', 'Unknown']))]\n",
        "\n",
        "# Filter out anime before 1980\n",
        "# anime_df = anime_df[anime_df['Premiered'] >= 1980]\n",
        "\n",
        "# using the ID of the cleaned anime list to clean the list of ratings as well\n",
        "anime_list_df = anime_list_df[anime_list_df['anime_id'].isin(list(anime_df['MAL_ID'].tolist()))]\n",
        "\n",
        "# Cutting all of the reviews of 0\n",
        "anime_list_df = anime_list_df[anime_list_df['rating'] != 0]\n",
        "\n",
        "# There is way too much data in this set so we will be resampling the data to \n",
        "# make a smaller data set.\n",
        "anime_list_df = anime_list_df.sample(1000,random_state=1)"
      ],
      "execution_count": null,
      "outputs": []
    },
    {
      "cell_type": "markdown",
      "metadata": {
        "id": "xOJ6ft-YgfOf"
      },
      "source": [
        "## EDA\n",
        "\n",
        "We start by looking at some of the features of the anime and the ratings data. We look at the distribution of ratings and the distributions of the rating count per user and anime title."
      ]
    },
    {
      "cell_type": "code",
      "metadata": {
        "id": "dd7r5nfTEl3S",
        "outputId": "12331bc3-d7c6-4179-8266-174f5a3dd134"
      },
      "source": [
        "# Plotting the distribution of the ratings to show the small tail issue\n",
        "fig, ax = plt.subplots(figsize=(16,8))\n",
        "ax.hist(anime_list_df['rating'], bins=10)\n",
        "ax.set_title('Distribution of Ratings')\n",
        "ax.set_xlabel('Rating')\n",
        "plt.tight_layout()\n",
        "\n",
        "#Save fig\n",
        "fig.savefig('./imgs/rating_dist.png');"
      ],
      "execution_count": null,
      "outputs": [
        {
          "output_type": "display_data",
          "data": {
            "image/png": "[encoded data removed]",
            "text/plain": [
              "<Figure size 1152x576 with 1 Axes>"
            ]
          },
          "metadata": {
            "tags": []
          }
        }
      ]
    },
    {
      "cell_type": "code",
      "metadata": {
        "id": "xuwb0oXWEl3T",
        "outputId": "b55a8348-06db-49c7-b8ad-0437885dbab0"
      },
      "source": [
        "# Look at the mean and standard deviation of the ratings to compare the RMSE of our models\n",
        "ave = anime_list_df[anime_list_df['rating'] != 0]['rating'].mean()\n",
        "stdev = anime_list_df[anime_list_df['rating'] != 0]['rating'].std()\n",
        "print(\"Average Ratings: \",ave)\n",
        "print(\"Standard Dev. of Ratings: \",stdev)"
      ],
      "execution_count": null,
      "outputs": [
        {
          "output_type": "stream",
          "text": [
            "Average Ratings:  7.526\n",
            "Standard Dev. of Ratings:  1.693573792957423\n"
          ],
          "name": "stdout"
        }
      ]
    },
    {
      "cell_type": "markdown",
      "metadata": {
        "id": "a8iPwedHEl3T"
      },
      "source": [
        "### Looking at the Genres of Anime"
      ]
    },
    {
      "cell_type": "code",
      "metadata": {
        "id": "Jbbsg19sEl3T"
      },
      "source": [
        "# Drop uneccesary columnsastype\n",
        "genres = anime_df['Genres'].str.split(', ')"
      ],
      "execution_count": null,
      "outputs": []
    },
    {
      "cell_type": "code",
      "metadata": {
        "id": "k2GWJfc3El3T"
      },
      "source": [
        "# Generating a dictionary of the genres and their respective count\n",
        "genres_dict = {}\n",
        "for row in genres:\n",
        "  for i in row:\n",
        "    i.replace(',','')\n",
        "    if i in genres_dict.keys():\n",
        "      genres_dict[i] += 1\n",
        "    else:\n",
        "      genres_dict[i] = 0"
      ],
      "execution_count": null,
      "outputs": []
    },
    {
      "cell_type": "code",
      "metadata": {
        "id": "58yMxBLaEl3U"
      },
      "source": [
        "# if word cloud is not already installed run the commented code below\n",
        "# !pip install wordcloud"
      ],
      "execution_count": null,
      "outputs": []
    },
    {
      "cell_type": "code",
      "metadata": {
        "id": "Lr-RmuYGEl3U",
        "outputId": "2fa3b21d-5e18-41e4-fe66-757c04838412"
      },
      "source": [
        "# Create a text box of all of the genres\n",
        "lst = []\n",
        "for i in genres:\n",
        "    lst += i\n",
        "all_genres = ' '.join(lst)\n",
        "\n",
        "# Create the wordcloud object\n",
        "wordcloud = WordCloud(max_font_size=100, max_words=1000, background_color=\"white\").generate(all_genres)\n",
        "\n",
        "# Plotting the frequency of genres in a wordcloud\n",
        "fig,ax = plt.subplots()\n",
        "plt.imshow(wordcloud, interpolation=None)\n",
        "plt.axis(\"off\")\n",
        "plt.show()\n",
        "fig.savefig('./imgs/genres_cloud.png');"
      ],
      "execution_count": null,
      "outputs": [
        {
          "output_type": "display_data",
          "data": {
            "image/png": "[encoded data removed]",
            "text/plain": [
              "<Figure size 432x288 with 1 Axes>"
            ]
          },
          "metadata": {
            "tags": []
          }
        }
      ]
    },
    {
      "cell_type": "code",
      "metadata": {
        "id": "zDzNX64G2L24",
        "outputId": "aa356930-d723-49c2-da3b-fd43d82ef78a"
      },
      "source": [
        "# Plot a histogram of the number of genres per anime title\n",
        "fig, ax = plt.subplots()\n",
        "\n",
        "plt.hist(anime_info['genre_count'])\n",
        "plt.title('Historgram for Number of Genres')\n",
        "plt.xlabel('Number of Genres')\n",
        "plt.ylabel('Number of Anime');\n",
        "plt.tight_layout()\n",
        "\n",
        "fig.savefig('./imgs/dist_number_genre.png')\n"
      ],
      "execution_count": null,
      "outputs": [
        {
          "output_type": "display_data",
          "data": {
            "image/png": "[encoded data removed]",
            "text/plain": [
              "<Figure size 432x288 with 1 Axes>"
            ]
          },
          "metadata": {
            "tags": [],
            "needs_background": "light"
          }
        }
      ]
    },
    {
      "cell_type": "markdown",
      "metadata": {
        "id": "unHT4QD-El3V"
      },
      "source": [
        "### Looking at the year premeired"
      ]
    },
    {
      "cell_type": "code",
      "metadata": {
        "id": "yvOYZI18El3V"
      },
      "source": [
        "# Create a function to split the Premiered values and grab the year from the column\n",
        "def split_and_take_min(x):\n",
        "    # split each value\n",
        "    lst = x.split(' ')\n",
        "    nums = []\n",
        "    # grab the years from the values and return the first year in the value\n",
        "    for i in lst:\n",
        "        try:\n",
        "            nums.append(int(i))\n",
        "        except:\n",
        "            continue\n",
        "    try:\n",
        "        return int(nums[0])\n",
        "    except:\n",
        "        return 0\n",
        "# Apply the function the the Premeired column in the data\n",
        "anime_df['Premiered'] = anime_df['Premiered'].apply(split_and_take_min)    "
      ],
      "execution_count": null,
      "outputs": []
    },
    {
      "cell_type": "code",
      "metadata": {
        "id": "y-XtUu_wEl3V",
        "outputId": "bda1b819-8a19-4917-bceb-3b797378e832"
      },
      "source": [
        "# Grab the non-zero years from the Premeiered column\n",
        "years = list(anime_df[anime_df['Premiered'] != 0]['Premiered'])\n",
        "\n",
        "# plot the distribution of years premiered to show the growing market\n",
        "fig,ax = plt.subplots(figsize=(16,8))\n",
        "ax.hist(years,bins=20)\n",
        "ax.set_title('Distribution of Year Premiered')\n",
        "ax.set_xlabel('Year Premiered')\n",
        "plt.tight_layout()\n",
        "\n",
        "fig.savefig('./imgs/dist_year_premiered.png')"
      ],
      "execution_count": null,
      "outputs": [
        {
          "output_type": "display_data",
          "data": {
            "image/png": "[encoded data removed]",
            "text/plain": [
              "<Figure size 1152x576 with 1 Axes>"
            ]
          },
          "metadata": {
            "tags": []
          }
        }
      ]
    },
    {
      "cell_type": "markdown",
      "metadata": {
        "id": "EbsE_wpLEl3W"
      },
      "source": [
        "### Looking at the number of items and number of users in the ratings dataset"
      ]
    },
    {
      "cell_type": "code",
      "metadata": {
        "id": "BEaFGIL4El3W"
      },
      "source": [
        "# Looking at the number of users and the number of items in the rankings dataset\n",
        "user_num = anime_list_df['user_id'].value_counts().shape[0]\n",
        "item_num = anime_list_df['anime_id'].value_counts().shape[0]\n"
      ],
      "execution_count": null,
      "outputs": []
    },
    {
      "cell_type": "code",
      "metadata": {
        "id": "6-EZI2gNEl3W",
        "outputId": "efef826a-e169-4402-8e8f-aa9aaf3cb7f1"
      },
      "source": [
        "# print out the numbers in a table\n",
        "print('Number of users: ', user_num, '\\n')\n",
        "print('Number of items: ', item_num)\n"
      ],
      "execution_count": null,
      "outputs": [
        {
          "output_type": "stream",
          "text": [
            "Number of users:  994 \n",
            "\n",
            "Number of items:  680\n"
          ],
          "name": "stdout"
        }
      ]
    },
    {
      "cell_type": "markdown",
      "metadata": {
        "id": "1nc8BxGBEl3W"
      },
      "source": [
        "|||\n",
        "|:------|:-------|\n",
        "|Users|325176|\n",
        "|Items|15780|"
      ]
    },
    {
      "cell_type": "markdown",
      "metadata": {
        "id": "ORaME-_wEl3W"
      },
      "source": [
        "- There are significantly more users than items. We'll take that into account when inputting the specifications to our similarity metrics. Because we have fewer items than users, it will be more efficient to calculate item-item similarity rather than user-user similarity"
      ]
    },
    {
      "cell_type": "markdown",
      "metadata": {
        "id": "2oM10kiEEl3W"
      },
      "source": [
        "### Looking at the numbers of different producers, genres, Licensors, Studios"
      ]
    },
    {
      "cell_type": "code",
      "metadata": {
        "id": "qb0lI8XXEl3X",
        "outputId": "e69b31f1-dda0-4180-c465-a6686d41eae7"
      },
      "source": [
        "# Pull the number of producers, studios, and titles of animes premiering in 2020\n",
        "num_producers_2020 = anime_df[anime_df['Premiered'] == 2020]['Producers'].value_counts().shape[0]\n",
        "num_Studio_2020 = anime_df[anime_df['Premiered'] == 2020]['Studios'].value_counts().shape[0]\n",
        "num_Title_2020 = anime_df[anime_df['Premiered'] == 2020]['Name'].value_counts().shape[0]\n",
        "\n",
        "print('Producers in 2020: ',num_producers_2020)\n",
        "print('Studios in 2020: ',num_Studio_2020)\n",
        "print('Titles in 2020: ',num_Title_2020)"
      ],
      "execution_count": null,
      "outputs": [
        {
          "output_type": "stream",
          "text": [
            "Producers in 2020:  123\n",
            "Studios in 2020:  109\n",
            "Titles in 2020:  191\n"
          ],
          "name": "stdout"
        }
      ]
    },
    {
      "cell_type": "code",
      "metadata": {
        "id": "oZUhAAZSEl3X",
        "outputId": "99bd2d2c-e1d2-4d17-a1bf-e39c709a49e7"
      },
      "source": [
        "# Pull the number of producers, studios, and titles of animes premiering in 2000\n",
        "num_producers_2000 = anime_df[anime_df['Premiered'] == 2000]['Producers'].value_counts().shape[0]\n",
        "num_Studio_2000 = anime_df[anime_df['Premiered'] == 2000]['Studios'].value_counts().shape[0]\n",
        "num_Title_2000 = anime_df[anime_df['Premiered'] == 2000]['Name'].value_counts().shape[0]\n",
        "\n",
        "print('Producers in 2000: ',num_producers_2000)\n",
        "print('Studios in 2000: ',num_Studio_2000)\n",
        "print('Titles in 2000: ',num_Title_2000)"
      ],
      "execution_count": null,
      "outputs": [
        {
          "output_type": "stream",
          "text": [
            "Producers in 2000:  42\n",
            "Studios in 2000:  28\n",
            "Titles in 2000:  57\n"
          ],
          "name": "stdout"
        }
      ]
    },
    {
      "cell_type": "markdown",
      "metadata": {
        "id": "ciHLi1XOEl3X"
      },
      "source": [
        "### Considering number of reviews per anime and user"
      ]
    },
    {
      "cell_type": "code",
      "metadata": {
        "id": "9W9bj8xbEl3Z",
        "outputId": "275b7048-cdbd-4471-9785-abbfa83309de"
      },
      "source": [
        "# group the data set by anime IDaggregating the count and plotting a bar graph of the number per ID\n",
        "anime_review_count = anime_list_df.groupby('anime_id').count()\n",
        "\n",
        "# Sort the grouped id's by the number of reviews for each\n",
        "anime_review_count_sorted = anime_review_count.sort_values('rating',ascending=False)\n",
        "\n",
        "\n",
        "# pull the top 20 most rated anime in the set\n",
        "most_reviewed = list(anime_review_count_sorted.index)[:20]\n",
        "\n",
        "# Matching tthe top 20 most reviewed anime with their title and average score\n",
        "most_review_titles = []\n",
        "for item in most_reviewed:\n",
        "    name = anime_df.loc[anime_df['MAL_ID']==item,['Name']].values[0][0]\n",
        "    num = anime_review_count_sorted.loc[item,['rating']].values[0]\n",
        "    rate = anime_df.loc[anime_df['MAL_ID']==item,['Score']].values[0][0]\n",
        "    most_review_titles.append( (name,num,rate) )\n",
        "    \n",
        "\n",
        "# Put the results into a DataFrame and viewing the results\n",
        "most_review_titles_df = pd.DataFrame(most_review_titles,columns=['Name','N ratings','Ave. Rating'])\n",
        "most_review_titles_df"
      ],
      "execution_count": null,
      "outputs": [
        {
          "output_type": "execute_result",
          "data": {
            "text/html": [
              "<div>\n",
              "<style scoped>\n",
              "    .dataframe tbody tr th:only-of-type {\n",
              "        vertical-align: middle;\n",
              "    }\n",
              "\n",
              "    .dataframe tbody tr th {\n",
              "        vertical-align: top;\n",
              "    }\n",
              "\n",
              "    .dataframe thead th {\n",
              "        text-align: right;\n",
              "    }\n",
              "</style>\n",
              "<table border=\"1\" class=\"dataframe\">\n",
              "  <thead>\n",
              "    <tr style=\"text-align: right;\">\n",
              "      <th></th>\n",
              "      <th>Name</th>\n",
              "      <th>N ratings</th>\n",
              "      <th>Ave. Rating</th>\n",
              "    </tr>\n",
              "  </thead>\n",
              "  <tbody>\n",
              "    <tr>\n",
              "      <th>0</th>\n",
              "      <td>Death Note</td>\n",
              "      <td>7</td>\n",
              "      <td>8.63</td>\n",
              "    </tr>\n",
              "    <tr>\n",
              "      <th>1</th>\n",
              "      <td>Sword Art Online</td>\n",
              "      <td>6</td>\n",
              "      <td>7.25</td>\n",
              "    </tr>\n",
              "    <tr>\n",
              "      <th>2</th>\n",
              "      <td>Shigatsu wa Kimi no Uso</td>\n",
              "      <td>6</td>\n",
              "      <td>8.74</td>\n",
              "    </tr>\n",
              "    <tr>\n",
              "      <th>3</th>\n",
              "      <td>Chuunibyou demo Koi ga Shitai!</td>\n",
              "      <td>6</td>\n",
              "      <td>7.77</td>\n",
              "    </tr>\n",
              "    <tr>\n",
              "      <th>4</th>\n",
              "      <td>Soul Eater</td>\n",
              "      <td>5</td>\n",
              "      <td>7.88</td>\n",
              "    </tr>\n",
              "    <tr>\n",
              "      <th>5</th>\n",
              "      <td>Tokyo Ghoul</td>\n",
              "      <td>5</td>\n",
              "      <td>7.81</td>\n",
              "    </tr>\n",
              "    <tr>\n",
              "      <th>6</th>\n",
              "      <td>Ano Hi Mita Hana no Namae wo Bokutachi wa Mada...</td>\n",
              "      <td>5</td>\n",
              "      <td>8.42</td>\n",
              "    </tr>\n",
              "    <tr>\n",
              "      <th>7</th>\n",
              "      <td>Haikyuu!!</td>\n",
              "      <td>5</td>\n",
              "      <td>8.53</td>\n",
              "    </tr>\n",
              "    <tr>\n",
              "      <th>8</th>\n",
              "      <td>Kimi ni Todoke</td>\n",
              "      <td>5</td>\n",
              "      <td>8.02</td>\n",
              "    </tr>\n",
              "    <tr>\n",
              "      <th>9</th>\n",
              "      <td>Haikyuu!!: Karasuno Koukou vs. Shiratorizawa G...</td>\n",
              "      <td>4</td>\n",
              "      <td>8.87</td>\n",
              "    </tr>\n",
              "    <tr>\n",
              "      <th>10</th>\n",
              "      <td>Fullmetal Alchemist</td>\n",
              "      <td>4</td>\n",
              "      <td>8.17</td>\n",
              "    </tr>\n",
              "    <tr>\n",
              "      <th>11</th>\n",
              "      <td>Steins;Gate</td>\n",
              "      <td>4</td>\n",
              "      <td>9.11</td>\n",
              "    </tr>\n",
              "    <tr>\n",
              "      <th>12</th>\n",
              "      <td>Yahari Ore no Seishun Love Comedy wa Machigatt...</td>\n",
              "      <td>4</td>\n",
              "      <td>8.07</td>\n",
              "    </tr>\n",
              "    <tr>\n",
              "      <th>13</th>\n",
              "      <td>07-Ghost</td>\n",
              "      <td>4</td>\n",
              "      <td>7.24</td>\n",
              "    </tr>\n",
              "    <tr>\n",
              "      <th>14</th>\n",
              "      <td>Bakemonogatari</td>\n",
              "      <td>4</td>\n",
              "      <td>8.36</td>\n",
              "    </tr>\n",
              "    <tr>\n",
              "      <th>15</th>\n",
              "      <td>One Punch Man</td>\n",
              "      <td>4</td>\n",
              "      <td>8.57</td>\n",
              "    </tr>\n",
              "    <tr>\n",
              "      <th>16</th>\n",
              "      <td>To LOVE-Ru</td>\n",
              "      <td>4</td>\n",
              "      <td>7.07</td>\n",
              "    </tr>\n",
              "    <tr>\n",
              "      <th>17</th>\n",
              "      <td>Tengen Toppa Gurren Lagann</td>\n",
              "      <td>4</td>\n",
              "      <td>8.66</td>\n",
              "    </tr>\n",
              "    <tr>\n",
              "      <th>18</th>\n",
              "      <td>Digimon Adventure 02</td>\n",
              "      <td>4</td>\n",
              "      <td>7.24</td>\n",
              "    </tr>\n",
              "    <tr>\n",
              "      <th>19</th>\n",
              "      <td>InuYasha</td>\n",
              "      <td>4</td>\n",
              "      <td>7.85</td>\n",
              "    </tr>\n",
              "  </tbody>\n",
              "</table>\n",
              "</div>"
            ],
            "text/plain": [
              "                                                 Name  N ratings Ave. Rating\n",
              "0                                          Death Note          7        8.63\n",
              "1                                    Sword Art Online          6        7.25\n",
              "2                             Shigatsu wa Kimi no Uso          6        8.74\n",
              "3                      Chuunibyou demo Koi ga Shitai!          6        7.77\n",
              "4                                          Soul Eater          5        7.88\n",
              "5                                         Tokyo Ghoul          5        7.81\n",
              "6   Ano Hi Mita Hana no Namae wo Bokutachi wa Mada...          5        8.42\n",
              "7                                           Haikyuu!!          5        8.53\n",
              "8                                      Kimi ni Todoke          5        8.02\n",
              "9   Haikyuu!!: Karasuno Koukou vs. Shiratorizawa G...          4        8.87\n",
              "10                                Fullmetal Alchemist          4        8.17\n",
              "11                                        Steins;Gate          4        9.11\n",
              "12  Yahari Ore no Seishun Love Comedy wa Machigatt...          4        8.07\n",
              "13                                           07-Ghost          4        7.24\n",
              "14                                     Bakemonogatari          4        8.36\n",
              "15                                      One Punch Man          4        8.57\n",
              "16                                         To LOVE-Ru          4        7.07\n",
              "17                         Tengen Toppa Gurren Lagann          4        8.66\n",
              "18                               Digimon Adventure 02          4        7.24\n",
              "19                                           InuYasha          4        7.85"
            ]
          },
          "metadata": {
            "tags": []
          },
          "execution_count": 49
        }
      ]
    },
    {
      "cell_type": "code",
      "metadata": {
        "id": "_xn2jXinEl3Z",
        "outputId": "bb346103-a07c-4ef2-d75d-2b8fd5db166c"
      },
      "source": [
        "# Plotting the full distribution of number of reviews per anime title\n",
        "fig,ax = plt.subplots(figsize=(15,5))\n",
        "ax.hist(anime_review_count_sorted.rating,bins=200);\n",
        "ax.set_title(\"Distribution of Number of Reviews per Title\")\n",
        "ax.set_xlabel(\"Number of Reviews\")\n",
        "ax.set_ylabel('Frequency')\n",
        "plt.tight_layout()\n",
        "\n",
        "fig.savefig('./imgs/dist_review_count.png')\n"
      ],
      "execution_count": null,
      "outputs": [
        {
          "output_type": "display_data",
          "data": {
            "image/png": "[encoded data removed]",
            "text/plain": [
              "<Figure size 1080x360 with 1 Axes>"
            ]
          },
          "metadata": {
            "tags": []
          }
        }
      ]
    },
    {
      "cell_type": "code",
      "metadata": {
        "id": "jV70j096El3a",
        "outputId": "6150f07b-086c-4ac5-f7c6-80336658b46d"
      },
      "source": [
        "# Group the ratings data by user and plot the distribution of ratings per user\n",
        "user_review_count = anime_list_df.groupby('user_id').count()\n",
        "\n",
        "# Sort the grouped data by the number of reviews per user\n",
        "user_review_count_sorted = user_review_count.sort_values('rating',ascending=False)\n",
        "\n",
        "# pull the top 5 users with the highes number of ratings given\n",
        "most_review_user = list(user_review_count_sorted.index)[:5]\n",
        "\n",
        "# Matching the top 5 users giving the most reviews with thier respective id's\n",
        "most_review = []\n",
        "for item in most_review_user:\n",
        "    name = item\n",
        "    num = user_review_count_sorted.loc[item,['rating']].values[0]\n",
        "    most_review.append( (name,num) )\n",
        "\n",
        "# Put the results into a DataFrame and viewing the results\n",
        "most_review_user_df = pd.DataFrame(most_review,columns=['User ID','N ratings'])\n",
        "most_review_user_df"
      ],
      "execution_count": null,
      "outputs": [
        {
          "output_type": "execute_result",
          "data": {
            "text/html": [
              "<div>\n",
              "<style scoped>\n",
              "    .dataframe tbody tr th:only-of-type {\n",
              "        vertical-align: middle;\n",
              "    }\n",
              "\n",
              "    .dataframe tbody tr th {\n",
              "        vertical-align: top;\n",
              "    }\n",
              "\n",
              "    .dataframe thead th {\n",
              "        text-align: right;\n",
              "    }\n",
              "</style>\n",
              "<table border=\"1\" class=\"dataframe\">\n",
              "  <thead>\n",
              "    <tr style=\"text-align: right;\">\n",
              "      <th></th>\n",
              "      <th>User ID</th>\n",
              "      <th>N ratings</th>\n",
              "    </tr>\n",
              "  </thead>\n",
              "  <tbody>\n",
              "    <tr>\n",
              "      <th>0</th>\n",
              "      <td>135198</td>\n",
              "      <td>2</td>\n",
              "    </tr>\n",
              "    <tr>\n",
              "      <th>1</th>\n",
              "      <td>178361</td>\n",
              "      <td>2</td>\n",
              "    </tr>\n",
              "    <tr>\n",
              "      <th>2</th>\n",
              "      <td>70128</td>\n",
              "      <td>2</td>\n",
              "    </tr>\n",
              "    <tr>\n",
              "      <th>3</th>\n",
              "      <td>60206</td>\n",
              "      <td>2</td>\n",
              "    </tr>\n",
              "    <tr>\n",
              "      <th>4</th>\n",
              "      <td>142616</td>\n",
              "      <td>2</td>\n",
              "    </tr>\n",
              "  </tbody>\n",
              "</table>\n",
              "</div>"
            ],
            "text/plain": [
              "   User ID  N ratings\n",
              "0   135198          2\n",
              "1   178361          2\n",
              "2    70128          2\n",
              "3    60206          2\n",
              "4   142616          2"
            ]
          },
          "metadata": {
            "tags": []
          },
          "execution_count": 52
        }
      ]
    },
    {
      "cell_type": "code",
      "metadata": {
        "id": "Dj2OAqGNEl3a",
        "outputId": "9ed40193-6013-4124-c25e-372c2ea9a7de"
      },
      "source": [
        "# Plotting the distribution of users by the number of ratings per user\n",
        "fig,ax = plt.subplots(figsize=(15,5))\n",
        "ax.hist(user_review_count.rating,bins=200);\n",
        "ax.set_title(\"Distribution of Number of Reviews per User\")\n",
        "ax.set_xlabel(\"Number of Reviews\")\n",
        "ax.set_ylabel('Frequency')\n",
        "plt.tight_layout()\n",
        "\n",
        "fig.savefig('./imgs/dist_user_review_count.png')"
      ],
      "execution_count": null,
      "outputs": [
        {
          "output_type": "display_data",
          "data": {
            "image/png": "[encoded data removed]",
            "text/plain": [
              "<Figure size 1080x360 with 1 Axes>"
            ]
          },
          "metadata": {
            "tags": []
          }
        }
      ]
    },
    {
      "cell_type": "markdown",
      "metadata": {
        "id": "ar87U29YbwMw"
      },
      "source": [
        "## Building Our ALS Model\n",
        "\n",
        "Next, we are going to create a spark dataframe for our user recommendation data. We only want ratings, user id, and anime id. Because the dataset is already pretty large, we want to drop anything we can, so we can get rid of watched_status and watched_episodes. Additonally, we need to make sure all of our remaining values are integers.\n",
        "\n",
        "Note: If you are also using Google Colab, you will need to make sure to upload any CSVs in the colab instance."
      ]
    },
    {
      "cell_type": "code",
      "metadata": {
        "id": "-q-0oziytrod"
      },
      "source": [
        "# initialize a Spark Session setting app name and host\n",
        "spark = SparkSession\\\n",
        "        .builder\\\n",
        "        .appName('anime_rec').config('spark.driver.host', 'localhost')\\\n",
        "        .getOrCreate()"
      ],
      "execution_count": null,
      "outputs": []
    },
    {
      "cell_type": "code",
      "metadata": {
        "id": "WN6p3aIWtCOs"
      },
      "source": [
        "# Create the Spark dataframe\n",
        "rec_data = spark.createDataFrame(cleaned_df)"
      ],
      "execution_count": null,
      "outputs": []
    },
    {
      "cell_type": "code",
      "metadata": {
        "id": "6M2a5rActmWK"
      },
      "source": [
        "# Change the data types in the dataframe to Integer\n",
        "rec_data = rec_data.withColumn('rating', rec_data['rating'].cast(IntegerType()))\n",
        "rec_data = rec_data.withColumn('user_id', rec_data['user_id'].cast(IntegerType()))\n",
        "rec_data = rec_data.withColumn('anime_id', rec_data['anime_id'].cast(IntegerType()))"
      ],
      "execution_count": null,
      "outputs": []
    },
    {
      "cell_type": "code",
      "metadata": {
        "colab": {
          "base_uri": "https://localhost:8080/"
        },
        "id": "rstj-AYJt_h3",
        "outputId": "3a67b3b0-756e-49d6-c75f-efb8f3888bdf"
      },
      "source": [
        "# Check to see if the change took\n",
        "rec_data.dtypes"
      ],
      "execution_count": null,
      "outputs": [
        {
          "output_type": "execute_result",
          "data": {
            "text/plain": [
              "[('user_id', 'int'),\n",
              " ('anime_id', 'int'),\n",
              " ('rating', 'int'),\n",
              " ('watching_status', 'bigint'),\n",
              " ('watched_episodes', 'bigint')]"
            ]
          },
          "metadata": {
            "tags": []
          },
          "execution_count": 8
        }
      ]
    },
    {
      "cell_type": "code",
      "metadata": {
        "id": "mWi-85ODw8Va"
      },
      "source": [
        "# Drop the unnecessary columns from the data\n",
        "rec_data = rec_data.drop('watching_status')\n",
        "rec_data = rec_data.drop('watched_episodes')"
      ],
      "execution_count": null,
      "outputs": []
    },
    {
      "cell_type": "markdown",
      "metadata": {
        "id": "efrutNfwgfOl"
      },
      "source": [
        "Now that everything is set up, we can do a train test split and build a model. Our first model will make some guesses for our parameters, and from there we can try tweaking things a bit."
      ]
    },
    {
      "cell_type": "code",
      "metadata": {
        "id": "Y2fEfTHyxMuo"
      },
      "source": [
        "(training, test) = rec_data.randomSplit([0.8, 0.2], seed=1)\n",
        "\n",
        "als = ALS(userCol='user_id', itemCol='anime_id', ratingCol='rating', coldStartStrategy ='drop', nonnegative= True, implicitPrefs=True)\n"
      ],
      "execution_count": null,
      "outputs": []
    },
    {
      "cell_type": "code",
      "metadata": {
        "id": "ts3MoklAxpO6"
      },
      "source": [
        "params = ParamGridBuilder()\\\n",
        "  .addGrid(als.regParam, [0.1, 0.2])\\\n",
        "  .addGrid(als.maxIter, [20])\\\n",
        "  .addGrid(als.rank, [15]).build() # Ran earlier and found 10 to be best\n",
        "\n",
        "evaluator = RegressionEvaluator(metricName='rmse', labelCol='rating', predictionCol='prediction')\n",
        "\n",
        "tvs = TrainValidationSplit(estimator=als,\n",
        "                    estimatorParamMaps=params,\n",
        "                    evaluator=evaluator)"
      ],
      "execution_count": null,
      "outputs": []
    },
    {
      "cell_type": "code",
      "metadata": {
        "id": "utOSC4xuZHS2"
      },
      "source": [
        "model = tvs.fit(training)\n",
        "\n",
        "best_model = model.bestModel"
      ],
      "execution_count": null,
      "outputs": []
    },
    {
      "cell_type": "code",
      "metadata": {
        "colab": {
          "base_uri": "https://localhost:8080/"
        },
        "id": "7sBXkCXUkOr9",
        "outputId": "6ea9d8c4-21c9-4f2f-c15a-6264cdfb7c29"
      },
      "source": [
        "# We see the best model has a rank of 10, so we will use that in our future models with this dataset\n",
        "predictions = model.transform(test)\n",
        "rmse = evaluator.evaluate(predictions)\n",
        "\n",
        "print('RMSE = ' + str(rmse))\n",
        "print('---Best Model---')\n",
        "print(' Rank:', best_model.rank) \n",
        "print(' MaxIter:', best_model._java_obj.parent().getMaxIter())\n",
        "print(' RegParam:', best_model._java_obj.parent().getRegParam())"
      ],
      "execution_count": null,
      "outputs": [
        {
          "output_type": "stream",
          "text": [
            "RMSE = 5.731110336044163\n",
            "---Best Model---\n",
            " Rank: 15\n",
            " MaxIter: 20\n",
            " RegParam: 0.2\n"
          ],
          "name": "stdout"
        }
      ]
    },
    {
      "cell_type": "markdown",
      "metadata": {
        "id": "wsAvayJqcBaO"
      },
      "source": [
        "### Matching IDs to Names\n",
        "\n",
        "Now that we have a model with more dependable scores, we need to be a bit user friendly. It is not very helpful to recommend anime_id 1 to a user, rather than Cowboy Bepop!\n",
        "\n",
        "We are going to pull in our data set with anime information and write a function to get the title."
      ]
    },
    {
      "cell_type": "code",
      "metadata": {
        "colab": {
          "base_uri": "https://localhost:8080/"
        },
        "collapsed": true,
        "id": "F5xAjDm-KxaO",
        "jupyter": {
          "outputs_hidden": true
        },
        "outputId": "84742553-b730-4b19-86d0-c193b63be4fc"
      },
      "source": [
        "anime_titles = spark.read.csv('anime.csv', header=True)\n",
        "anime_titles.head(5)"
      ],
      "execution_count": null,
      "outputs": [
        {
          "output_type": "execute_result",
          "data": {
            "text/plain": [
              "[Row(MAL_ID='1', Name='Cowboy Bebop', Score='8.78', Genders='Action, Adventure, Comedy, Drama, Sci-Fi, Space', English name='Cowboy Bebop', Japanese name='カウボーイビバップ', Type='TV', Episodes='26', Aired='Apr 3, 1998 to Apr 24, 1999', Premiered='Spring 1998', Producers='Bandai Visual', Licensors='Funimation, Bandai Entertainment', Studios='Sunrise', Source='Original', Duration='24 min. per ep.', Rating='R - 17+ (violence & profanity)', Ranked='28.0', Popularity='39', Members='1251960', Favorites='61971', Watching='105808', Completed='718161', On-Hold='71513', Dropped='26678', Plan to Watch='329800', Score-10='229170.0', Score-9='182126.0', Score-8='131625.0', Score-7='62330.0', Score-6='20688.0', Score-5='8904.0', Score-4='3184.0', Score-3='1357.0', Score-2='741.0', Score-1='1580.0'),\n",
              " Row(MAL_ID='5', Name='Cowboy Bebop: Tengoku no Tobira', Score='8.39', Genders='Action, Drama, Mystery, Sci-Fi, Space', English name='Cowboy Bebop:The Movie', Japanese name='カウボーイビバップ 天国の扉', Type='Movie', Episodes='1', Aired='Sep 1, 2001', Premiered='Unknown', Producers='Sunrise, Bandai Visual', Licensors='Sony Pictures Entertainment', Studios='Bones', Source='Original', Duration='1 hr. 55 min.', Rating='R - 17+ (violence & profanity)', Ranked='159.0', Popularity='518', Members='273145', Favorites='1174', Watching='4143', Completed='208333', On-Hold='1935', Dropped='770', Plan to Watch='57964', Score-10='30043.0', Score-9='49201.0', Score-8='49505.0', Score-7='22632.0', Score-6='5805.0', Score-5='1877.0', Score-4='577.0', Score-3='221.0', Score-2='109.0', Score-1='379.0'),\n",
              " Row(MAL_ID='6', Name='Trigun', Score='8.24', Genders='Action, Sci-Fi, Adventure, Comedy, Drama, Shounen', English name='Trigun', Japanese name='トライガン', Type='TV', Episodes='26', Aired='Apr 1, 1998 to Sep 30, 1998', Premiered='Spring 1998', Producers='Victor Entertainment', Licensors='Funimation, Geneon Entertainment USA', Studios='Madhouse', Source='Manga', Duration='24 min. per ep.', Rating='PG-13 - Teens 13 or older', Ranked='266.0', Popularity='201', Members='558913', Favorites='12944', Watching='29113', Completed='343492', On-Hold='25465', Dropped='13925', Plan to Watch='146918', Score-10='50229.0', Score-9='75651.0', Score-8='86142.0', Score-7='49432.0', Score-6='15376.0', Score-5='5838.0', Score-4='1965.0', Score-3='664.0', Score-2='316.0', Score-1='533.0'),\n",
              " Row(MAL_ID='7', Name='Witch Hunter Robin', Score='7.27', Genders='Action, Mystery, Police, Supernatural, Drama, Magic', English name='Witch Hunter Robin', Japanese name='Witch Hunter ROBIN (ウイッチハンターロビン)', Type='TV', Episodes='26', Aired='Jul 2, 2002 to Dec 24, 2002', Premiered='Summer 2002', Producers='TV Tokyo, Bandai Visual, Dentsu, Victor Entertainment', Licensors='Funimation, Bandai Entertainment', Studios='Sunrise', Source='Original', Duration='25 min. per ep.', Rating='PG-13 - Teens 13 or older', Ranked='2481.0', Popularity='1467', Members='94683', Favorites='587', Watching='4300', Completed='46165', On-Hold='5121', Dropped='5378', Plan to Watch='33719', Score-10='2182.0', Score-9='4806.0', Score-8='10128.0', Score-7='11618.0', Score-6='5709.0', Score-5='2920.0', Score-4='1083.0', Score-3='353.0', Score-2='164.0', Score-1='131.0'),\n",
              " Row(MAL_ID='8', Name='Bouken Ou Beet', Score='6.98', Genders='Adventure, Fantasy, Shounen, Supernatural', English name='Beet the Vandel Buster', Japanese name='冒険王ビィト', Type='TV', Episodes='52', Aired='Sep 30, 2004 to Sep 29, 2005', Premiered='Fall 2004', Producers='TV Tokyo, Dentsu', Licensors='Unknown', Studios='Toei Animation', Source='Manga', Duration='23 min. per ep.', Rating='PG - Children', Ranked='3710.0', Popularity='4369', Members='13224', Favorites='18', Watching='642', Completed='7314', On-Hold='766', Dropped='1108', Plan to Watch='3394', Score-10='312.0', Score-9='529.0', Score-8='1242.0', Score-7='1713.0', Score-6='1068.0', Score-5='634.0', Score-4='265.0', Score-3='83.0', Score-2='50.0', Score-1='27.0')]"
            ]
          },
          "metadata": {
            "tags": []
          },
          "execution_count": 15
        }
      ]
    },
    {
      "cell_type": "code",
      "metadata": {
        "id": "nZGzLULlfzyf"
      },
      "source": [
        "def name_retriever(anime_id, dataframe=anime_titles):\n",
        "    name = anime_titles.where(anime_titles.MAL_ID == anime_id).take(1)[0]['English name']\n",
        "    # If there is no English name available\n",
        "    if name == 'Unknown':\n",
        "      name = anime_titles.where(anime_titles.MAL_ID == anime_id).take(1)[0]['Name']\n",
        "    return name"
      ],
      "execution_count": null,
      "outputs": []
    },
    {
      "cell_type": "code",
      "metadata": {
        "colab": {
          "base_uri": "https://localhost:8080/"
        },
        "id": "UYYubwQOhoRT",
        "outputId": "d9e4483d-ca98-4bab-a232-15704f99147d"
      },
      "source": [
        "print(name_retriever(1, anime_titles))"
      ],
      "execution_count": null,
      "outputs": [
        {
          "output_type": "stream",
          "text": [
            "Cowboy Bebop\n"
          ],
          "name": "stdout"
        }
      ]
    },
    {
      "cell_type": "markdown",
      "metadata": {
        "id": "C-znlJDAcIFp"
      },
      "source": [
        "### Getting Recommendations\n",
        "\n",
        "We are going to go ahead and pull recommendations for users. Spark actually already has built in functions to get recommendations called recommendForUserSubset. There is also a more general function called recommendForAllUsers."
      ]
    },
    {
      "cell_type": "code",
      "metadata": {
        "id": "S7_g3IsChqsv"
      },
      "source": [
        "users = rec_data.select(als.getUserCol()).distinct().limit(10)\n",
        "userSubsetRecs = best_model.recommendForUserSubset(users, 10)\n",
        "recs = userSubsetRecs.take(1)"
      ],
      "execution_count": null,
      "outputs": []
    },
    {
      "cell_type": "code",
      "metadata": {
        "colab": {
          "base_uri": "https://localhost:8080/"
        },
        "id": "E4SGsLe8Nlv5",
        "outputId": "3f51d74b-a9ee-4ae7-dc03-7a5ab83b8423"
      },
      "source": [
        "recs"
      ],
      "execution_count": null,
      "outputs": [
        {
          "output_type": "execute_result",
          "data": {
            "text/plain": [
              "[Row(user_id=109050, recommendations=[Row(anime_id=1575, rating=0.5800600647926331), Row(anime_id=20, rating=0.557708203792572), Row(anime_id=19815, rating=0.5254242420196533), Row(anime_id=4224, rating=0.5145238041877747), Row(anime_id=23273, rating=0.5140708684921265), Row(anime_id=11061, rating=0.5120140314102173), Row(anime_id=20507, rating=0.5088703036308289), Row(anime_id=25777, rating=0.4907777011394501), Row(anime_id=10620, rating=0.489093542098999), Row(anime_id=8074, rating=0.48525917530059814)])]"
            ]
          },
          "metadata": {
            "tags": []
          },
          "execution_count": 19
        }
      ]
    },
    {
      "cell_type": "code",
      "metadata": {
        "colab": {
          "base_uri": "https://localhost:8080/",
          "height": 35
        },
        "id": "K9t0mietidNG",
        "outputId": "c016b175-d953-44a9-b9ae-d97609c3ff7d"
      },
      "source": [
        "# use indexing to obtain the movie id of top predicted rated item\n",
        "first_recommendation = recs[0]['recommendations'][0][0]\n",
        "\n",
        "# use the name retriever function to get the values\n",
        "name_retriever(first_recommendation,anime_titles)"
      ],
      "execution_count": null,
      "outputs": [
        {
          "output_type": "execute_result",
          "data": {
            "application/vnd.google.colaboratory.intrinsic+json": {
              "type": "string"
            },
            "text/plain": [
              "'Code Geass:Lelouch of the Rebellion'"
            ]
          },
          "metadata": {
            "tags": []
          },
          "execution_count": 20
        }
      ]
    },
    {
      "cell_type": "code",
      "metadata": {
        "colab": {
          "base_uri": "https://localhost:8080/"
        },
        "id": "a0YNAeqzm2lf",
        "outputId": "282763f9-c80a-4cd8-8231-c4c73db8f5f6"
      },
      "source": [
        "recommendations = best_model.recommendForAllUsers(5)\n",
        "recommendations.where(recommendations.user_id == 7340).collect()"
      ],
      "execution_count": null,
      "outputs": [
        {
          "output_type": "execute_result",
          "data": {
            "text/plain": [
              "[Row(user_id=7340, recommendations=[Row(anime_id=5081, rating=0.7071511149406433), Row(anime_id=226, rating=0.7050871849060059), Row(anime_id=2167, rating=0.6992486119270325), Row(anime_id=9756, rating=0.6958047151565552), Row(anime_id=14741, rating=0.6565090417861938)])]"
            ]
          },
          "metadata": {
            "tags": []
          },
          "execution_count": 21
        }
      ]
    },
    {
      "cell_type": "markdown",
      "metadata": {
        "id": "n585yiNecYHT"
      },
      "source": [
        "We can also set up a function for creating a new user getting and recommendations for them based on review scores we input for them. We can put the same scores into Anime Planet, and see how our recommendations compare to theirs!"
      ]
    },
    {
      "cell_type": "code",
      "metadata": {
        "id": "wkb0iK3pnQ12"
      },
      "source": [
        "def new_user_recs(user_id, new_ratings, rating_df, anime_title_df, num_recs):\n",
        "    # turn the new_recommendations list into a spark DataFrame\n",
        "    new_user_ratings = spark.createDataFrame(new_ratings, rating_df.columns)\n",
        "    \n",
        "    # combine the new ratings df with the rating_df\n",
        "    anime_ratings_combined = rating_df.union(new_user_ratings)\n",
        "    \n",
        "    # create an ALS model and fit it\n",
        "    als = ALS(maxIter=15, rank=15, regParam=0.2, userCol='user_id', itemCol='anime_id', ratingCol='rating', coldStartStrategy='drop')\n",
        "    model = als.fit(anime_ratings_combined)\n",
        "    \n",
        "    # make recommendations for all users using the recommendForAllUsers method\n",
        "    recommendations = model.recommendForAllUsers(num_recs)\n",
        "\n",
        "    # get recommendations specifically for the new user that has been added to the DataFrame\n",
        "    recs_for_user = recommendations.where(recommendations.user_id == user_id).take(1)\n",
        "\n",
        "    for ranking, (anime_id, rating) in enumerate(recs_for_user[0]['recommendations']):\n",
        "      anime_string = name_retriever(anime_id, anime_title_df)\n",
        "      print('Recommendation {}: {}  | predicted score: {}'.format(ranking+1, anime_string, round(rating)))"
      ],
      "execution_count": null,
      "outputs": []
    },
    {
      "cell_type": "markdown",
      "metadata": {
        "id": "ssOFZHZlcp8X"
      },
      "source": [
        "To do a sanity check, I will enter myself as a user and with some anime rankings and get 10 recommendations for myself. We can investigate the recommendations to see if they make sense, and make adjustments based on our findings."
      ]
    },
    {
      "cell_type": "code",
      "metadata": {
        "id": "70kpfLJmnQ-p"
      },
      "source": [
        "user_id = 1000000\n",
        "user_ratings_1 = [(user_id,1,7), # Cowboy Bepop\n",
        "                  (user_id,2,7), # Trigun\n",
        "                  (user_id,30,10), # Neon Genesis Evangelion\n",
        "                  (user_id,32937,10), # KonoSuba 2\n",
        "                  (user_id,22199,5), # Akame ga Kill!\n",
        "                  (user_id,18679,8), # Kill la Kill\n",
        "                  (user_id, 28121, 1)] # Is It Wrong to Pick Up Girls in a Dungeon?\n"
      ],
      "execution_count": null,
      "outputs": []
    },
    {
      "cell_type": "code",
      "metadata": {
        "colab": {
          "base_uri": "https://localhost:8080/"
        },
        "id": "hliC0lUdnRDd",
        "outputId": "eadb2b6b-3d51-45bc-f6ea-fbf88a66639b"
      },
      "source": [
        "new_user_recs(user_id,\n",
        "             new_ratings=user_ratings_1,\n",
        "             rating_df=rec_data,\n",
        "             anime_title_df=anime_titles,\n",
        "             num_recs = 10)"
      ],
      "execution_count": null,
      "outputs": [
        {
          "output_type": "stream",
          "text": [
            "Recommendation 1: Neon Genesis Evangelion  | predicted score: 10\n",
            "Recommendation 2: Kaguya-sama:Love is War Season 2  | predicted score: 9\n",
            "Recommendation 3: Owarimonogatari Second Season  | predicted score: 9\n",
            "Recommendation 4: Kaguya-sama:Love is War  | predicted score: 9\n",
            "Recommendation 5: Gintama.:Silver Soul Arc - Second Half War  | predicted score: 9\n",
            "Recommendation 6: Attack on Titan Season 3 Part 2  | predicted score: 9\n",
            "Recommendation 7: JoJo's Bizarre Adventure:Diamond is Unbreakable  | predicted score: 9\n",
            "Recommendation 8: Grand Blue Dreaming  | predicted score: 9\n",
            "Recommendation 9: Bakemonogatari  | predicted score: 9\n",
            "Recommendation 10: KonoSuba:God's Blessing on This Wonderful World! 2  | predicted score: 9\n"
          ],
          "name": "stdout"
        }
      ]
    },
    {
      "cell_type": "markdown",
      "metadata": {
        "id": "JOdrXvkDnRHC"
      },
      "source": [
        "## Building Our Surprise Models"
      ]
    },
    {
      "cell_type": "code",
      "metadata": {
        "id": "oWhn7KlwgfOp"
      },
      "source": [
        "# Need to drop all of the unnecessary columns from the DataFrame\n",
        "anime_list_df.drop(['watching_status','watched_episodes'],axis=1,inplace=True)"
      ],
      "execution_count": null,
      "outputs": []
    },
    {
      "cell_type": "code",
      "metadata": {
        "id": "Ds9RMrhxZ-0S"
      },
      "source": [
        "# Loading in the DataFrame as a surprise objet\n",
        "reader = Reader()\n",
        "data = Dataset.load_from_df(anime_list_df,reader)"
      ],
      "execution_count": null,
      "outputs": []
    },
    {
      "cell_type": "code",
      "metadata": {
        "colab": {
          "base_uri": "https://localhost:8080/"
        },
        "id": "eM9wjQRdaQ0J",
        "outputId": "5d1cb089-4eca-4689-cf5e-b03349b2b6b5"
      },
      "source": [
        "# Looking at how many users and items are in the data to determine whether we \n",
        "# use a user-user or item-item similarity method\n",
        "dataset = data.build_full_trainset()\n",
        "print('Number of users: ', dataset.n_users, '\\n')\n",
        "print('Number of items: ', dataset.n_items)"
      ],
      "execution_count": null,
      "outputs": [
        {
          "output_type": "stream",
          "text": [
            "Number of users:  994 \n",
            "\n",
            "Number of items:  680\n"
          ],
          "name": "stdout"
        }
      ]
    },
    {
      "cell_type": "markdown",
      "metadata": {
        "id": "0N74vzeNa7Mc"
      },
      "source": [
        "Looks like there are vastly more items than there are users here so if we are using a neighborhood-based model we will evaluate with a item-item approach"
      ]
    },
    {
      "cell_type": "markdown",
      "metadata": {
        "id": "i7kmDcs1bWH0"
      },
      "source": [
        "### First simple models with SVD, KNNBasic, and KNNBaseline\n"
      ]
    },
    {
      "cell_type": "code",
      "metadata": {
        "id": "6JczTpjNbLgL"
      },
      "source": [
        "# Splitting the data into train/test sets we will be using 80% of the data to\n",
        "# train the model and 20% for validating the model.\n",
        "trainset,testset = train_test_split(data,test_size=0.2)"
      ],
      "execution_count": null,
      "outputs": []
    },
    {
      "cell_type": "code",
      "metadata": {
        "id": "oQSlYcTpdPBn"
      },
      "source": [
        "# Instantiating the models\n",
        "\n",
        "#SVD\n",
        "svd = SVD(n_factors=50,reg_all=0.05)\n",
        "\n",
        "# KNNBasic\n",
        "knn_basic = KNNBasic(sim_options  = {'name':'pearson', 'user_based':False})\n",
        "\n",
        "# KNNBaseline\n",
        "knn_baseline = KNNBaseline(sim_options = {'name':'pearson', 'user_based':False})"
      ],
      "execution_count": null,
      "outputs": []
    },
    {
      "cell_type": "markdown",
      "metadata": {
        "id": "q3dpV9b5fT4M"
      },
      "source": [
        "#### SVD\n"
      ]
    },
    {
      "cell_type": "code",
      "metadata": {
        "id": "reZOQCT6fWCN"
      },
      "source": [
        "# Run cross validation on the data\n",
        "cv_svd = cross_validate(svd,data,n_jobs=-1)"
      ],
      "execution_count": null,
      "outputs": []
    },
    {
      "cell_type": "code",
      "metadata": {
        "colab": {
          "base_uri": "https://localhost:8080/"
        },
        "id": "as6X6s3RfucO",
        "outputId": "c09d8658-ebfa-4da2-ff75-794a2c1ba8e9"
      },
      "source": [
        "# Printing out the test metrics of the cross validation for comparison\n",
        "for i in cv_svd.items():\n",
        "    print(i)\n",
        "print('-----------------------')\n",
        "print(np.mean(cv_svd['test_rmse']))"
      ],
      "execution_count": null,
      "outputs": [
        {
          "output_type": "stream",
          "text": [
            "('test_rmse', array([3.082207  , 2.94023809, 2.90774827, 3.05614136, 3.20780299]))\n",
            "('test_mae', array([2.75 , 2.625, 2.555, 2.72 , 2.91 ]))\n",
            "('fit_time', (0.046961307525634766, 0.04896116256713867, 0.05899643898010254, 0.05599713325500488, 0.0500032901763916))\n",
            "('test_time', (0.0009996891021728516, 0.002002239227294922, 0.002998828887939453, 0.0019989013671875, 0.0019953250885009766))\n",
            "-----------------------\n",
            "3.0388275402496747\n"
          ],
          "name": "stdout"
        }
      ]
    },
    {
      "cell_type": "markdown",
      "metadata": {
        "id": "jYHSO3UXgNCp"
      },
      "source": [
        "#### KNNBasic"
      ]
    },
    {
      "cell_type": "code",
      "metadata": {
        "id": "8a9iYrBygPNq"
      },
      "source": [
        "# Run cross validation on the data \n",
        "cv_knn_basic = cross_validate(knn_basic, data, n_jobs=-1)"
      ],
      "execution_count": null,
      "outputs": []
    },
    {
      "cell_type": "code",
      "metadata": {
        "colab": {
          "base_uri": "https://localhost:8080/"
        },
        "id": "a4RGX4WsgYej",
        "outputId": "60e013cc-ab97-4f56-bce9-6d290f82ce1b"
      },
      "source": [
        "# Printing out the test metrics of the cross validation for comparison\n",
        "for i in cv_knn_basic.items():\n",
        "    print(i)\n",
        "print('-----------------------')\n",
        "print(np.mean(cv_knn_basic['test_rmse']))"
      ],
      "execution_count": null,
      "outputs": [
        {
          "output_type": "stream",
          "text": [
            "('test_rmse', array([3.03315018, 3.03562185, 3.00749065, 3.01247407, 3.1136795 ]))\n",
            "('test_mae', array([2.72 , 2.685, 2.685, 2.685, 2.785]))\n",
            "('fit_time', (0.017998695373535156, 0.014999628067016602, 0.013001203536987305, 0.016996145248413086, 0.016996383666992188))\n",
            "('test_time', (0.00299835205078125, 0.0019981861114501953, 0.0019969940185546875, 0.003000020980834961, 0.003000020980834961))\n",
            "-----------------------\n",
            "3.0404832469967418\n"
          ],
          "name": "stdout"
        }
      ]
    },
    {
      "cell_type": "markdown",
      "metadata": {
        "id": "GIpB4NJxgcfs"
      },
      "source": [
        "#### KNNBaseline"
      ]
    },
    {
      "cell_type": "code",
      "metadata": {
        "id": "tuE7M0QTgfTx"
      },
      "source": [
        "# Run cross validation on the data  \n",
        "cv_knn_baseline = cross_validate(knn_baseline, data, n_jobs=-1)"
      ],
      "execution_count": null,
      "outputs": []
    },
    {
      "cell_type": "code",
      "metadata": {
        "colab": {
          "base_uri": "https://localhost:8080/"
        },
        "id": "nwiBAfHag12A",
        "outputId": "7fcbd035-f1fe-45c8-b706-b95796f830bf"
      },
      "source": [
        "# Printing out the test metrics of the cross validation for comparison\n",
        "for i in cv_knn_baseline.items():\n",
        "    print(i)\n",
        "print('-----------------------')\n",
        "print(np.mean(cv_knn_baseline['test_rmse']))"
      ],
      "execution_count": null,
      "outputs": [
        {
          "output_type": "stream",
          "text": [
            "('test_rmse', array([3.10724959, 3.14165561, 2.93768616, 3.02241625, 2.98998328]))\n",
            "('test_mae', array([2.845, 2.8  , 2.6  , 2.665, 2.65 ]))\n",
            "('fit_time', (0.024007558822631836, 0.020999431610107422, 0.021000146865844727, 0.021010398864746094, 0.02200007438659668))\n",
            "('test_time', (0.002007722854614258, 0.003011465072631836, 0.0030126571655273438, 0.002988576889038086, 0.0019991397857666016))\n",
            "-----------------------\n",
            "3.0397981791878483\n"
          ],
          "name": "stdout"
        }
      ]
    },
    {
      "cell_type": "markdown",
      "metadata": {
        "id": "laT1QvZ6lbP7"
      },
      "source": [
        "### Optimizing the best FSM (SVD)"
      ]
    },
    {
      "cell_type": "code",
      "metadata": {
        "id": "md3yHdYWlhWK"
      },
      "source": [
        "# Setting up and running the Grid Search to find the best hyperparams for the \n",
        "# svd\n",
        "\n",
        "params = {'n_factors': [5, 10, 20, 50],\n",
        "          'reg_all': [0.3, 0.5, 0.7],\n",
        "          'lr_all':[0.01],\n",
        "          'init_mean':[0,1,5],\n",
        "          'init_std_dev':[0.05,0.1,0.5]}\n",
        "g_s_svd = GridSearchCV(SVD,param_grid=params,n_jobs=-1)\n",
        "g_s_svd.fit(data)"
      ],
      "execution_count": null,
      "outputs": []
    },
    {
      "cell_type": "code",
      "metadata": {
        "colab": {
          "base_uri": "https://localhost:8080/"
        },
        "id": "25QbQb46mTad",
        "outputId": "b5659fda-50e3-457a-eca2-2764e4408762"
      },
      "source": [
        "# Printing out the best parameters based on the Grid Search\n",
        "print(g_s_svd.best_score)\n",
        "print(g_s_svd.best_params)"
      ],
      "execution_count": null,
      "outputs": [
        {
          "output_type": "stream",
          "text": [
            "{'rmse': 3.0400226385620956, 'mae': 2.712}\n",
            "{'rmse': {'n_factors': 5, 'reg_all': 0.3, 'lr_all': 0.01, 'init_mean': 0, 'init_std_dev': 0.05}, 'mae': {'n_factors': 5, 'reg_all': 0.3, 'lr_all': 0.01, 'init_mean': 0, 'init_std_dev': 0.05}}\n"
          ],
          "name": "stdout"
        }
      ]
    },
    {
      "cell_type": "markdown",
      "metadata": {
        "id": "VLRa7mFchLnP"
      },
      "source": [
        "### Making Recommendations\n"
      ]
    },
    {
      "cell_type": "code",
      "metadata": {
        "colab": {
          "base_uri": "https://localhost:8080/"
        },
        "id": "TWfK7bfxhsop",
        "outputId": "293cdc03-cbe2-4470-9cf0-e52d242ef13a"
      },
      "source": [
        "# Instantiating the best model for predictions\n",
        "best_model = SVD(n_factors = 50, \n",
        "                 reg_all = 0.02, \n",
        "                 lr_all = 0.01, \n",
        "                 n_epochs = 30)\n",
        "best_model.fit(trainset)"
      ],
      "execution_count": null,
      "outputs": [
        {
          "output_type": "execute_result",
          "data": {
            "text/plain": [
              "<surprise.prediction_algorithms.matrix_factorization.SVD at 0x1f429e23430>"
            ]
          },
          "metadata": {
            "tags": []
          },
          "execution_count": 70
        }
      ]
    },
    {
      "cell_type": "code",
      "metadata": {
        "colab": {
          "base_uri": "https://localhost:8080/"
        },
        "id": "e-FiYybpi5Mi",
        "outputId": "1c35f68d-3785-47e7-8ba0-7a0a21d9dd02"
      },
      "source": [
        "#Quick Prediction to see if the model is working\n",
        "best_model.predict(2, 4)"
      ],
      "execution_count": null,
      "outputs": [
        {
          "output_type": "execute_result",
          "data": {
            "text/plain": [
              "Prediction(uid=2, iid=4, r_ui=None, est=5, details={'was_impossible': False})"
            ]
          },
          "metadata": {
            "tags": []
          },
          "execution_count": 71
        }
      ]
    },
    {
      "cell_type": "markdown",
      "metadata": {
        "id": "2aMxFX1knwQl"
      },
      "source": [
        "## Obtain the User Ratings"
      ]
    },
    {
      "cell_type": "markdown",
      "metadata": {
        "id": "jOjxHHUSgfOs"
      },
      "source": [
        "This function can be used to obtain user ratings when run. We have predefined user ratings that we define below for our recommendations."
      ]
    },
    {
      "cell_type": "code",
      "metadata": {
        "id": "Wt7tTyp3niit"
      },
      "source": [
        "# Function rating the movies based on the best model\n",
        "# def movie_rater(movie_df,num, genre=None):\n",
        "#     userID = 1000000\n",
        "#     rating_list = []\n",
        "#     while num > 0:\n",
        "#         if genre:\n",
        "#             movie = movie_df[movie_df['Genders'].str.contains(genre)].sample(1)['Name']\n",
        "#         else:\n",
        "#             movie = movie_df.sample(1)['Name']\n",
        "#         print(movie)\n",
        "#         rating = input('How do you rate this movie on a scale of 1-5, press n if you have not seen :\\n')\n",
        "#         if rating == 'n':\n",
        "#             continue\n",
        "#         else:\n",
        "#             rating_one_movie = {'user_id':userID,'anime_id':movie['MAL_ID'].values[0],'rating':rating}\n",
        "#             rating_list.append(rating_one_movie) \n",
        "#             num -= 1\n",
        "#     return rating_list      "
      ],
      "execution_count": null,
      "outputs": []
    },
    {
      "cell_type": "code",
      "metadata": {
        "id": "WlVegf8mn9NJ"
      },
      "source": [
        "# user_rating = movie_rater(anime_df,4,'Action')"
      ],
      "execution_count": null,
      "outputs": []
    },
    {
      "cell_type": "code",
      "metadata": {
        "id": "btJ2SacupJYB"
      },
      "source": [
        "# Predefined user ratings for recommendations\n",
        "user_rating = [{'anime_id': 2, 'rating': '7', 'user_id': 1000000},\n",
        "               {'anime_id': 30, 'rating': '10', 'user_id': 1000000},\n",
        "               {'anime_id': 32937, 'rating': '10', 'user_id': 1000000},\n",
        "               {'anime_id': 22199, 'rating': '5', 'user_id': 1000000},\n",
        "               {'anime_id': 18679, 'rating': '8', 'user_id': 1000000},\n",
        "               {'anime_id': 28121, 'rating': '1', 'user_id': 1000000}]\n"
      ],
      "execution_count": null,
      "outputs": []
    },
    {
      "cell_type": "code",
      "metadata": {
        "id": "SwQn03iKqFCr"
      },
      "source": [
        "## add the new ratings to the original ratings DataFrame\n",
        "new_ratings_df = anime_list_df.append(user_rating,ignore_index=True)\n",
        "new_data = Dataset.load_from_df(new_ratings_df,reader)"
      ],
      "execution_count": null,
      "outputs": []
    },
    {
      "cell_type": "markdown",
      "metadata": {
        "id": "iVs_n0phaYJG"
      },
      "source": [
        "### Make Predictions"
      ]
    },
    {
      "cell_type": "code",
      "metadata": {
        "id": "-N6x5rEtqOLl"
      },
      "source": [
        "# make predictions for the user\n",
        "list_of_anime = []\n",
        "for m_id in anime_list_df['anime_id'].unique():\n",
        "    list_of_anime.append( (m_id,best_model.predict(1000,m_id)[3]))"
      ],
      "execution_count": null,
      "outputs": []
    },
    {
      "cell_type": "code",
      "metadata": {
        "id": "cAsvJpZaqTaJ"
      },
      "source": [
        "# order the predictions from highest to lowest rated\n",
        "ranked_anime = sorted(list_of_anime, key=lambda x:x[1], reverse=True)"
      ],
      "execution_count": null,
      "outputs": []
    },
    {
      "cell_type": "code",
      "metadata": {
        "colab": {
          "base_uri": "https://localhost:8080/"
        },
        "id": "odhnEnq8qUF9",
        "outputId": "174d45d5-2469-4726-8fdf-f78146ac07cd"
      },
      "source": [
        "# return the top n recommendations using the \n",
        "def recommended_movies(user_ratings,anime_title_df,n):\n",
        "        for idx, rec in enumerate(user_ratings):\n",
        "            title = anime_title_df.loc[anime_title_df['MAL_ID'] == int(rec[0])]['Name']\n",
        "            print('Recommendation # ', idx+1, ': ', title, '\\n')\n",
        "            n-= 1\n",
        "            if n == 0:\n",
        "                break\n",
        "\n",
        "recommended_movies(ranked_anime,anime_df,10)"
      ],
      "execution_count": null,
      "outputs": [
        {
          "output_type": "stream",
          "text": [
            "Recommendation #  1 :  16878    Re:Zero kara Hajimeru Isekai Seikatsu 2nd Seas...\n",
            "Name: Name, dtype: object \n",
            "\n",
            "Recommendation #  2 :  8625    Akame ga Kill!\n",
            "Name: Name, dtype: object \n",
            "\n",
            "Recommendation #  3 :  8302    SoniAni: Super Sonico The Animation\n",
            "Name: Name, dtype: object \n",
            "\n",
            "Recommendation #  4 :  5238    Kuragehime\n",
            "Name: Name, dtype: object \n",
            "\n",
            "Recommendation #  5 :  7880    Gingitsune\n",
            "Name: Name, dtype: object \n",
            "\n",
            "Recommendation #  6 :  15043    Dorohedoro\n",
            "Name: Name, dtype: object \n",
            "\n",
            "Recommendation #  7 :  15037    Darwin's Game\n",
            "Name: Name, dtype: object \n",
            "\n",
            "Recommendation #  8 :  1393    Death Note\n",
            "Name: Name, dtype: object \n",
            "\n",
            "Recommendation #  9 :  13097    Youkoso Jitsuryoku Shijou Shugi no Kyoushitsu ...\n",
            "Name: Name, dtype: object \n",
            "\n",
            "Recommendation #  10 :  11    One Piece\n",
            "Name: Name, dtype: object \n",
            "\n"
          ],
          "name": "stdout"
        }
      ]
    },
    {
      "cell_type": "markdown",
      "metadata": {
        "id": "DQa7SyVrEl3a"
      },
      "source": [
        "# Results\n",
        "\n",
        "From ALS model, RMSE is around 5.6.\n",
        "From SVD model, RMSE is around 3.1, which is better judging by the number.\n",
        "\n",
        "## Example of results from SVD model:\n",
        "We add a new user which some preference.\n",
        "![table1](./imgs/input.png)\n",
        "\n",
        "Here are 5 examples out of the total 10 recommended anime.\n",
        "1. Code Geass: Hangyaku no Lelouch R2\n",
        "2. Major S6\n",
        "3. Death Note\n",
        "4. One Punch Man\n",
        "5. Black Lagoon: The Second Barrage\n",
        "\n",
        "From 10 recommended results, we have found that 4 of them are already seen and liked; 2 of them are recommended by other services; 1 is new but recommended by friends; and 3 of them are never heard but promising."
      ]
    },
    {
      "cell_type": "markdown",
      "metadata": {
        "id": "-hGdZPF1gfOu"
      },
      "source": [
        "# Conclusions\n",
        "\n",
        "- SVD model does the best job with 3.1 RMSE.\n",
        "- We are satisfied with the results so far."
      ]
    },
    {
      "cell_type": "markdown",
      "metadata": {
        "id": "nUUn8g8VgfOu"
      },
      "source": [
        "# Next Steps\n",
        "\n",
        "In order to improve results, we might need to break down the data even more. Some anime in the dataset has multiple seasons. Combining them might give a better RMSE score. "
      ]
    },
    {
      "cell_type": "code",
      "metadata": {
        "id": "rvu9ogJvvZu1"
      },
      "source": [
        ""
      ],
      "execution_count": null,
      "outputs": []
    }
  ]
}